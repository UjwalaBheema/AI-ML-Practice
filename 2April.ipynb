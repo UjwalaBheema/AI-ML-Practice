{
 "cells": [
  {
   "cell_type": "code",
   "execution_count": 4,
   "id": "50701b24",
   "metadata": {},
   "outputs": [],
   "source": [
    "import tensorflow\n",
    "import keras"
   ]
  },
  {
   "cell_type": "code",
   "execution_count": 6,
   "id": "7c559c79",
   "metadata": {},
   "outputs": [],
   "source": [
    "def binary_step(x):\n",
    "    if x <0:\n",
    "        return 0\n",
    "    else: return 1"
   ]
  },
  {
   "cell_type": "code",
   "execution_count": 8,
   "id": "4804ff32",
   "metadata": {},
   "outputs": [
    {
     "data": {
      "text/plain": [
       "1"
      ]
     },
     "execution_count": 8,
     "metadata": {},
     "output_type": "execute_result"
    }
   ],
   "source": [
    "binary_step(10)"
   ]
  },
  {
   "cell_type": "code",
   "execution_count": 10,
   "id": "736d406d",
   "metadata": {},
   "outputs": [
    {
     "data": {
      "text/plain": [
       "0"
      ]
     },
     "execution_count": 10,
     "metadata": {},
     "output_type": "execute_result"
    }
   ],
   "source": [
    "binary_step(-7)"
   ]
  },
  {
   "cell_type": "code",
   "execution_count": 12,
   "id": "84a326cd",
   "metadata": {},
   "outputs": [],
   "source": [
    "import numpy as np\n",
    "\n",
    "def linear_function(x):\n",
    "    z=(1+(1+np.exp(-x)))\n",
    "    return z\n",
    "    "
   ]
  },
  {
   "cell_type": "code",
   "execution_count": 17,
   "id": "6ef1888c",
   "metadata": {},
   "outputs": [
    {
     "data": {
      "text/plain": [
       "22028.465794806718"
      ]
     },
     "execution_count": 17,
     "metadata": {},
     "output_type": "execute_result"
    }
   ],
   "source": [
    "linear_function(-20)"
   ]
  },
  {
   "cell_type": "code",
   "execution_count": 18,
   "id": "78b9e727",
   "metadata": {},
   "outputs": [
    {
     "data": {
      "text/plain": [
       "2.3538526683702e+17"
      ]
     },
     "execution_count": 18,
     "metadata": {},
     "output_type": "execute_result"
    }
   ],
   "source": [
    "linear_function(-40)"
   ]
  },
  {
   "cell_type": "code",
   "execution_count": 20,
   "id": "a85b0626",
   "metadata": {},
   "outputs": [
    {
     "data": {
      "text/plain": [
       "2.0000453999297623"
      ]
     },
     "execution_count": 20,
     "metadata": {},
     "output_type": "execute_result"
    }
   ],
   "source": [
    "linear_function(10)"
   ]
  },
  {
   "cell_type": "code",
   "execution_count": 19,
   "id": "dab32250",
   "metadata": {},
   "outputs": [
    {
     "data": {
      "text/plain": [
       "2.000000002061154"
      ]
     },
     "execution_count": 19,
     "metadata": {},
     "output_type": "execute_result"
    }
   ],
   "source": [
    "linear_function(20)"
   ]
  },
  {
   "cell_type": "code",
   "execution_count": 24,
   "id": "3953a7d0",
   "metadata": {},
   "outputs": [],
   "source": [
    "def sigmoid(x):\n",
    "    z=(1/(1+np.exp(-x)))\n",
    "    return z\n"
   ]
  },
  {
   "cell_type": "code",
   "execution_count": 29,
   "id": "08c727eb",
   "metadata": {},
   "outputs": [
    {
     "data": {
      "text/plain": [
       "0.9999546021312976"
      ]
     },
     "execution_count": 29,
     "metadata": {},
     "output_type": "execute_result"
    }
   ],
   "source": [
    "sigmoid(10)"
   ]
  },
  {
   "cell_type": "code",
   "execution_count": 30,
   "id": "5c291879",
   "metadata": {},
   "outputs": [
    {
     "data": {
      "text/plain": [
       "4.5397868702434395e-05"
      ]
     },
     "execution_count": 30,
     "metadata": {},
     "output_type": "execute_result"
    }
   ],
   "source": [
    "sigmoid(-10) # 4.5397868702434395e-05 - 10"
   ]
  },
  {
   "cell_type": "code",
   "execution_count": 31,
   "id": "6b0a1de3",
   "metadata": {},
   "outputs": [],
   "source": [
    "def tanh_function(x):\n",
    "    z = (2/(1+np.exp(-2*x)))-1\n",
    "    return z"
   ]
  },
  {
   "cell_type": "code",
   "execution_count": 32,
   "id": "c78485d8",
   "metadata": {},
   "outputs": [
    {
     "data": {
      "text/plain": [
       "0.9999999958776926"
      ]
     },
     "execution_count": 32,
     "metadata": {},
     "output_type": "execute_result"
    }
   ],
   "source": [
    "tanh_function(10)"
   ]
  },
  {
   "cell_type": "code",
   "execution_count": 33,
   "id": "91c5ca7d",
   "metadata": {},
   "outputs": [
    {
     "data": {
      "text/plain": [
       "-0.9999999958776927"
      ]
     },
     "execution_count": 33,
     "metadata": {},
     "output_type": "execute_result"
    }
   ],
   "source": [
    "tanh_function(-10)"
   ]
  },
  {
   "cell_type": "code",
   "execution_count": 34,
   "id": "820e3ae3",
   "metadata": {},
   "outputs": [
    {
     "data": {
      "text/plain": [
       "-1.0"
      ]
     },
     "execution_count": 34,
     "metadata": {},
     "output_type": "execute_result"
    }
   ],
   "source": [
    "tanh_function(-100)"
   ]
  },
  {
   "cell_type": "code",
   "execution_count": 35,
   "id": "502342a0",
   "metadata": {},
   "outputs": [
    {
     "data": {
      "text/plain": [
       "1.0"
      ]
     },
     "execution_count": 35,
     "metadata": {},
     "output_type": "execute_result"
    }
   ],
   "source": [
    "tanh_function(100)"
   ]
  },
  {
   "cell_type": "code",
   "execution_count": 36,
   "id": "a9dc026f",
   "metadata": {},
   "outputs": [
    {
     "data": {
      "text/plain": [
       "1.0"
      ]
     },
     "execution_count": 36,
     "metadata": {},
     "output_type": "execute_result"
    }
   ],
   "source": [
    "tanh_function(30)"
   ]
  },
  {
   "cell_type": "code",
   "execution_count": 38,
   "id": "c9b42d81",
   "metadata": {},
   "outputs": [
    {
     "data": {
      "text/plain": [
       "0.9999999958776926"
      ]
     },
     "execution_count": 38,
     "metadata": {},
     "output_type": "execute_result"
    }
   ],
   "source": [
    "tanh_function(10)"
   ]
  },
  {
   "cell_type": "code",
   "execution_count": 42,
   "id": "77b23541",
   "metadata": {},
   "outputs": [
    {
     "data": {
      "text/plain": [
       "1.0"
      ]
     },
     "execution_count": 42,
     "metadata": {},
     "output_type": "execute_result"
    }
   ],
   "source": [
    "tanh_function(20)"
   ]
  },
  {
   "cell_type": "code",
   "execution_count": 44,
   "id": "196ca2d3",
   "metadata": {},
   "outputs": [],
   "source": [
    "def leaky_relu_function(x):\n",
    "    if x<0:\n",
    "        return  0.01*x\n",
    "    else:\n",
    "        return x"
   ]
  },
  {
   "cell_type": "code",
   "execution_count": 45,
   "id": "1530b726",
   "metadata": {},
   "outputs": [
    {
     "data": {
      "text/plain": [
       "-0.01"
      ]
     },
     "execution_count": 45,
     "metadata": {},
     "output_type": "execute_result"
    }
   ],
   "source": [
    "leaky_relu_function(-1)"
   ]
  },
  {
   "cell_type": "code",
   "execution_count": 48,
   "id": "ba1f6146",
   "metadata": {},
   "outputs": [
    {
     "data": {
      "text/plain": [
       "-0.09"
      ]
     },
     "execution_count": 48,
     "metadata": {},
     "output_type": "execute_result"
    }
   ],
   "source": [
    "leaky_relu_function(-9)"
   ]
  },
  {
   "cell_type": "code",
   "execution_count": 49,
   "id": "f103a261",
   "metadata": {},
   "outputs": [
    {
     "data": {
      "text/plain": [
       "10"
      ]
     },
     "execution_count": 49,
     "metadata": {},
     "output_type": "execute_result"
    }
   ],
   "source": [
    "leaky_relu_function(10)"
   ]
  },
  {
   "cell_type": "code",
   "execution_count": 55,
   "id": "122dfe89",
   "metadata": {},
   "outputs": [],
   "source": [
    "def softmax_function(x):\n",
    "    z=np.exp(x)\n",
    "    z_=z/z.sum()\n",
    "    return z_"
   ]
  },
  {
   "cell_type": "code",
   "execution_count": 58,
   "id": "92c4c5a5",
   "metadata": {},
   "outputs": [],
   "source": [
    "ar = softmax_function([12,-0,-100,100,10,-10000])"
   ]
  },
  {
   "cell_type": "code",
   "execution_count": 60,
   "id": "433abaef",
   "metadata": {},
   "outputs": [
    {
     "data": {
      "text/plain": [
       "1.0"
      ]
     },
     "execution_count": 60,
     "metadata": {},
     "output_type": "execute_result"
    }
   ],
   "source": [
    "sum = 0 \n",
    "for a in ar:\n",
    "    sum += a\n",
    "    \n",
    "sum"
   ]
  },
  {
   "cell_type": "code",
   "execution_count": null,
   "id": "721e7298",
   "metadata": {},
   "outputs": [],
   "source": []
  },
  {
   "cell_type": "code",
   "execution_count": 56,
   "id": "12c8c397",
   "metadata": {},
   "outputs": [
    {
     "data": {
      "text/plain": [
       "array([0.46690469, 0.06318868, 0.17176464, 0.06318868, 0.06318868,\n",
       "       0.17176464])"
      ]
     },
     "execution_count": 56,
     "metadata": {},
     "output_type": "execute_result"
    }
   ],
   "source": [
    "softmax_function([2,0,1,0,0,1])"
   ]
  }
 ],
 "metadata": {
  "kernelspec": {
   "display_name": "Python 3 (ipykernel)",
   "language": "python",
   "name": "python3"
  },
  "language_info": {
   "codemirror_mode": {
    "name": "ipython",
    "version": 3
   },
   "file_extension": ".py",
   "mimetype": "text/x-python",
   "name": "python",
   "nbconvert_exporter": "python",
   "pygments_lexer": "ipython3",
   "version": "3.11.3"
  }
 },
 "nbformat": 4,
 "nbformat_minor": 5
}
