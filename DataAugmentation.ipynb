{
 "cells": [
  {
   "cell_type": "code",
   "execution_count": 1,
   "id": "9820f96c",
   "metadata": {},
   "outputs": [
    {
     "name": "stderr",
     "output_type": "stream",
     "text": [
      "2024-04-04 16:10:35.780569: I tensorflow/core/platform/cpu_feature_guard.cc:210] This TensorFlow binary is optimized to use available CPU instructions in performance-critical operations.\n",
      "To enable the following instructions: AVX2 AVX512F AVX512_VNNI FMA, in other operations, rebuild TensorFlow with the appropriate compiler flags.\n"
     ]
    }
   ],
   "source": [
    "from tensorflow.keras.preprocessing.image import ImageDataGenerator, load_img,img_to_array"
   ]
  },
  {
   "cell_type": "code",
   "execution_count": 3,
   "id": "31d91d3e",
   "metadata": {},
   "outputs": [],
   "source": [
    "datgen=ImageDataGenerator(rotation_range=40,width_shift_range=0.2, height_shift_range=0.2,shear_range=0.2,\n",
    "                          zoom_range=0.2,horizontal_flip=True, fill_mode='nearest')"
   ]
  },
  {
   "cell_type": "code",
   "execution_count": 5,
   "id": "b976b14b",
   "metadata": {},
   "outputs": [],
   "source": [
    "imag = load_img(\"0-04-08-0a3ce9e823a38581b790b5658a049e8d4d0c2c29228b320079e3efcd261a7d3a_1c6db8f791a6ef.jpg\")\n",
    "x=img_to_array(imag)"
   ]
  },
  {
   "cell_type": "code",
   "execution_count": 6,
   "id": "e239a89f",
   "metadata": {},
   "outputs": [],
   "source": [
    "x=x.reshape((1,)+x.shape)"
   ]
  },
  {
   "cell_type": "code",
   "execution_count": 11,
   "id": "16e6427c",
   "metadata": {},
   "outputs": [],
   "source": [
    "i=0\n",
    "for batch in datgen.flow(x,batch_size=1, save_to_dir=\"preview\", save_prefix=\"cat\",save_format=\"jpeg\"):\n",
    "    i+=1\n",
    "    if i>20:\n",
    "        break"
   ]
  },
  {
   "cell_type": "code",
   "execution_count": 20,
   "id": "97024850",
   "metadata": {},
   "outputs": [],
   "source": [
    "i=0\n",
    "for batch in datgen.flow(x, save_to_dir=\"preview3\", save_prefix=\"car\",save_format=\"jpeg\"):\n",
    "    i+=1\n",
    "    if i>20:\n",
    "        break"
   ]
  },
  {
   "cell_type": "code",
   "execution_count": 23,
   "id": "27e9af4f",
   "metadata": {},
   "outputs": [],
   "source": [
    "import cv2\n",
    "import numpy as np \n",
    "import tkinter as tk\n",
    "from tkinter import filedialog\n",
    "# from PIL import Image, UmageTk\n",
    "from PIL import Image, ImageTk\n"
   ]
  }
 ],
 "metadata": {
  "kernelspec": {
   "display_name": "Python 3 (ipykernel)",
   "language": "python",
   "name": "python3"
  },
  "language_info": {
   "codemirror_mode": {
    "name": "ipython",
    "version": 3
   },
   "file_extension": ".py",
   "mimetype": "text/x-python",
   "name": "python",
   "nbconvert_exporter": "python",
   "pygments_lexer": "ipython3",
   "version": "3.11.3"
  }
 },
 "nbformat": 4,
 "nbformat_minor": 5
}
