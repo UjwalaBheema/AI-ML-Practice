{
 "cells": [
  {
   "cell_type": "code",
   "execution_count": null,
   "id": "4427e1bf",
   "metadata": {},
   "outputs": [],
   "source": [
    "import pandas as pd\n",
    "import numpy as np\n",
    "import seaborn as sns\n",
    "import matplotlib.pyplot as plt\n",
    "\n",
    "import warnings\n",
    "warnings.filterwarnings(\"ignore\")\n",
    "\n",
    "# Set display options to show all columns and rows\n",
    "pd.set_option(\"display.max_columns\", None)\n",
    "pd.set_option(\"display.max_rows\", None)\n",
    "\n",
    "\n",
    "# Replace 'file_path' with the path to your TSV file\n",
    "file_path = 'SMSSpamCollection.tsv'\n",
    "\n",
    "# Load the TSV file into a DataFrame\n",
    "df = pd.read_csv(file_path, sep='\\t', names=[\"label\", \"message\"])\n",
    "\n",
    "\n",
    "# Display the DataFrame\n",
    "df"
   ]
  }
 ],
 "metadata": {
  "kernelspec": {
   "display_name": "Python 3 (ipykernel)",
   "language": "python",
   "name": "python3"
  },
  "language_info": {
   "codemirror_mode": {
    "name": "ipython",
    "version": 3
   },
   "file_extension": ".py",
   "mimetype": "text/x-python",
   "name": "python",
   "nbconvert_exporter": "python",
   "pygments_lexer": "ipython3",
   "version": "3.11.3"
  }
 },
 "nbformat": 4,
 "nbformat_minor": 5
}
