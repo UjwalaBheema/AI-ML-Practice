{
 "cells": [
  {
   "cell_type": "code",
   "execution_count": 3,
   "id": "bb183fcd",
   "metadata": {},
   "outputs": [],
   "source": [
    "import numpy as np\n",
    "import pandas as pd\n",
    "import matplotlib.pyplot as plt\n",
    "\n",
    "from tensorflow.keras.datasets import fashion_mnist\n",
    "import warnings\n",
    "warnings.filterwarnings(\"ignore\")\n",
    "\n",
    "# Set display options to show all columns and rows\n",
    "pd.set_option(\"display.max_columns\", None)\n",
    "pd.set_option(\"display.max_rows\", None)\n",
    "\n",
    "#Linear regression models import\n"
   ]
  },
  {
   "cell_type": "code",
   "execution_count": 6,
   "id": "d0a9c41d",
   "metadata": {},
   "outputs": [
    {
     "name": "stdout",
     "output_type": "stream",
     "text": [
      "Downloading data from https://storage.googleapis.com/tensorflow/tf-keras-datasets/train-labels-idx1-ubyte.gz\n",
      "29515/29515 [==============================] - 0s 0us/step\n",
      "Downloading data from https://storage.googleapis.com/tensorflow/tf-keras-datasets/train-images-idx3-ubyte.gz\n",
      "26421880/26421880 [==============================] - 12s 0us/step\n",
      "Downloading data from https://storage.googleapis.com/tensorflow/tf-keras-datasets/t10k-labels-idx1-ubyte.gz\n",
      "5148/5148 [==============================] - 0s 0us/step\n",
      "Downloading data from https://storage.googleapis.com/tensorflow/tf-keras-datasets/t10k-images-idx3-ubyte.gz\n",
      "4422102/4422102 [==============================] - 3s 1us/step\n"
     ]
    }
   ],
   "source": [
    "# 0-Tshirt /Top\n",
    "# 1-Trouser\n",
    "# 2-Pullover\n",
    "# 3-Dress\n",
    "# 4-Coat\n",
    "# 5-Sandal\n",
    "# 6-Shirt\n",
    "# 7-Sneaker\n",
    "# 8-Bag\n",
    "# 9-Ankle boot\n",
    "\n",
    "import ssl\n",
    "ssl._create_default_https_context = ssl._create_unverified_context\n",
    "(x_train, y_train), (x_test, y_test) = fashion_mnist.load_data()"
   ]
  },
  {
   "cell_type": "code",
   "execution_count": 8,
   "id": "994c64e9",
   "metadata": {},
   "outputs": [],
   "source": [
    "(x_train, y_train),(x_test, y_test) = fashion_mnist.load_data()"
   ]
  },
  {
   "cell_type": "code",
   "execution_count": 9,
   "id": "19b6cd9b",
   "metadata": {},
   "outputs": [
    {
     "name": "stdout",
     "output_type": "stream",
     "text": [
      "(60000, 28, 28)\n",
      "(60000,)\n",
      "(10000, 28, 28)\n",
      "(10000,)\n"
     ]
    }
   ],
   "source": [
    "print(x_train.shape)\n",
    "print(y_train.shape)\n",
    "print(x_test.shape)\n",
    "print(y_test.shape)"
   ]
  },
  {
   "cell_type": "code",
   "execution_count": 14,
   "id": "89f26715",
   "metadata": {},
   "outputs": [
    {
     "data": {
      "text/plain": [
       "array([[  0,   0,   0,   0,   0,   0,   3,   0,   0,   0,  48,  73,  96,\n",
       "        110, 115, 110, 115, 107,  90,  72,  50,  25,   0,   0,   1,   1,\n",
       "          0,   0],\n",
       "       [  0,   0,   0,   1,   0,   5,   0,  15, 185, 243, 244, 247, 245,\n",
       "        245, 244, 247, 246, 247, 250, 251, 246, 247, 227,  42,   0,   1,\n",
       "          0,   0],\n",
       "       [  0,   0,   0,   0,   4,   0,   4, 220, 105,  56, 114,  73,  81,\n",
       "         99,  76,  38, 136,  68,  18,  82,  73,  11, 129, 240,   0,   0,\n",
       "          1,   0],\n",
       "       [  0,   0,   1,   0,   1,   0, 139, 190,   8, 174,  79,  63,  70,\n",
       "        119,  48, 110,  30,  55, 139, 147,  50, 135,   0, 227, 108,   0,\n",
       "          0,   0],\n",
       "       [  0,   0,   1,   0,   0,   0, 203, 213,   2, 113, 173, 102, 111,\n",
       "        182,  63,   6, 143,  45,  72, 255,  62,   0,  81, 227, 182,   0,\n",
       "          0,   0],\n",
       "       [  0,   0,   1,   0,   0,   0, 214, 190, 202,  71,  64, 113, 109,\n",
       "        157,  39, 191, 255,  29, 174, 198,  74,  40, 113, 234, 182,   0,\n",
       "          0,   0],\n",
       "       [  0,   0,   0,   1,   0,  26, 204, 174,  20,  49, 177,  45,   0,\n",
       "        172,   0, 221, 227,  18,  44,  80,  76, 120,   0, 197, 195,   0,\n",
       "          0,   0],\n",
       "       [  0,   0,   0,   0,  15, 133, 197, 217, 134, 126, 219, 105, 241,\n",
       "        239, 117, 156, 155, 144, 147, 168, 141, 182, 255, 214, 197, 138,\n",
       "          0,   0],\n",
       "       [  0,   0,   0,   5, 178, 235, 194, 206,   0,  40, 122,  48, 170,\n",
       "         14,   0,   0,   0,   0,   2,   1,   0,   0, 151, 231, 210, 194,\n",
       "          0,   0],\n",
       "       [  0,   0,  82, 147,  32, 210, 189, 241,  16,   0, 245, 231,  56,\n",
       "          0,  39,  29,   9,   8,   7,  23,  42,  22,   0, 216, 209, 146,\n",
       "          0,   0],\n",
       "       [  0,   0,  46, 255, 161, 108, 217, 160,  12,   9, 207, 255,  47,\n",
       "          5,  29,  26,  68,  50,  64,  58,  20,  42,   0, 211, 208, 205,\n",
       "         36,   0],\n",
       "       [  0,   0,   0, 249, 197, 112, 205, 185, 205, 213, 211, 225,  52,\n",
       "         10,   3,  96, 242, 220, 241, 201,   0,  17,   0, 208, 202, 239,\n",
       "        202,   0],\n",
       "       [  0,   0,   0,  59, 146, 248, 188, 197, 227, 221, 212, 255,  53,\n",
       "         11,   1,  78, 228, 207, 224, 171,   6,  43,  10, 197, 204, 238,\n",
       "        173,   0],\n",
       "       [  0,   0,   0,   0, 203, 255, 185, 177, 211, 213, 206, 255,  54,\n",
       "         10,   6, 103, 236, 224, 224, 229, 255, 255, 255, 217, 199, 255,\n",
       "         86,   0],\n",
       "       [  0,   0,   0, 255, 252, 252, 185, 180, 213, 211, 209, 255,  54,\n",
       "          8,  30,  31,  61,  44,  50,  45,  32,  55, 250, 219, 199, 233,\n",
       "         16,   0],\n",
       "       [  0,   0,  61, 248, 184,   0, 196, 206, 208, 217, 207, 255,  56,\n",
       "          7,  44,  30,  19,  17,  15,  17,  21,   0,  63, 248, 212, 156,\n",
       "         23,   0],\n",
       "       [  0,   0,  87, 253,  70,   0, 236, 200, 222, 213, 202, 255,  62,\n",
       "          7,  44,  26,   9,   9,   7,  22,  45,  39,   0, 194, 235, 143,\n",
       "         39,   0],\n",
       "       [  0,   0,  34, 255,  40,   0, 243, 201, 217, 210, 203, 255,  62,\n",
       "          8,  33,  43,  74,  57,  73,  64,  22,  40,   0, 210, 208, 156,\n",
       "         90,   0],\n",
       "       [  0,   0,   0, 235,  69,   0, 252, 210, 215, 213, 206, 255,  63,\n",
       "         22,   7, 119, 242, 224, 243, 227,   0,  43,   0, 210, 205, 167,\n",
       "        131,   0],\n",
       "       [  0,   0,   0,  77, 145,   0, 249, 246, 221, 215, 206, 255,  72,\n",
       "         24,  11,  96, 225, 204, 223, 182,   0,  43,   0, 210, 203, 174,\n",
       "        154,   0],\n",
       "       [  0,   0,   0,   0, 174, 164, 212, 237, 224, 216, 213, 255,  57,\n",
       "          0,   2, 128, 250, 228, 247, 236,   0,  40,   0, 210, 197, 181,\n",
       "        162,   0],\n",
       "       [  0,   0,   1,   0,  22, 247, 233, 230, 233, 234, 230, 249, 167,\n",
       "         86,  20,  42, 138, 108, 127, 103,  15,  43,   0, 202, 211, 172,\n",
       "        118,   0],\n",
       "       [  0,   0,   2,   0,  40, 242, 228, 226, 225, 230, 232, 231, 254,\n",
       "        236, 221, 138,   8,  19,   6,  19,  45,  32,   0, 208, 186, 188,\n",
       "        108,   0],\n",
       "       [  0,   0,   2,   0,  40, 209, 188, 168, 151, 180, 186, 190, 194,\n",
       "        197, 226, 167,  19,  47,  38,  21,  13,   2, 136, 213, 171, 232,\n",
       "         43,   0],\n",
       "       [  0,   0,   4,   0,  42, 221, 203, 169, 174, 192, 204, 210, 211,\n",
       "        212, 205, 154,  92, 101,  96, 100,  87, 155, 235, 204, 214, 128,\n",
       "          0,   0],\n",
       "       [  0,   0,   2,   0,  51, 211, 189, 157, 175, 189, 200, 204, 204,\n",
       "        212, 184, 235, 245, 238, 238, 241, 245, 236, 195,  95,  19,   0,\n",
       "          0,   0],\n",
       "       [  0,   0,   6,   0,  72, 253, 242, 191, 190, 203, 212, 214, 211,\n",
       "        214, 215, 195, 196, 197, 192, 173, 135,  71,   6,   0,   0,   0,\n",
       "          0,   0],\n",
       "       [  0,   0,   1,   0,   0,  35,  91, 102, 132, 162, 176, 183, 188,\n",
       "        192, 179,   0,   0,   0,   0,   0,   0,   0,   0,   2,   4,   3,\n",
       "          0,   0]], dtype=uint8)"
      ]
     },
     "execution_count": 14,
     "metadata": {},
     "output_type": "execute_result"
    }
   ],
   "source": [
    "index = 6000\n",
    "x_train[index]"
   ]
  },
  {
   "cell_type": "code",
   "execution_count": 15,
   "id": "ca92b832",
   "metadata": {},
   "outputs": [
    {
     "data": {
      "text/plain": [
       "<matplotlib.image.AxesImage at 0x135f2dad0>"
      ]
     },
     "execution_count": 15,
     "metadata": {},
     "output_type": "execute_result"
    },
    {
     "data": {
      "image/png": "[encoded data removed]",
      "text/plain": [
       "<Figure size 480x480 with 1 Axes>"
      ]
     },
     "metadata": {},
     "output_type": "display_data"
    }
   ],
   "source": [
    "index = 6000\n",
    "x_train[index]\n",
    "plt.matshow(x_train[index])"
   ]
  },
  {
   "cell_type": "code",
   "execution_count": 19,
   "id": "45f81ea2",
   "metadata": {},
   "outputs": [
    {
     "data": {
      "text/plain": [
       "8"
      ]
     },
     "execution_count": 19,
     "metadata": {},
     "output_type": "execute_result"
    }
   ],
   "source": [
    "y_train[6000]\n",
    "# plt.matshow()\n",
    "# index = 6000\n",
    "# x_train[index]"
   ]
  },
  {
   "cell_type": "code",
   "execution_count": 20,
   "id": "935e0ba7",
   "metadata": {},
   "outputs": [
    {
     "data": {
      "text/plain": [
       "<matplotlib.image.AxesImage at 0x1372dbe90>"
      ]
     },
     "execution_count": 20,
     "metadata": {},
     "output_type": "execute_result"
    },
    {
     "data": {
      "image/png": "[encoded data removed]",
      "text/plain": [
       "<Figure size 480x480 with 1 Axes>"
      ]
     },
     "metadata": {},
     "output_type": "display_data"
    }
   ],
   "source": [
    "index = 10\n",
    "x_train[index]\n",
    "plt.matshow(x_train[index])"
   ]
  },
  {
   "cell_type": "code",
   "execution_count": 21,
   "id": "015efdfa",
   "metadata": {},
   "outputs": [
    {
     "data": {
      "text/plain": [
       "0"
      ]
     },
     "execution_count": 21,
     "metadata": {},
     "output_type": "execute_result"
    }
   ],
   "source": [
    "y_train[index]\n",
    "# 0-Tshirt /Top\n",
    "# 1-Trouser\n",
    "# 2-Pullover\n",
    "# 3-Dress\n",
    "# 4-Coat\n",
    "# 5-Sandal\n",
    "# 6-Shirt\n",
    "# 7-Sneaker\n",
    "# 8-Bag\n",
    "# 9-Ankle boot"
   ]
  },
  {
   "cell_type": "code",
   "execution_count": null,
   "id": "45eaa9ce",
   "metadata": {},
   "outputs": [],
   "source": []
  },
  {
   "cell_type": "code",
   "execution_count": 25,
   "id": "1c525208",
   "metadata": {},
   "outputs": [
    {
     "data": {
      "text/plain": [
       "array([[[0., 0., 0., ..., 0., 0., 0.],\n",
       "        [0., 0., 0., ..., 0., 0., 0.],\n",
       "        [0., 0., 0., ..., 0., 0., 0.],\n",
       "        ...,\n",
       "        [0., 0., 0., ..., 0., 0., 0.],\n",
       "        [0., 0., 0., ..., 0., 0., 0.],\n",
       "        [0., 0., 0., ..., 0., 0., 0.]],\n",
       "\n",
       "       [[0., 0., 0., ..., 0., 0., 0.],\n",
       "        [0., 0., 0., ..., 0., 0., 0.],\n",
       "        [0., 0., 0., ..., 0., 0., 0.],\n",
       "        ...,\n",
       "        [0., 0., 0., ..., 0., 0., 0.],\n",
       "        [0., 0., 0., ..., 0., 0., 0.],\n",
       "        [0., 0., 0., ..., 0., 0., 0.]],\n",
       "\n",
       "       [[0., 0., 0., ..., 0., 0., 0.],\n",
       "        [0., 0., 0., ..., 0., 0., 0.],\n",
       "        [0., 0., 0., ..., 0., 0., 0.],\n",
       "        ...,\n",
       "        [0., 0., 0., ..., 0., 0., 0.],\n",
       "        [0., 0., 0., ..., 0., 0., 0.],\n",
       "        [0., 0., 0., ..., 0., 0., 0.]],\n",
       "\n",
       "       ...,\n",
       "\n",
       "       [[0., 0., 0., ..., 0., 0., 0.],\n",
       "        [0., 0., 0., ..., 0., 0., 0.],\n",
       "        [0., 0., 0., ..., 0., 0., 0.],\n",
       "        ...,\n",
       "        [0., 0., 0., ..., 0., 0., 0.],\n",
       "        [0., 0., 0., ..., 0., 0., 0.],\n",
       "        [0., 0., 0., ..., 0., 0., 0.]],\n",
       "\n",
       "       [[0., 0., 0., ..., 0., 0., 0.],\n",
       "        [0., 0., 0., ..., 0., 0., 0.],\n",
       "        [0., 0., 0., ..., 0., 0., 0.],\n",
       "        ...,\n",
       "        [0., 0., 0., ..., 0., 0., 0.],\n",
       "        [0., 0., 0., ..., 0., 0., 0.],\n",
       "        [0., 0., 0., ..., 0., 0., 0.]],\n",
       "\n",
       "       [[0., 0., 0., ..., 0., 0., 0.],\n",
       "        [0., 0., 0., ..., 0., 0., 0.],\n",
       "        [0., 0., 0., ..., 0., 0., 0.],\n",
       "        ...,\n",
       "        [0., 0., 0., ..., 0., 0., 0.],\n",
       "        [0., 0., 0., ..., 0., 0., 0.],\n",
       "        [0., 0., 0., ..., 0., 0., 0.]]])"
      ]
     },
     "execution_count": 25,
     "metadata": {},
     "output_type": "execute_result"
    }
   ],
   "source": [
    "X_train_1 = x_train/255 \n",
    "X_train_1"
   ]
  },
  {
   "cell_type": "code",
   "execution_count": 24,
   "id": "f77198d9",
   "metadata": {},
   "outputs": [
    {
     "data": {
      "text/plain": [
       "array([0.03529412, 0.        , 0.        , ..., 0.01176471, 0.        ,\n",
       "       0.01960784])"
      ]
     },
     "execution_count": 24,
     "metadata": {},
     "output_type": "execute_result"
    }
   ],
   "source": [
    "Y_train_1 = y_train/255 \n",
    "Y_train_1"
   ]
  },
  {
   "cell_type": "code",
   "execution_count": 29,
   "id": "454316e7",
   "metadata": {},
   "outputs": [],
   "source": [
    "from tensorflow.keras.models import Sequential\n",
    "from tensorflow.keras.layers import Dense, Activation,Flatten"
   ]
  },
  {
   "cell_type": "code",
   "execution_count": 31,
   "id": "1967675f",
   "metadata": {},
   "outputs": [],
   "source": [
    "model=Sequential()"
   ]
  },
  {
   "cell_type": "code",
   "execution_count": 33,
   "id": "9b30a31b",
   "metadata": {},
   "outputs": [],
   "source": [
    "model.add(Flatten(input_shape=[28,28]))\n",
    "model.add(Dense(200, activation=\"relu\"))\n",
    "model.add(Dense(10, activation='softmax'))"
   ]
  },
  {
   "cell_type": "code",
   "execution_count": 34,
   "id": "3d062c31",
   "metadata": {},
   "outputs": [
    {
     "name": "stdout",
     "output_type": "stream",
     "text": [
      "Model: \"sequential_1\"\n",
      "_________________________________________________________________\n",
      " Layer (type)                Output Shape              Param #   \n",
      "=================================================================\n",
      " flatten (Flatten)           (None, 784)               0         \n",
      "                                                                 \n",
      " dense (Dense)               (None, 200)               157000    \n",
      "                                                                 \n",
      " dense_1 (Dense)             (None, 10)                2010      \n",
      "                                                                 \n",
      "=================================================================\n",
      "Total params: 159,010\n",
      "Trainable params: 159,010\n",
      "Non-trainable params: 0\n",
      "_________________________________________________________________\n"
     ]
    }
   ],
   "source": [
    "model.summary()"
   ]
  },
  {
   "cell_type": "code",
   "execution_count": 37,
   "id": "b81151e7",
   "metadata": {},
   "outputs": [],
   "source": [
    "model.compile(optimizer='adam', loss=\"sparse_categorical_crossentropy\", metrics=[\"accuracy\"])"
   ]
  },
  {
   "cell_type": "code",
   "execution_count": 38,
   "id": "dfa50916",
   "metadata": {},
   "outputs": [
    {
     "name": "stdout",
     "output_type": "stream",
     "text": [
      "Epoch 1/10\n",
      "1875/1875 [==============================] - 37s 19ms/step - loss: 3.3396 - accuracy: 0.7213\n",
      "Epoch 2/10\n",
      "1875/1875 [==============================] - 14s 7ms/step - loss: 0.5957 - accuracy: 0.7900\n",
      "Epoch 3/10\n",
      "1875/1875 [==============================] - 8s 4ms/step - loss: 0.5448 - accuracy: 0.8091\n",
      "Epoch 4/10\n",
      "1875/1875 [==============================] - 10s 6ms/step - loss: 0.5221 - accuracy: 0.8190\n",
      "Epoch 5/10\n",
      "1875/1875 [==============================] - 39s 21ms/step - loss: 0.5082 - accuracy: 0.8253\n",
      "Epoch 6/10\n",
      "1875/1875 [==============================] - 10s 5ms/step - loss: 0.4919 - accuracy: 0.8297\n",
      "Epoch 7/10\n",
      "1875/1875 [==============================] - 12s 6ms/step - loss: 0.4797 - accuracy: 0.8346\n",
      "Epoch 8/10\n",
      "1875/1875 [==============================] - 37s 20ms/step - loss: 0.4829 - accuracy: 0.8350\n",
      "Epoch 9/10\n",
      "1875/1875 [==============================] - 12s 6ms/step - loss: 0.4754 - accuracy: 0.8383\n",
      "Epoch 10/10\n",
      "1875/1875 [==============================] - 11s 6ms/step - loss: 0.4766 - accuracy: 0.8370\n"
     ]
    },
    {
     "data": {
      "text/plain": [
       "<keras.callbacks.History at 0x1374a5ed0>"
      ]
     },
     "execution_count": 38,
     "metadata": {},
     "output_type": "execute_result"
    }
   ],
   "source": [
    "model.fit(x_train, y_train, epochs=10)"
   ]
  },
  {
   "cell_type": "code",
   "execution_count": 39,
   "id": "88adf646",
   "metadata": {},
   "outputs": [
    {
     "name": "stdout",
     "output_type": "stream",
     "text": [
      "Epoch 1/20\n",
      "1875/1875 [==============================] - 10s 5ms/step - loss: 3.2534 - accuracy: 0.7010\n",
      "Epoch 2/20\n",
      "1875/1875 [==============================] - 37s 20ms/step - loss: 0.6415 - accuracy: 0.7714\n",
      "Epoch 3/20\n",
      "1875/1875 [==============================] - 8s 4ms/step - loss: 0.5453 - accuracy: 0.8132\n",
      "Epoch 4/20\n",
      "1875/1875 [==============================] - 8s 4ms/step - loss: 0.5200 - accuracy: 0.8268\n",
      "Epoch 5/20\n",
      "1875/1875 [==============================] - 11s 6ms/step - loss: 0.5049 - accuracy: 0.8324\n",
      "Epoch 6/20\n",
      "1875/1875 [==============================] - 35s 18ms/step - loss: 0.4835 - accuracy: 0.8372\n",
      "Epoch 7/20\n",
      "1875/1875 [==============================] - 10s 5ms/step - loss: 0.4797 - accuracy: 0.8382\n",
      "Epoch 8/20\n",
      "1875/1875 [==============================] - 9s 5ms/step - loss: 0.4694 - accuracy: 0.8421\n",
      "Epoch 9/20\n",
      "1875/1875 [==============================] - 11s 6ms/step - loss: 0.4658 - accuracy: 0.8438\n",
      "Epoch 10/20\n",
      "1875/1875 [==============================] - 34s 18ms/step - loss: 0.4597 - accuracy: 0.8464\n",
      "Epoch 11/20\n",
      "1875/1875 [==============================] - 10s 6ms/step - loss: 0.4548 - accuracy: 0.8490\n",
      "Epoch 12/20\n",
      "1875/1875 [==============================] - 10s 5ms/step - loss: 0.4508 - accuracy: 0.8495\n",
      "Epoch 13/20\n",
      "1875/1875 [==============================] - 15s 8ms/step - loss: 0.4494 - accuracy: 0.8491\n",
      "Epoch 14/20\n",
      "1875/1875 [==============================] - 30s 16ms/step - loss: 0.4580 - accuracy: 0.8482\n",
      "Epoch 15/20\n",
      "1875/1875 [==============================] - 10s 6ms/step - loss: 0.4467 - accuracy: 0.8529\n",
      "Epoch 16/20\n",
      "1875/1875 [==============================] - 10s 6ms/step - loss: 0.4420 - accuracy: 0.8512\n",
      "Epoch 17/20\n",
      "1875/1875 [==============================] - 27s 14ms/step - loss: 0.4391 - accuracy: 0.8527\n",
      "Epoch 18/20\n",
      "1875/1875 [==============================] - 20s 11ms/step - loss: 0.4442 - accuracy: 0.8528\n",
      "Epoch 19/20\n",
      "1875/1875 [==============================] - 11s 6ms/step - loss: 0.4356 - accuracy: 0.8520\n",
      "Epoch 20/20\n",
      "1875/1875 [==============================] - 12s 6ms/step - loss: 0.4373 - accuracy: 0.8557\n"
     ]
    },
    {
     "data": {
      "text/plain": [
       "<keras.callbacks.History at 0x1379651d0>"
      ]
     },
     "execution_count": 39,
     "metadata": {},
     "output_type": "execute_result"
    }
   ],
   "source": [
    "from tensorflow.keras.models import Sequential\n",
    "from tensorflow.keras.layers import Dense, Activation,Flatten\n",
    "\n",
    "model=Sequential()\n",
    "model.add(Flatten(input_shape=[28,28]))\n",
    "model.add(Dense(200, activation=\"relu\"))\n",
    "model.add(Dense(10, activation='softmax'))\n",
    "\n",
    "model.compile(optimizer='adam', loss=\"sparse_categorical_crossentropy\", metrics=[\"accuracy\"])\n",
    "model.fit(x_train, y_train, epochs=20)"
   ]
  },
  {
   "cell_type": "code",
   "execution_count": 40,
   "id": "baa6130e",
   "metadata": {},
   "outputs": [
    {
     "name": "stdout",
     "output_type": "stream",
     "text": [
      "Epoch 1/25\n",
      "1875/1875 [==============================] - 5s 3ms/step - loss: 3.3483 - accuracy: 0.7237\n",
      "Epoch 2/25\n",
      "1875/1875 [==============================] - 4s 2ms/step - loss: 0.6022 - accuracy: 0.7926\n",
      "Epoch 3/25\n",
      "1875/1875 [==============================] - 5s 3ms/step - loss: 0.5478 - accuracy: 0.8123\n",
      "Epoch 4/25\n",
      "1875/1875 [==============================] - 5s 2ms/step - loss: 0.5255 - accuracy: 0.8223\n",
      "Epoch 5/25\n",
      "1875/1875 [==============================] - 4s 2ms/step - loss: 0.5032 - accuracy: 0.8279\n",
      "Epoch 6/25\n",
      "1875/1875 [==============================] - 5s 3ms/step - loss: 0.4981 - accuracy: 0.8318\n",
      "Epoch 7/25\n",
      "1875/1875 [==============================] - 4s 2ms/step - loss: 0.4846 - accuracy: 0.8372\n",
      "Epoch 8/25\n",
      "1875/1875 [==============================] - 5s 2ms/step - loss: 0.4807 - accuracy: 0.8370\n",
      "Epoch 9/25\n",
      "1875/1875 [==============================] - 4s 2ms/step - loss: 0.4698 - accuracy: 0.8428\n",
      "Epoch 10/25\n",
      "1875/1875 [==============================] - 4s 2ms/step - loss: 0.4715 - accuracy: 0.8433\n",
      "Epoch 11/25\n",
      "1875/1875 [==============================] - 4s 2ms/step - loss: 0.4618 - accuracy: 0.8443\n",
      "Epoch 12/25\n",
      "1875/1875 [==============================] - 4s 2ms/step - loss: 0.4593 - accuracy: 0.8467\n",
      "Epoch 13/25\n",
      "1875/1875 [==============================] - 4s 2ms/step - loss: 0.4518 - accuracy: 0.8485\n",
      "Epoch 14/25\n",
      "1875/1875 [==============================] - 4s 2ms/step - loss: 0.4514 - accuracy: 0.8476\n",
      "Epoch 15/25\n",
      "1875/1875 [==============================] - 4s 2ms/step - loss: 0.4560 - accuracy: 0.8475\n",
      "Epoch 16/25\n",
      "1875/1875 [==============================] - 4s 2ms/step - loss: 0.4461 - accuracy: 0.8496\n",
      "Epoch 17/25\n",
      "1875/1875 [==============================] - 8s 4ms/step - loss: 0.4490 - accuracy: 0.8500\n",
      "Epoch 18/25\n",
      "1875/1875 [==============================] - 19s 10ms/step - loss: 0.4403 - accuracy: 0.8508\n",
      "Epoch 19/25\n",
      "1875/1875 [==============================] - 10s 5ms/step - loss: 0.4401 - accuracy: 0.8517\n",
      "Epoch 20/25\n",
      "1875/1875 [==============================] - 5s 3ms/step - loss: 0.4489 - accuracy: 0.8490\n",
      "Epoch 21/25\n",
      "1875/1875 [==============================] - 5s 3ms/step - loss: 0.4433 - accuracy: 0.8502\n",
      "Epoch 22/25\n",
      "1875/1875 [==============================] - 5s 3ms/step - loss: 0.4400 - accuracy: 0.8518\n",
      "Epoch 23/25\n",
      "1875/1875 [==============================] - 6s 3ms/step - loss: 0.4435 - accuracy: 0.8525\n",
      "Epoch 24/25\n",
      "1875/1875 [==============================] - 8s 4ms/step - loss: 0.4394 - accuracy: 0.8515\n",
      "Epoch 25/25\n",
      "1875/1875 [==============================] - 10s 5ms/step - loss: 0.4326 - accuracy: 0.8555\n"
     ]
    },
    {
     "data": {
      "text/plain": [
       "<keras.callbacks.History at 0x13830a150>"
      ]
     },
     "execution_count": 40,
     "metadata": {},
     "output_type": "execute_result"
    }
   ],
   "source": [
    "from tensorflow.keras.models import Sequential\n",
    "from tensorflow.keras.layers import Dense, Activation,Flatten\n",
    "\n",
    "model=Sequential()\n",
    "model.add(Flatten(input_shape=[28,28]))\n",
    "model.add(Dense(200, activation=\"relu\"))\n",
    "model.add(Dense(10, activation='softmax'))\n",
    "\n",
    "model.compile(optimizer='adam', loss=\"sparse_categorical_crossentropy\", metrics=[\"accuracy\"])\n",
    "model.fit(x_train, y_train, epochs=25)"
   ]
  },
  {
   "cell_type": "code",
   "execution_count": 51,
   "id": "265ef0a5",
   "metadata": {},
   "outputs": [
    {
     "name": "stdout",
     "output_type": "stream",
     "text": [
      "Model: \"sequential_3\"\n",
      "_________________________________________________________________\n",
      " Layer (type)                Output Shape              Param #   \n",
      "=================================================================\n",
      " flatten_2 (Flatten)         (None, 784)               0         \n",
      "                                                                 \n",
      " dense_4 (Dense)             (None, 200)               157000    \n",
      "                                                                 \n",
      " dense_5 (Dense)             (None, 10)                2010      \n",
      "                                                                 \n",
      "=================================================================\n",
      "Total params: 159,010\n",
      "Trainable params: 159,010\n",
      "Non-trainable params: 0\n",
      "_________________________________________________________________\n"
     ]
    }
   ],
   "source": [
    "model.summary()"
   ]
  },
  {
   "cell_type": "code",
   "execution_count": 41,
   "id": "3fd6fc9c",
   "metadata": {},
   "outputs": [
    {
     "name": "stdout",
     "output_type": "stream",
     "text": [
      "313/313 [==============================] - 1s 3ms/step\n"
     ]
    }
   ],
   "source": [
    "y_predict = model.predict(x_test)"
   ]
  },
  {
   "cell_type": "code",
   "execution_count": 45,
   "id": "96e0812d",
   "metadata": {},
   "outputs": [
    {
     "data": {
      "text/plain": [
       "array([2.88384590e-26, 1.09718465e-26, 0.00000000e+00, 1.07694527e-25,\n",
       "       0.00000000e+00, 1.12743652e-03, 0.00000000e+00, 2.92226411e-02,\n",
       "       1.33018465e-25, 9.69649911e-01], dtype=float32)"
      ]
     },
     "execution_count": 45,
     "metadata": {},
     "output_type": "execute_result"
    }
   ],
   "source": [
    "y_predict[0]"
   ]
  },
  {
   "cell_type": "code",
   "execution_count": 49,
   "id": "3dbf1ddc",
   "metadata": {},
   "outputs": [
    {
     "data": {
      "text/plain": [
       "0"
      ]
     },
     "execution_count": 49,
     "metadata": {},
     "output_type": "execute_result"
    }
   ],
   "source": [
    "np.argmax(y_predict[88])"
   ]
  },
  {
   "cell_type": "code",
   "execution_count": 50,
   "id": "3428a85e",
   "metadata": {},
   "outputs": [
    {
     "data": {
      "text/plain": [
       "3"
      ]
     },
     "execution_count": 50,
     "metadata": {},
     "output_type": "execute_result"
    }
   ],
   "source": [
    "np.argmax(y_predict[100])"
   ]
  },
  {
   "cell_type": "code",
   "execution_count": 48,
   "id": "eec23a76",
   "metadata": {},
   "outputs": [
    {
     "data": {
      "text/plain": [
       "9"
      ]
     },
     "execution_count": 48,
     "metadata": {},
     "output_type": "execute_result"
    }
   ],
   "source": [
    "np.argmax(y_predict[0])"
   ]
  },
  {
   "cell_type": "code",
   "execution_count": 46,
   "id": "e51c18f1",
   "metadata": {},
   "outputs": [
    {
     "data": {
      "text/plain": [
       "1.0"
      ]
     },
     "execution_count": 46,
     "metadata": {},
     "output_type": "execute_result"
    }
   ],
   "source": [
    "y_predict[0].sum()"
   ]
  },
  {
   "cell_type": "code",
   "execution_count": null,
   "id": "260f41d1",
   "metadata": {},
   "outputs": [],
   "source": [
    "(xm_train, ym_train), (xm_test, ym_test) = mnist.load_data()"
   ]
  },
  {
   "cell_type": "code",
   "execution_count": 52,
   "id": "c47fac54",
   "metadata": {},
   "outputs": [
    {
     "name": "stdout",
     "output_type": "stream",
     "text": [
      "Epoch 1/25\n",
      "1875/1875 [==============================] - 5s 2ms/step - loss: 1.5971 - accuracy: 0.7200\n",
      "Epoch 2/25\n",
      "1875/1875 [==============================] - 3s 2ms/step - loss: 0.7135 - accuracy: 0.7713\n",
      "Epoch 3/25\n",
      "1875/1875 [==============================] - 3s 2ms/step - loss: 0.6741 - accuracy: 0.7794\n",
      "Epoch 4/25\n",
      "1875/1875 [==============================] - 4s 2ms/step - loss: 0.6095 - accuracy: 0.8003\n",
      "Epoch 5/25\n",
      "1875/1875 [==============================] - 4s 2ms/step - loss: 0.5346 - accuracy: 0.8221\n",
      "Epoch 6/25\n",
      "1875/1875 [==============================] - 5s 3ms/step - loss: 0.4860 - accuracy: 0.8338\n",
      "Epoch 7/25\n",
      "1875/1875 [==============================] - 34s 18ms/step - loss: 0.4358 - accuracy: 0.8476\n",
      "Epoch 8/25\n",
      "1875/1875 [==============================] - 10s 6ms/step - loss: 0.4218 - accuracy: 0.8526\n",
      "Epoch 9/25\n",
      "1875/1875 [==============================] - 7s 4ms/step - loss: 0.4107 - accuracy: 0.8553\n",
      "Epoch 10/25\n",
      "1875/1875 [==============================] - 6s 3ms/step - loss: 0.3976 - accuracy: 0.8573\n",
      "Epoch 11/25\n",
      "1875/1875 [==============================] - 6s 3ms/step - loss: 0.3931 - accuracy: 0.8597\n",
      "Epoch 12/25\n",
      "1875/1875 [==============================] - 7s 4ms/step - loss: 0.3927 - accuracy: 0.8609\n",
      "Epoch 13/25\n",
      "1875/1875 [==============================] - 8s 4ms/step - loss: 0.3875 - accuracy: 0.8624\n",
      "Epoch 14/25\n",
      "1875/1875 [==============================] - 10s 5ms/step - loss: 0.3825 - accuracy: 0.8631\n",
      "Epoch 15/25\n",
      "1875/1875 [==============================] - 12s 6ms/step - loss: 0.3810 - accuracy: 0.8662\n",
      "Epoch 16/25\n",
      "1875/1875 [==============================] - 10s 5ms/step - loss: 0.3760 - accuracy: 0.8654\n",
      "Epoch 17/25\n",
      "1875/1875 [==============================] - 8s 4ms/step - loss: 0.3713 - accuracy: 0.8672\n",
      "Epoch 18/25\n",
      "1875/1875 [==============================] - 7s 4ms/step - loss: 0.3779 - accuracy: 0.8682\n",
      "Epoch 19/25\n",
      "1875/1875 [==============================] - 8s 4ms/step - loss: 0.3659 - accuracy: 0.8685\n",
      "Epoch 20/25\n",
      "1875/1875 [==============================] - 8s 4ms/step - loss: 0.3669 - accuracy: 0.8689\n",
      "Epoch 21/25\n",
      "1875/1875 [==============================] - 14s 8ms/step - loss: 0.3620 - accuracy: 0.8707\n",
      "Epoch 22/25\n",
      "1875/1875 [==============================] - 22s 12ms/step - loss: 0.3639 - accuracy: 0.8715\n",
      "Epoch 23/25\n",
      "1875/1875 [==============================] - 8s 4ms/step - loss: 0.3686 - accuracy: 0.8699\n",
      "Epoch 24/25\n",
      "1875/1875 [==============================] - 6s 3ms/step - loss: 0.3557 - accuracy: 0.8708\n",
      "Epoch 25/25\n",
      "1875/1875 [==============================] - 5s 3ms/step - loss: 0.3627 - accuracy: 0.8684\n"
     ]
    },
    {
     "data": {
      "text/plain": [
       "<keras.callbacks.History at 0x1353ca490>"
      ]
     },
     "execution_count": 52,
     "metadata": {},
     "output_type": "execute_result"
    }
   ],
   "source": [
    "from tensorflow.keras.models import Sequential\n",
    "from tensorflow.keras.layers import Dense, Activation,Flatten\n",
    "\n",
    "model=Sequential()\n",
    "model.add(Flatten(input_shape=[28,28]))\n",
    "model.add(Dense(100, activation=\"relu\"))\n",
    "model.add(Dense(200, activation=\"relu\"))\n",
    "model.add(Dense(10, activation='softmax'))\n",
    "\n",
    "model.compile(optimizer='adam', loss=\"sparse_categorical_crossentropy\", metrics=[\"accuracy\"])\n",
    "model.fit(x_train, y_train, epochs=25)"
   ]
  },
  {
   "cell_type": "code",
   "execution_count": null,
   "id": "f75743ed",
   "metadata": {},
   "outputs": [],
   "source": [
    "model.summary()"
   ]
  }
 ],
 "metadata": {
  "kernelspec": {
   "display_name": "Python 3 (ipykernel)",
   "language": "python",
   "name": "python3"
  },
  "language_info": {
   "codemirror_mode": {
    "name": "ipython",
    "version": 3
   },
   "file_extension": ".py",
   "mimetype": "text/x-python",
   "name": "python",
   "nbconvert_exporter": "python",
   "pygments_lexer": "ipython3",
   "version": "3.11.3"
  }
 },
 "nbformat": 4,
 "nbformat_minor": 5
}
