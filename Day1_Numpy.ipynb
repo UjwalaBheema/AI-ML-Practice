{
 "cells": [
  {
   "cell_type": "code",
   "execution_count": 1,
   "id": "238aba11",
   "metadata": {},
   "outputs": [
    {
     "name": "stdout",
     "output_type": "stream",
     "text": [
      "Hello world\n"
     ]
    }
   ],
   "source": [
    "print(\"Hello world\")"
   ]
  },
  {
   "cell_type": "code",
   "execution_count": 2,
   "id": "a9a91c15",
   "metadata": {},
   "outputs": [
    {
     "data": {
      "text/plain": [
       "array([[0.32461757, 0.55793682, 0.24972975, 0.41664689, 0.61043418],\n",
       "       [0.1824647 , 0.11698126, 0.26974409, 0.44548432, 0.57409405],\n",
       "       [0.33600135, 0.29469304, 0.68346133, 0.51739399, 0.67881074]])"
      ]
     },
     "execution_count": 2,
     "metadata": {},
     "output_type": "execute_result"
    }
   ],
   "source": [
    "import numpy as np\n",
    "\n",
    "np.random.rand(3,5)"
   ]
  },
  {
   "cell_type": "code",
   "execution_count": 3,
   "id": "26999680",
   "metadata": {},
   "outputs": [
    {
     "data": {
      "text/plain": [
       "array([[ 1.09104831, -1.5256588 ,  0.41149771,  0.83875956, -1.51310684],\n",
       "       [-0.27756373, -0.44703294, -0.69421988,  2.00503392, -0.09431035],\n",
       "       [ 2.23936656, -0.46430206, -1.79558089,  0.98472836, -1.39755126]])"
      ]
     },
     "execution_count": 3,
     "metadata": {},
     "output_type": "execute_result"
    }
   ],
   "source": [
    "np.random.randn(3,5)"
   ]
  },
  {
   "cell_type": "code",
   "execution_count": 4,
   "id": "ebc72352",
   "metadata": {},
   "outputs": [
    {
     "data": {
      "text/plain": [
       "5"
      ]
     },
     "execution_count": 4,
     "metadata": {},
     "output_type": "execute_result"
    }
   ],
   "source": [
    "np.random.randint(3,10)"
   ]
  },
  {
   "cell_type": "code",
   "execution_count": 5,
   "id": "54d4cb34",
   "metadata": {},
   "outputs": [
    {
     "data": {
      "text/plain": [
       "array([8, 7, 3, 5, 9, 8, 4, 7, 6, 5, 6, 3, 4, 7, 4, 6, 5, 6, 7, 4])"
      ]
     },
     "execution_count": 5,
     "metadata": {},
     "output_type": "execute_result"
    }
   ],
   "source": [
    "np.random.randint(3,10, 20)"
   ]
  },
  {
   "cell_type": "code",
   "execution_count": 6,
   "id": "b448f963",
   "metadata": {},
   "outputs": [
    {
     "data": {
      "text/plain": [
       "array([ 0,  1,  2,  3,  4,  5,  6,  7,  8,  9, 10, 11, 12, 13, 14, 15, 16,\n",
       "       17, 18, 19, 20, 21, 22, 23, 24, 25, 26, 27, 28, 29])"
      ]
     },
     "execution_count": 6,
     "metadata": {},
     "output_type": "execute_result"
    }
   ],
   "source": [
    "sample_arr = np.arange(0,30)\n",
    "sample_arr"
   ]
  },
  {
   "cell_type": "code",
   "execution_count": 7,
   "id": "7ba239dd",
   "metadata": {},
   "outputs": [
    {
     "data": {
      "text/plain": [
       "array([[ 0,  1,  2,  3,  4,  5,  6,  7,  8,  9],\n",
       "       [10, 11, 12, 13, 14, 15, 16, 17, 18, 19],\n",
       "       [20, 21, 22, 23, 24, 25, 26, 27, 28, 29]])"
      ]
     },
     "execution_count": 7,
     "metadata": {},
     "output_type": "execute_result"
    }
   ],
   "source": [
    "sample_arr.reshape(3,10)"
   ]
  },
  {
   "cell_type": "code",
   "execution_count": 8,
   "id": "d657fb1c",
   "metadata": {},
   "outputs": [
    {
     "data": {
      "text/plain": [
       "29"
      ]
     },
     "execution_count": 8,
     "metadata": {},
     "output_type": "execute_result"
    }
   ],
   "source": [
    "sample_arr.max()"
   ]
  },
  {
   "cell_type": "code",
   "execution_count": 9,
   "id": "ce3cf768",
   "metadata": {},
   "outputs": [
    {
     "data": {
      "text/plain": [
       "0"
      ]
     },
     "execution_count": 9,
     "metadata": {},
     "output_type": "execute_result"
    }
   ],
   "source": [
    "sample_arr.min()"
   ]
  },
  {
   "cell_type": "code",
   "execution_count": 10,
   "id": "d66abe6c",
   "metadata": {},
   "outputs": [
    {
     "data": {
      "text/plain": [
       "14.5"
      ]
     },
     "execution_count": 10,
     "metadata": {},
     "output_type": "execute_result"
    }
   ],
   "source": [
    "sample_arr.mean()"
   ]
  },
  {
   "cell_type": "code",
   "execution_count": 11,
   "id": "2d3c8b9e",
   "metadata": {},
   "outputs": [
    {
     "data": {
      "text/plain": [
       "8.65544144839919"
      ]
     },
     "execution_count": 11,
     "metadata": {},
     "output_type": "execute_result"
    }
   ],
   "source": [
    "sample_arr.std()"
   ]
  },
  {
   "cell_type": "code",
   "execution_count": 12,
   "id": "5cf70160",
   "metadata": {},
   "outputs": [
    {
     "data": {
      "text/plain": [
       "14.5"
      ]
     },
     "execution_count": 12,
     "metadata": {},
     "output_type": "execute_result"
    }
   ],
   "source": [
    "np.median(sample_arr)"
   ]
  },
  {
   "cell_type": "code",
   "execution_count": 13,
   "id": "eae04574",
   "metadata": {},
   "outputs": [
    {
     "data": {
      "text/plain": [
       "74.91666666666667"
      ]
     },
     "execution_count": 13,
     "metadata": {},
     "output_type": "execute_result"
    }
   ],
   "source": [
    "np.var(sample_arr)"
   ]
  },
  {
   "cell_type": "code",
   "execution_count": 14,
   "id": "faf4938e",
   "metadata": {},
   "outputs": [
    {
     "data": {
      "text/plain": [
       "8.65544144839919"
      ]
     },
     "execution_count": 14,
     "metadata": {},
     "output_type": "execute_result"
    }
   ],
   "source": [
    "np.std(sample_arr)"
   ]
  },
  {
   "cell_type": "code",
   "execution_count": 15,
   "id": "9c5626e3",
   "metadata": {},
   "outputs": [
    {
     "data": {
      "text/plain": [
       "0"
      ]
     },
     "execution_count": 15,
     "metadata": {},
     "output_type": "execute_result"
    }
   ],
   "source": [
    "np.argmin(sample_arr)"
   ]
  },
  {
   "cell_type": "code",
   "execution_count": 16,
   "id": "7f25eaa1",
   "metadata": {},
   "outputs": [
    {
     "data": {
      "text/plain": [
       "29"
      ]
     },
     "execution_count": 16,
     "metadata": {},
     "output_type": "execute_result"
    }
   ],
   "source": [
    "np.argmax(sample_arr)\n",
    "# print(sample_arr.argmax(np))"
   ]
  },
  {
   "cell_type": "code",
   "execution_count": 17,
   "id": "ffa771d6",
   "metadata": {},
   "outputs": [
    {
     "data": {
      "text/plain": [
       "array([[ 1, 56, 32, 41],\n",
       "       [34, 65, 98, 26],\n",
       "       [10, 79, 42, 67]])"
      ]
     },
     "execution_count": 17,
     "metadata": {},
     "output_type": "execute_result"
    }
   ],
   "source": [
    "sample_matrix=np.array([[1,56,32,41],[34,65,98,26],[10,79,42,67]])\n",
    "sample_matrix"
   ]
  },
  {
   "cell_type": "code",
   "execution_count": 18,
   "id": "b0666af1",
   "metadata": {},
   "outputs": [
    {
     "data": {
      "text/plain": [
       "array([[10, 79, 42, 67]])"
      ]
     },
     "execution_count": 18,
     "metadata": {},
     "output_type": "execute_result"
    }
   ],
   "source": [
    "sample_matrix[2:]"
   ]
  },
  {
   "cell_type": "code",
   "execution_count": 19,
   "id": "981c1c22",
   "metadata": {},
   "outputs": [
    {
     "data": {
      "text/plain": [
       "array([[32, 56],\n",
       "       [98, 65],\n",
       "       [42, 79]])"
      ]
     },
     "execution_count": 19,
     "metadata": {},
     "output_type": "execute_result"
    }
   ],
   "source": [
    "sample_matrix[:,2:0:-1]"
   ]
  },
  {
   "cell_type": "code",
   "execution_count": 20,
   "id": "cf28eda6",
   "metadata": {},
   "outputs": [
    {
     "data": {
      "text/plain": [
       "array([[32, 56],\n",
       "       [98, 65],\n",
       "       [42, 79]])"
      ]
     },
     "execution_count": 20,
     "metadata": {},
     "output_type": "execute_result"
    }
   ],
   "source": [
    "sample_matrix[:,(2,1)]"
   ]
  },
  {
   "cell_type": "code",
   "execution_count": 21,
   "id": "11c70da0",
   "metadata": {},
   "outputs": [
    {
     "data": {
      "text/plain": [
       "array([ 0,  1,  2,  3,  4,  5,  6,  7,  8,  9, 10])"
      ]
     },
     "execution_count": 21,
     "metadata": {},
     "output_type": "execute_result"
    }
   ],
   "source": [
    "sample_arr1 = np.arange(0,11)\n",
    "sample_arr1"
   ]
  },
  {
   "cell_type": "code",
   "execution_count": 22,
   "id": "c2dc19ea",
   "metadata": {},
   "outputs": [
    {
     "data": {
      "text/plain": [
       "[0, 0, 0, 0, 0, 0, 0, 0, 0, 0]"
      ]
     },
     "execution_count": 22,
     "metadata": {},
     "output_type": "execute_result"
    }
   ],
   "source": [
    "arr0 = [0] * 10\n",
    "arr0"
   ]
  },
  {
   "cell_type": "code",
   "execution_count": 23,
   "id": "d178c046",
   "metadata": {},
   "outputs": [
    {
     "data": {
      "text/plain": [
       "array([[1, 0, 0, 0, 0, 0, 0, 0, 0, 0],\n",
       "       [0, 1, 0, 0, 0, 0, 0, 0, 0, 0],\n",
       "       [0, 0, 1, 0, 0, 0, 0, 0, 0, 0],\n",
       "       [0, 0, 0, 1, 0, 0, 0, 0, 0, 0],\n",
       "       [0, 0, 0, 0, 1, 0, 0, 0, 0, 0],\n",
       "       [0, 0, 0, 0, 0, 1, 0, 0, 0, 0],\n",
       "       [0, 0, 0, 0, 0, 0, 1, 0, 0, 0],\n",
       "       [0, 0, 0, 0, 0, 0, 0, 1, 0, 0],\n",
       "       [0, 0, 0, 0, 0, 0, 0, 0, 1, 0],\n",
       "       [0, 0, 0, 0, 0, 0, 0, 0, 0, 1]])"
      ]
     },
     "execution_count": 23,
     "metadata": {},
     "output_type": "execute_result"
    }
   ],
   "source": [
    "np.identity(10, dtype = int)"
   ]
  },
  {
   "cell_type": "code",
   "execution_count": 24,
   "id": "eaafd2e8",
   "metadata": {},
   "outputs": [
    {
     "data": {
      "text/plain": [
       "array([50, 48, 46, 44, 42, 40, 38, 36, 34, 32, 30, 28, 26, 24, 22, 20, 18,\n",
       "       16, 14, 12, 10,  8,  6,  4,  2,  0])"
      ]
     },
     "execution_count": 24,
     "metadata": {},
     "output_type": "execute_result"
    }
   ],
   "source": [
    "sample_arr1 = np.arange(50, -1, -2)\n",
    "sample_arr1\n",
    "\n",
    "# np.random.randint(0,10)"
   ]
  },
  {
   "cell_type": "code",
   "execution_count": 25,
   "id": "ab4f12d0",
   "metadata": {},
   "outputs": [
    {
     "name": "stdout",
     "output_type": "stream",
     "text": [
      "[[1.         1.41421356 1.73205081]\n",
      " [1.73205081 2.         2.23606798]]\n",
      "1.2909944487358056\n"
     ]
    }
   ],
   "source": [
    "a=np.array([(1,2,3),(3,4,5,)])\n",
    "print(np.sqrt(a))\n",
    "print(np.std(a))\n",
    "\n",
    "x= np.arange(0,3*np.pi,0.1)\n",
    "y=np.sin(x)\n"
   ]
  },
  {
   "cell_type": "code",
   "execution_count": 26,
   "id": "2f3a2c99",
   "metadata": {},
   "outputs": [
    {
     "name": "stdout",
     "output_type": "stream",
     "text": [
      "[[1.   0.32 0.76 0.69]\n",
      " [0.39 0.57 0.44 0.21]\n",
      " [0.89 0.25 0.3  0.76]]\n"
     ]
    }
   ],
   "source": [
    "random_numbers = np.random.rand(3, 4)\n",
    "\n",
    "# Round off to two decimal places\n",
    "rounded_numbers = np.round(random_numbers, 2)\n",
    "\n",
    "print(rounded_numbers)"
   ]
  },
  {
   "cell_type": "code",
   "execution_count": 27,
   "id": "b0b35342",
   "metadata": {},
   "outputs": [
    {
     "data": {
      "text/plain": [
       "85.83333333333333"
      ]
     },
     "execution_count": 27,
     "metadata": {},
     "output_type": "execute_result"
    }
   ],
   "source": [
    "a=np.array([5,4,3,2,1,500])\n",
    "a.mean()"
   ]
  },
  {
   "cell_type": "code",
   "execution_count": 28,
   "id": "387b2861",
   "metadata": {},
   "outputs": [
    {
     "data": {
      "text/plain": [
       "3.5"
      ]
     },
     "execution_count": 28,
     "metadata": {},
     "output_type": "execute_result"
    }
   ],
   "source": [
    "a=np.array([5,4,3,2,1, 500])\n",
    "np.median(a)"
   ]
  },
  {
   "cell_type": "code",
   "execution_count": 29,
   "id": "1f7f0910",
   "metadata": {},
   "outputs": [
    {
     "data": {
      "text/plain": [
       "(180, 9)"
      ]
     },
     "execution_count": 29,
     "metadata": {},
     "output_type": "execute_result"
    }
   ],
   "source": [
    "import numpy as np\n",
    "import pandas as pd\n",
    "\n",
    "data_set = pd.read_csv('CardioGoodFitness-1.csv')\n",
    "data_set.shape"
   ]
  },
  {
   "cell_type": "code",
   "execution_count": 30,
   "id": "76cee55f",
   "metadata": {
    "scrolled": true
   },
   "outputs": [
    {
     "data": {
      "text/html": [
       "<div>\n",
       "<style scoped>\n",
       "    .dataframe tbody tr th:only-of-type {\n",
       "        vertical-align: middle;\n",
       "    }\n",
       "\n",
       "    .dataframe tbody tr th {\n",
       "        vertical-align: top;\n",
       "    }\n",
       "\n",
       "    .dataframe thead th {\n",
       "        text-align: right;\n",
       "    }\n",
       "</style>\n",
       "<table border=\"1\" class=\"dataframe\">\n",
       "  <thead>\n",
       "    <tr style=\"text-align: right;\">\n",
       "      <th></th>\n",
       "      <th>count</th>\n",
       "      <th>mean</th>\n",
       "      <th>std</th>\n",
       "      <th>min</th>\n",
       "      <th>25%</th>\n",
       "      <th>50%</th>\n",
       "      <th>75%</th>\n",
       "      <th>max</th>\n",
       "    </tr>\n",
       "  </thead>\n",
       "  <tbody>\n",
       "    <tr>\n",
       "      <th>Age</th>\n",
       "      <td>180.0</td>\n",
       "      <td>28.788889</td>\n",
       "      <td>6.943498</td>\n",
       "      <td>18.0</td>\n",
       "      <td>24.00</td>\n",
       "      <td>26.0</td>\n",
       "      <td>33.00</td>\n",
       "      <td>50.0</td>\n",
       "    </tr>\n",
       "    <tr>\n",
       "      <th>Education</th>\n",
       "      <td>180.0</td>\n",
       "      <td>15.572222</td>\n",
       "      <td>1.617055</td>\n",
       "      <td>12.0</td>\n",
       "      <td>14.00</td>\n",
       "      <td>16.0</td>\n",
       "      <td>16.00</td>\n",
       "      <td>21.0</td>\n",
       "    </tr>\n",
       "    <tr>\n",
       "      <th>Usage</th>\n",
       "      <td>180.0</td>\n",
       "      <td>3.455556</td>\n",
       "      <td>1.084797</td>\n",
       "      <td>2.0</td>\n",
       "      <td>3.00</td>\n",
       "      <td>3.0</td>\n",
       "      <td>4.00</td>\n",
       "      <td>7.0</td>\n",
       "    </tr>\n",
       "    <tr>\n",
       "      <th>Fitness</th>\n",
       "      <td>180.0</td>\n",
       "      <td>3.311111</td>\n",
       "      <td>0.958869</td>\n",
       "      <td>1.0</td>\n",
       "      <td>3.00</td>\n",
       "      <td>3.0</td>\n",
       "      <td>4.00</td>\n",
       "      <td>5.0</td>\n",
       "    </tr>\n",
       "    <tr>\n",
       "      <th>Income</th>\n",
       "      <td>180.0</td>\n",
       "      <td>53719.577778</td>\n",
       "      <td>16506.684226</td>\n",
       "      <td>29562.0</td>\n",
       "      <td>44058.75</td>\n",
       "      <td>50596.5</td>\n",
       "      <td>58668.00</td>\n",
       "      <td>104581.0</td>\n",
       "    </tr>\n",
       "    <tr>\n",
       "      <th>Miles</th>\n",
       "      <td>180.0</td>\n",
       "      <td>103.194444</td>\n",
       "      <td>51.863605</td>\n",
       "      <td>21.0</td>\n",
       "      <td>66.00</td>\n",
       "      <td>94.0</td>\n",
       "      <td>114.75</td>\n",
       "      <td>360.0</td>\n",
       "    </tr>\n",
       "  </tbody>\n",
       "</table>\n",
       "</div>"
      ],
      "text/plain": [
       "           count          mean           std      min       25%      50%  \\\n",
       "Age        180.0     28.788889      6.943498     18.0     24.00     26.0   \n",
       "Education  180.0     15.572222      1.617055     12.0     14.00     16.0   \n",
       "Usage      180.0      3.455556      1.084797      2.0      3.00      3.0   \n",
       "Fitness    180.0      3.311111      0.958869      1.0      3.00      3.0   \n",
       "Income     180.0  53719.577778  16506.684226  29562.0  44058.75  50596.5   \n",
       "Miles      180.0    103.194444     51.863605     21.0     66.00     94.0   \n",
       "\n",
       "                75%       max  \n",
       "Age           33.00      50.0  \n",
       "Education     16.00      21.0  \n",
       "Usage          4.00       7.0  \n",
       "Fitness        4.00       5.0  \n",
       "Income     58668.00  104581.0  \n",
       "Miles        114.75     360.0  "
      ]
     },
     "execution_count": 30,
     "metadata": {},
     "output_type": "execute_result"
    }
   ],
   "source": [
    "data_set.describe().T"
   ]
  },
  {
   "cell_type": "code",
   "execution_count": 31,
   "id": "d13ba745",
   "metadata": {},
   "outputs": [
    {
     "data": {
      "text/plain": [
       "Index(['Product', 'Age', 'Gender', 'Education', 'MaritalStatus', 'Usage',\n",
       "       'Fitness', 'Income', 'Miles'],\n",
       "      dtype='object')"
      ]
     },
     "execution_count": 31,
     "metadata": {},
     "output_type": "execute_result"
    }
   ],
   "source": [
    "data_set.columns"
   ]
  },
  {
   "cell_type": "code",
   "execution_count": 32,
   "id": "e22371ad",
   "metadata": {},
   "outputs": [
    {
     "data": {
      "text/plain": [
       "Product          object\n",
       "Age               int64\n",
       "Gender           object\n",
       "Education         int64\n",
       "MaritalStatus    object\n",
       "Usage             int64\n",
       "Fitness           int64\n",
       "Income            int64\n",
       "Miles             int64\n",
       "dtype: object"
      ]
     },
     "execution_count": 32,
     "metadata": {},
     "output_type": "execute_result"
    }
   ],
   "source": [
    "data_set.dtypes"
   ]
  },
  {
   "cell_type": "code",
   "execution_count": 33,
   "id": "780190d2",
   "metadata": {},
   "outputs": [
    {
     "name": "stdout",
     "output_type": "stream",
     "text": [
      "<class 'pandas.core.frame.DataFrame'>\n",
      "RangeIndex: 180 entries, 0 to 179\n",
      "Data columns (total 9 columns):\n",
      " #   Column         Non-Null Count  Dtype \n",
      "---  ------         --------------  ----- \n",
      " 0   Product        180 non-null    object\n",
      " 1   Age            180 non-null    int64 \n",
      " 2   Gender         180 non-null    object\n",
      " 3   Education      180 non-null    int64 \n",
      " 4   MaritalStatus  180 non-null    object\n",
      " 5   Usage          180 non-null    int64 \n",
      " 6   Fitness        180 non-null    int64 \n",
      " 7   Income         180 non-null    int64 \n",
      " 8   Miles          180 non-null    int64 \n",
      "dtypes: int64(6), object(3)\n",
      "memory usage: 12.8+ KB\n"
     ]
    }
   ],
   "source": [
    "data_set.info()"
   ]
  },
  {
   "cell_type": "code",
   "execution_count": 34,
   "id": "128cacb5",
   "metadata": {},
   "outputs": [
    {
     "data": {
      "text/plain": [
       "0"
      ]
     },
     "execution_count": 34,
     "metadata": {},
     "output_type": "execute_result"
    }
   ],
   "source": [
    "data_set.dtypes.isnull().sum()"
   ]
  },
  {
   "cell_type": "code",
   "execution_count": 35,
   "id": "29316c25",
   "metadata": {},
   "outputs": [
    {
     "data": {
      "text/plain": [
       "array([1, 2, 3, 4, 5])"
      ]
     },
     "execution_count": 35,
     "metadata": {},
     "output_type": "execute_result"
    }
   ],
   "source": [
    "d = np.array([1,2,3,4,5])\n",
    "d"
   ]
  },
  {
   "cell_type": "code",
   "execution_count": 36,
   "id": "24e0b1af",
   "metadata": {},
   "outputs": [
    {
     "data": {
      "text/plain": [
       "2.0"
      ]
     },
     "execution_count": 36,
     "metadata": {},
     "output_type": "execute_result"
    }
   ],
   "source": [
    "\n",
    "np.quantile(d, .25)"
   ]
  },
  {
   "cell_type": "code",
   "execution_count": 37,
   "id": "2b741dda",
   "metadata": {},
   "outputs": [
    {
     "data": {
      "text/plain": [
       "3.0"
      ]
     },
     "execution_count": 37,
     "metadata": {},
     "output_type": "execute_result"
    }
   ],
   "source": [
    "np.quantile(d, .50)"
   ]
  },
  {
   "cell_type": "code",
   "execution_count": 38,
   "id": "84c6e223",
   "metadata": {},
   "outputs": [
    {
     "data": {
      "text/plain": [
       "4.0"
      ]
     },
     "execution_count": 38,
     "metadata": {},
     "output_type": "execute_result"
    }
   ],
   "source": [
    "np.quantile(d, .75)"
   ]
  },
  {
   "cell_type": "code",
   "execution_count": 39,
   "id": "df96ee3e",
   "metadata": {},
   "outputs": [
    {
     "data": {
      "text/html": [
       "<div>\n",
       "<style scoped>\n",
       "    .dataframe tbody tr th:only-of-type {\n",
       "        vertical-align: middle;\n",
       "    }\n",
       "\n",
       "    .dataframe tbody tr th {\n",
       "        vertical-align: top;\n",
       "    }\n",
       "\n",
       "    .dataframe thead th {\n",
       "        text-align: right;\n",
       "    }\n",
       "</style>\n",
       "<table border=\"1\" class=\"dataframe\">\n",
       "  <thead>\n",
       "    <tr style=\"text-align: right;\">\n",
       "      <th></th>\n",
       "      <th>Age</th>\n",
       "      <th>Education</th>\n",
       "      <th>Usage</th>\n",
       "      <th>Fitness</th>\n",
       "      <th>Income</th>\n",
       "      <th>Miles</th>\n",
       "    </tr>\n",
       "  </thead>\n",
       "  <tbody>\n",
       "    <tr>\n",
       "      <th>count</th>\n",
       "      <td>180.000000</td>\n",
       "      <td>180.000000</td>\n",
       "      <td>180.000000</td>\n",
       "      <td>180.000000</td>\n",
       "      <td>180.000000</td>\n",
       "      <td>180.000000</td>\n",
       "    </tr>\n",
       "    <tr>\n",
       "      <th>mean</th>\n",
       "      <td>28.788889</td>\n",
       "      <td>15.572222</td>\n",
       "      <td>3.455556</td>\n",
       "      <td>3.311111</td>\n",
       "      <td>53719.577778</td>\n",
       "      <td>103.194444</td>\n",
       "    </tr>\n",
       "    <tr>\n",
       "      <th>std</th>\n",
       "      <td>6.943498</td>\n",
       "      <td>1.617055</td>\n",
       "      <td>1.084797</td>\n",
       "      <td>0.958869</td>\n",
       "      <td>16506.684226</td>\n",
       "      <td>51.863605</td>\n",
       "    </tr>\n",
       "    <tr>\n",
       "      <th>min</th>\n",
       "      <td>18.000000</td>\n",
       "      <td>12.000000</td>\n",
       "      <td>2.000000</td>\n",
       "      <td>1.000000</td>\n",
       "      <td>29562.000000</td>\n",
       "      <td>21.000000</td>\n",
       "    </tr>\n",
       "    <tr>\n",
       "      <th>25%</th>\n",
       "      <td>24.000000</td>\n",
       "      <td>14.000000</td>\n",
       "      <td>3.000000</td>\n",
       "      <td>3.000000</td>\n",
       "      <td>44058.750000</td>\n",
       "      <td>66.000000</td>\n",
       "    </tr>\n",
       "    <tr>\n",
       "      <th>50%</th>\n",
       "      <td>26.000000</td>\n",
       "      <td>16.000000</td>\n",
       "      <td>3.000000</td>\n",
       "      <td>3.000000</td>\n",
       "      <td>50596.500000</td>\n",
       "      <td>94.000000</td>\n",
       "    </tr>\n",
       "    <tr>\n",
       "      <th>75%</th>\n",
       "      <td>33.000000</td>\n",
       "      <td>16.000000</td>\n",
       "      <td>4.000000</td>\n",
       "      <td>4.000000</td>\n",
       "      <td>58668.000000</td>\n",
       "      <td>114.750000</td>\n",
       "    </tr>\n",
       "    <tr>\n",
       "      <th>max</th>\n",
       "      <td>50.000000</td>\n",
       "      <td>21.000000</td>\n",
       "      <td>7.000000</td>\n",
       "      <td>5.000000</td>\n",
       "      <td>104581.000000</td>\n",
       "      <td>360.000000</td>\n",
       "    </tr>\n",
       "  </tbody>\n",
       "</table>\n",
       "</div>"
      ],
      "text/plain": [
       "              Age   Education       Usage     Fitness         Income  \\\n",
       "count  180.000000  180.000000  180.000000  180.000000     180.000000   \n",
       "mean    28.788889   15.572222    3.455556    3.311111   53719.577778   \n",
       "std      6.943498    1.617055    1.084797    0.958869   16506.684226   \n",
       "min     18.000000   12.000000    2.000000    1.000000   29562.000000   \n",
       "25%     24.000000   14.000000    3.000000    3.000000   44058.750000   \n",
       "50%     26.000000   16.000000    3.000000    3.000000   50596.500000   \n",
       "75%     33.000000   16.000000    4.000000    4.000000   58668.000000   \n",
       "max     50.000000   21.000000    7.000000    5.000000  104581.000000   \n",
       "\n",
       "            Miles  \n",
       "count  180.000000  \n",
       "mean   103.194444  \n",
       "std     51.863605  \n",
       "min     21.000000  \n",
       "25%     66.000000  \n",
       "50%     94.000000  \n",
       "75%    114.750000  \n",
       "max    360.000000  "
      ]
     },
     "execution_count": 39,
     "metadata": {},
     "output_type": "execute_result"
    }
   ],
   "source": [
    "des = data_set.describe()\n",
    "des"
   ]
  },
  {
   "cell_type": "code",
   "execution_count": 40,
   "id": "e360873a",
   "metadata": {},
   "outputs": [
    {
     "data": {
      "text/plain": [
       "37.5"
      ]
     },
     "execution_count": 40,
     "metadata": {},
     "output_type": "execute_result"
    }
   ],
   "source": [
    "age = 24.000000- 33.00000\n",
    "24.000000- 1.5*(age) \n",
    "#min"
   ]
  },
  {
   "cell_type": "code",
   "execution_count": 41,
   "id": "dd6a18c5",
   "metadata": {},
   "outputs": [
    {
     "data": {
      "text/plain": [
       "19.5"
      ]
     },
     "execution_count": 41,
     "metadata": {},
     "output_type": "execute_result"
    }
   ],
   "source": [
    "age = 24.000000- 33.00000\n",
    "33.000000 + 1.5*(age) \n",
    "# max"
   ]
  },
  {
   "cell_type": "code",
   "execution_count": 42,
   "id": "dda19d4f",
   "metadata": {},
   "outputs": [],
   "source": [
    "def find_outliers_IQR(df):\n",
    "    q1= np.quantile(df, .25)#df.quantile(0.25)\n",
    "    q1\n",
    "#    q3 = np.quantile(df, .75)##df.quantile(0.75)\n",
    "\n",
    "#    IQR = q3-q1\n",
    "\n",
    "#    outliers = df[((df<(q1-1.5*IQR)) | (df>(q3+1.5*IQR)))]\n",
    "\n",
    "#    return outliers"
   ]
  },
  {
   "cell_type": "code",
   "execution_count": 43,
   "id": "20e53ad6",
   "metadata": {},
   "outputs": [
    {
     "name": "stdout",
     "output_type": "stream",
     "text": [
      "Index(['Age', 'Education', 'Usage', 'Fitness', 'Income', 'Miles'], dtype='object')\n",
      "count    180.000000\n",
      "mean      28.788889\n",
      "std        6.943498\n",
      "min       18.000000\n",
      "25%       24.000000\n",
      "50%       26.000000\n",
      "75%       33.000000\n",
      "max       50.000000\n",
      "Name: Age, dtype: float64\n",
      "Outliers:\n",
      "    Product  Age  Gender  Education MaritalStatus  Usage  Fitness  Income  \\\n",
      "78    TM195   47    Male         16     Partnered      4        3   56850   \n",
      "79    TM195   50  Female         16     Partnered      3        3   64809   \n",
      "139   TM498   48    Male         16     Partnered      2        3   57987   \n",
      "178   TM798   47    Male         18     Partnered      4        5  104581   \n",
      "179   TM798   48    Male         18     Partnered      4        5   95508   \n",
      "\n",
      "     Miles  \n",
      "78      94  \n",
      "79      66  \n",
      "139     64  \n",
      "178    120  \n",
      "179    180  \n",
      "count    180.000000\n",
      "mean      15.572222\n",
      "std        1.617055\n",
      "min       12.000000\n",
      "25%       14.000000\n",
      "50%       16.000000\n",
      "75%       16.000000\n",
      "max       21.000000\n",
      "Name: Education, dtype: float64\n",
      "Outliers:\n",
      "    Product  Age  Gender  Education MaritalStatus  Usage  Fitness  Income  \\\n",
      "156   TM798   25    Male         20     Partnered      4        5   74701   \n",
      "157   TM798   26  Female         21        Single      4        3   69721   \n",
      "161   TM798   27    Male         21     Partnered      4        4   90886   \n",
      "175   TM798   40    Male         21        Single      6        5   83416   \n",
      "\n",
      "     Miles  \n",
      "156    170  \n",
      "157    100  \n",
      "161    100  \n",
      "175    200  \n",
      "count    180.000000\n",
      "mean       3.455556\n",
      "std        1.084797\n",
      "min        2.000000\n",
      "25%        3.000000\n",
      "50%        3.000000\n",
      "75%        4.000000\n",
      "max        7.000000\n",
      "Name: Usage, dtype: float64\n",
      "Outliers:\n",
      "    Product  Age  Gender  Education MaritalStatus  Usage  Fitness  Income  \\\n",
      "154   TM798   25    Male         18     Partnered      6        4   70966   \n",
      "155   TM798   25    Male         18     Partnered      6        5   75946   \n",
      "162   TM798   28  Female         18     Partnered      6        5   92131   \n",
      "163   TM798   28    Male         18     Partnered      7        5   77191   \n",
      "164   TM798   28    Male         18        Single      6        5   88396   \n",
      "166   TM798   29    Male         14     Partnered      7        5   85906   \n",
      "167   TM798   30  Female         16     Partnered      6        5   90886   \n",
      "170   TM798   31    Male         16     Partnered      6        5   89641   \n",
      "175   TM798   40    Male         21        Single      6        5   83416   \n",
      "\n",
      "     Miles  \n",
      "154    180  \n",
      "155    240  \n",
      "162    180  \n",
      "163    180  \n",
      "164    150  \n",
      "166    300  \n",
      "167    280  \n",
      "170    260  \n",
      "175    200  \n",
      "count    180.000000\n",
      "mean       3.311111\n",
      "std        0.958869\n",
      "min        1.000000\n",
      "25%        3.000000\n",
      "50%        3.000000\n",
      "75%        4.000000\n",
      "max        5.000000\n",
      "Name: Fitness, dtype: float64\n",
      "Outliers:\n",
      "    Product  Age  Gender  Education MaritalStatus  Usage  Fitness  Income  \\\n",
      "14    TM195   23    Male         16     Partnered      3        1   38658   \n",
      "117   TM498   31  Female         18        Single      2        1   65220   \n",
      "\n",
      "     Miles  \n",
      "14      47  \n",
      "117     21  \n",
      "count       180.000000\n",
      "mean      53719.577778\n",
      "std       16506.684226\n",
      "min       29562.000000\n",
      "25%       44058.750000\n",
      "50%       50596.500000\n",
      "75%       58668.000000\n",
      "max      104581.000000\n",
      "Name: Income, dtype: float64\n",
      "Outliers:\n",
      "    Product  Age  Gender  Education MaritalStatus  Usage  Fitness  Income  \\\n",
      "159   TM798   27    Male         16     Partnered      4        5   83416   \n",
      "160   TM798   27    Male         18        Single      4        3   88396   \n",
      "161   TM798   27    Male         21     Partnered      4        4   90886   \n",
      "162   TM798   28  Female         18     Partnered      6        5   92131   \n",
      "164   TM798   28    Male         18        Single      6        5   88396   \n",
      "166   TM798   29    Male         14     Partnered      7        5   85906   \n",
      "167   TM798   30  Female         16     Partnered      6        5   90886   \n",
      "168   TM798   30    Male         18     Partnered      5        4  103336   \n",
      "169   TM798   30    Male         18     Partnered      5        5   99601   \n",
      "170   TM798   31    Male         16     Partnered      6        5   89641   \n",
      "171   TM798   33  Female         18     Partnered      4        5   95866   \n",
      "172   TM798   34    Male         16        Single      5        5   92131   \n",
      "173   TM798   35    Male         16     Partnered      4        5   92131   \n",
      "174   TM798   38    Male         18     Partnered      5        5  104581   \n",
      "175   TM798   40    Male         21        Single      6        5   83416   \n",
      "176   TM798   42    Male         18        Single      5        4   89641   \n",
      "177   TM798   45    Male         16        Single      5        5   90886   \n",
      "178   TM798   47    Male         18     Partnered      4        5  104581   \n",
      "179   TM798   48    Male         18     Partnered      4        5   95508   \n",
      "\n",
      "     Miles  \n",
      "159    160  \n",
      "160    100  \n",
      "161    100  \n",
      "162    180  \n",
      "164    150  \n",
      "166    300  \n",
      "167    280  \n",
      "168    160  \n",
      "169    150  \n",
      "170    260  \n",
      "171    200  \n",
      "172    150  \n",
      "173    360  \n",
      "174    150  \n",
      "175    200  \n",
      "176    200  \n",
      "177    160  \n",
      "178    120  \n",
      "179    180  \n",
      "count    180.000000\n",
      "mean     103.194444\n",
      "std       51.863605\n",
      "min       21.000000\n",
      "25%       66.000000\n",
      "50%       94.000000\n",
      "75%      114.750000\n",
      "max      360.000000\n",
      "Name: Miles, dtype: float64\n",
      "Outliers:\n",
      "    Product  Age  Gender  Education MaritalStatus  Usage  Fitness  Income  \\\n",
      "23    TM195   24  Female         16     Partnered      5        5   44343   \n",
      "84    TM498   21  Female         14     Partnered      5        4   34110   \n",
      "142   TM798   22    Male         18        Single      4        5   48556   \n",
      "148   TM798   24  Female         16        Single      5        5   52291   \n",
      "152   TM798   25  Female         18     Partnered      5        5   61006   \n",
      "155   TM798   25    Male         18     Partnered      6        5   75946   \n",
      "166   TM798   29    Male         14     Partnered      7        5   85906   \n",
      "167   TM798   30  Female         16     Partnered      6        5   90886   \n",
      "170   TM798   31    Male         16     Partnered      6        5   89641   \n",
      "171   TM798   33  Female         18     Partnered      4        5   95866   \n",
      "173   TM798   35    Male         16     Partnered      4        5   92131   \n",
      "175   TM798   40    Male         21        Single      6        5   83416   \n",
      "176   TM798   42    Male         18        Single      5        4   89641   \n",
      "\n",
      "     Miles  \n",
      "23     188  \n",
      "84     212  \n",
      "142    200  \n",
      "148    200  \n",
      "152    200  \n",
      "155    240  \n",
      "166    300  \n",
      "167    280  \n",
      "170    260  \n",
      "171    200  \n",
      "173    360  \n",
      "175    200  \n",
      "176    200  \n"
     ]
    }
   ],
   "source": [
    "df = data_set\n",
    "# Generate the descriptive statistics using the describe function\n",
    "\n",
    "numerical_columns = df.select_dtypes(include=['int64', 'float64']).columns\n",
    "print(numerical_columns)\n",
    "\n",
    "for column_name in numerical_columns:\n",
    "    stats = df[column_name].describe()\n",
    "    print(stats)\n",
    "    # Calculate the interquartile range (IQR)\n",
    "    IQR = stats['75%'] - stats['25%']\n",
    "\n",
    "    # Define the lower and upper bounds to identify outliers\n",
    "    lower_bound = stats['25%'] - 1.5 * IQR\n",
    "    upper_bound = stats['75%'] + 1.5 * IQR\n",
    "\n",
    "    # Identify outliers using boolean indexing\n",
    "    outliers = df[(df[column_name] < lower_bound) | (df[column_name] > upper_bound)]\n",
    "\n",
    "    # Display the outliers\n",
    "    print(\"Outliers:\")\n",
    "    print(outliers)"
   ]
  },
  {
   "cell_type": "code",
   "execution_count": 44,
   "id": "2aa84cfa",
   "metadata": {},
   "outputs": [
    {
     "data": {
      "text/plain": [
       "0.9881227643722458"
      ]
     },
     "execution_count": 44,
     "metadata": {},
     "output_type": "execute_result"
    }
   ],
   "source": [
    "# First Quartile (Q1) = (n + 1) x 1/4. \n",
    "# Second Quartile (Q2), or the median = (n + 1) x 2/4. \n",
    "# Third Quartile (Q3) = (n + 1) x 3/4\n",
    "a = np.array([1,2,3,4,5,6])\n",
    "b =np.array([2,3,5,8,10])\n",
    "np.std(b)\n",
    "4.2/(1.414*3.006)"
   ]
  },
  {
   "cell_type": "code",
   "execution_count": 45,
   "id": "2b7a1ceb",
   "metadata": {},
   "outputs": [
    {
     "name": "stdout",
     "output_type": "stream",
     "text": [
      "2.25\n",
      "4.75\n",
      "3.5\n"
     ]
    }
   ],
   "source": [
    "q1 = np.quantile(a, 0.25)\n",
    "q2 = np.quantile(a, 0.75)\n",
    "q3 = np.quantile(a, 0.50)\n",
    "print( q1)\n",
    "print( q2)\n",
    "print( q3)"
   ]
  },
  {
   "cell_type": "code",
   "execution_count": 46,
   "id": "bc25feb6",
   "metadata": {},
   "outputs": [
    {
     "name": "stdout",
     "output_type": "stream",
     "text": [
      "1.75\n",
      "3.5\n"
     ]
    }
   ],
   "source": [
    "q1 = 7/4\n",
    "q2 = 7 * 2/4\n",
    "print(q1)\n",
    "print(q2)"
   ]
  },
  {
   "cell_type": "code",
   "execution_count": 47,
   "id": "3ea7de21",
   "metadata": {},
   "outputs": [
    {
     "data": {
      "text/plain": [
       "5.25"
      ]
     },
     "execution_count": 47,
     "metadata": {},
     "output_type": "execute_result"
    }
   ],
   "source": [
    "q3 = 7 * 3/4\n",
    "q3"
   ]
  },
  {
   "cell_type": "code",
   "execution_count": 48,
   "id": "13294405",
   "metadata": {},
   "outputs": [
    {
     "name": "stdout",
     "output_type": "stream",
     "text": [
      "Index(['Age', 'Education', 'Usage', 'Fitness', 'Income', 'Miles'], dtype='object')\n"
     ]
    },
    {
     "name": "stderr",
     "output_type": "stream",
     "text": [
      "/Users/bheema.ujwala/anaconda3/lib/python3.11/site-packages/seaborn/_oldcore.py:1498: FutureWarning: is_categorical_dtype is deprecated and will be removed in a future version. Use isinstance(dtype, CategoricalDtype) instead\n",
      "  if pd.api.types.is_categorical_dtype(vector):\n"
     ]
    },
    {
     "data": {
      "image/png": "[encoded data removed]",
      "text/plain": [
       "<Figure size 800x600 with 1 Axes>"
      ]
     },
     "metadata": {},
     "output_type": "display_data"
    },
    {
     "name": "stderr",
     "output_type": "stream",
     "text": [
      "/Users/bheema.ujwala/anaconda3/lib/python3.11/site-packages/seaborn/_oldcore.py:1498: FutureWarning: is_categorical_dtype is deprecated and will be removed in a future version. Use isinstance(dtype, CategoricalDtype) instead\n",
      "  if pd.api.types.is_categorical_dtype(vector):\n"
     ]
    },
    {
     "data": {
      "image/png": "[encoded data removed]",
      "text/plain": [
       "<Figure size 800x600 with 1 Axes>"
      ]
     },
     "metadata": {},
     "output_type": "display_data"
    },
    {
     "name": "stderr",
     "output_type": "stream",
     "text": [
      "/Users/bheema.ujwala/anaconda3/lib/python3.11/site-packages/seaborn/_oldcore.py:1498: FutureWarning: is_categorical_dtype is deprecated and will be removed in a future version. Use isinstance(dtype, CategoricalDtype) instead\n",
      "  if pd.api.types.is_categorical_dtype(vector):\n"
     ]
    },
    {
     "data": {
      "image/png": "[encoded data removed]",
      "text/plain": [
       "<Figure size 800x600 with 1 Axes>"
      ]
     },
     "metadata": {},
     "output_type": "display_data"
    },
    {
     "name": "stderr",
     "output_type": "stream",
     "text": [
      "/Users/bheema.ujwala/anaconda3/lib/python3.11/site-packages/seaborn/_oldcore.py:1498: FutureWarning: is_categorical_dtype is deprecated and will be removed in a future version. Use isinstance(dtype, CategoricalDtype) instead\n",
      "  if pd.api.types.is_categorical_dtype(vector):\n"
     ]
    },
    {
     "data": {
      "image/png": "[encoded data removed]",
      "text/plain": [
       "<Figure size 800x600 with 1 Axes>"
      ]
     },
     "metadata": {},
     "output_type": "display_data"
    },
    {
     "name": "stderr",
     "output_type": "stream",
     "text": [
      "/Users/bheema.ujwala/anaconda3/lib/python3.11/site-packages/seaborn/_oldcore.py:1498: FutureWarning: is_categorical_dtype is deprecated and will be removed in a future version. Use isinstance(dtype, CategoricalDtype) instead\n",
      "  if pd.api.types.is_categorical_dtype(vector):\n"
     ]
    },
    {
     "data": {
      "image/png": "[encoded data removed]",
      "text/plain": [
       "<Figure size 800x600 with 1 Axes>"
      ]
     },
     "metadata": {},
     "output_type": "display_data"
    },
    {
     "name": "stderr",
     "output_type": "stream",
     "text": [
      "/Users/bheema.ujwala/anaconda3/lib/python3.11/site-packages/seaborn/_oldcore.py:1498: FutureWarning: is_categorical_dtype is deprecated and will be removed in a future version. Use isinstance(dtype, CategoricalDtype) instead\n",
      "  if pd.api.types.is_categorical_dtype(vector):\n"
     ]
    },
    {
     "data": {
      "image/png": "[encoded data removed]",
      "text/plain": [
       "<Figure size 800x600 with 1 Axes>"
      ]
     },
     "metadata": {},
     "output_type": "display_data"
    }
   ],
   "source": [
    "import seaborn as sns\n",
    "import matplotlib.pyplot as plt\n",
    "\n",
    "numerical_columns = df.select_dtypes(include=['int64', 'float64']).columns\n",
    "print(numerical_columns)\n",
    "for column in numerical_columns:\n",
    "    plt.figure(figsize=(8, 6))\n",
    "    sns.boxplot(x=df[column])\n",
    "    plt.title(f'Boxplot for {column}')\n",
    "    plt.show()\n"
   ]
  },
  {
   "cell_type": "code",
   "execution_count": 50,
   "id": "ed1d0617",
   "metadata": {},
   "outputs": [
    {
     "data": {
      "text/html": [
       "<div>\n",
       "<style scoped>\n",
       "    .dataframe tbody tr th:only-of-type {\n",
       "        vertical-align: middle;\n",
       "    }\n",
       "\n",
       "    .dataframe tbody tr th {\n",
       "        vertical-align: top;\n",
       "    }\n",
       "\n",
       "    .dataframe thead th {\n",
       "        text-align: right;\n",
       "    }\n",
       "</style>\n",
       "<table border=\"1\" class=\"dataframe\">\n",
       "  <thead>\n",
       "    <tr style=\"text-align: right;\">\n",
       "      <th></th>\n",
       "      <th>Age</th>\n",
       "      <th>Education</th>\n",
       "      <th>Usage</th>\n",
       "      <th>Fitness</th>\n",
       "      <th>Income</th>\n",
       "      <th>Miles</th>\n",
       "    </tr>\n",
       "  </thead>\n",
       "  <tbody>\n",
       "    <tr>\n",
       "      <th>Age</th>\n",
       "      <td>1.000000</td>\n",
       "      <td>0.280496</td>\n",
       "      <td>0.015064</td>\n",
       "      <td>0.061105</td>\n",
       "      <td>0.513414</td>\n",
       "      <td>0.036618</td>\n",
       "    </tr>\n",
       "    <tr>\n",
       "      <th>Education</th>\n",
       "      <td>0.280496</td>\n",
       "      <td>1.000000</td>\n",
       "      <td>0.395155</td>\n",
       "      <td>0.410581</td>\n",
       "      <td>0.625827</td>\n",
       "      <td>0.307284</td>\n",
       "    </tr>\n",
       "    <tr>\n",
       "      <th>Usage</th>\n",
       "      <td>0.015064</td>\n",
       "      <td>0.395155</td>\n",
       "      <td>1.000000</td>\n",
       "      <td>0.668606</td>\n",
       "      <td>0.519537</td>\n",
       "      <td>0.759130</td>\n",
       "    </tr>\n",
       "    <tr>\n",
       "      <th>Fitness</th>\n",
       "      <td>0.061105</td>\n",
       "      <td>0.410581</td>\n",
       "      <td>0.668606</td>\n",
       "      <td>1.000000</td>\n",
       "      <td>0.535005</td>\n",
       "      <td>0.785702</td>\n",
       "    </tr>\n",
       "    <tr>\n",
       "      <th>Income</th>\n",
       "      <td>0.513414</td>\n",
       "      <td>0.625827</td>\n",
       "      <td>0.519537</td>\n",
       "      <td>0.535005</td>\n",
       "      <td>1.000000</td>\n",
       "      <td>0.543473</td>\n",
       "    </tr>\n",
       "    <tr>\n",
       "      <th>Miles</th>\n",
       "      <td>0.036618</td>\n",
       "      <td>0.307284</td>\n",
       "      <td>0.759130</td>\n",
       "      <td>0.785702</td>\n",
       "      <td>0.543473</td>\n",
       "      <td>1.000000</td>\n",
       "    </tr>\n",
       "  </tbody>\n",
       "</table>\n",
       "</div>"
      ],
      "text/plain": [
       "                Age  Education     Usage   Fitness    Income     Miles\n",
       "Age        1.000000   0.280496  0.015064  0.061105  0.513414  0.036618\n",
       "Education  0.280496   1.000000  0.395155  0.410581  0.625827  0.307284\n",
       "Usage      0.015064   0.395155  1.000000  0.668606  0.519537  0.759130\n",
       "Fitness    0.061105   0.410581  0.668606  1.000000  0.535005  0.785702\n",
       "Income     0.513414   0.625827  0.519537  0.535005  1.000000  0.543473\n",
       "Miles      0.036618   0.307284  0.759130  0.785702  0.543473  1.000000"
      ]
     },
     "execution_count": 50,
     "metadata": {},
     "output_type": "execute_result"
    }
   ],
   "source": [
    "df.corr(numeric_only='true')"
   ]
  },
  {
   "cell_type": "code",
   "execution_count": 57,
   "id": "1af95c85",
   "metadata": {},
   "outputs": [
    {
     "name": "stdout",
     "output_type": "stream",
     "text": [
      "=======Column: Product\n",
      "Product\n",
      "TM195    80\n",
      "TM498    60\n",
      "TM798    40\n",
      "Name: count, dtype: int64\n",
      "\n",
      "\n",
      "=======Column: Age\n",
      "Age\n",
      "25    25\n",
      "23    18\n",
      "24    12\n",
      "26    12\n",
      "28     9\n",
      "35     8\n",
      "33     8\n",
      "30     7\n",
      "38     7\n",
      "21     7\n",
      "22     7\n",
      "27     7\n",
      "31     6\n",
      "34     6\n",
      "29     6\n",
      "20     5\n",
      "40     5\n",
      "32     4\n",
      "19     4\n",
      "48     2\n",
      "37     2\n",
      "45     2\n",
      "47     2\n",
      "46     1\n",
      "50     1\n",
      "18     1\n",
      "44     1\n",
      "43     1\n",
      "41     1\n",
      "39     1\n",
      "36     1\n",
      "42     1\n",
      "Name: count, dtype: int64\n",
      "\n",
      "\n",
      "=======Column: Gender\n",
      "Gender\n",
      "Male      104\n",
      "Female     76\n",
      "Name: count, dtype: int64\n",
      "\n",
      "\n",
      "=======Column: Education\n",
      "Education\n",
      "16    85\n",
      "14    55\n",
      "18    23\n",
      "15     5\n",
      "13     5\n",
      "12     3\n",
      "21     3\n",
      "20     1\n",
      "Name: count, dtype: int64\n",
      "\n",
      "\n",
      "=======Column: MaritalStatus\n",
      "MaritalStatus\n",
      "Partnered    107\n",
      "Single        73\n",
      "Name: count, dtype: int64\n",
      "\n",
      "\n",
      "=======Column: Usage\n",
      "Usage\n",
      "3    69\n",
      "4    52\n",
      "2    33\n",
      "5    17\n",
      "6     7\n",
      "7     2\n",
      "Name: count, dtype: int64\n",
      "\n",
      "\n",
      "=======Column: Fitness\n",
      "Fitness\n",
      "3    97\n",
      "5    31\n",
      "2    26\n",
      "4    24\n",
      "1     2\n",
      "Name: count, dtype: int64\n",
      "\n",
      "\n",
      "=======Column: Income\n",
      "Income\n",
      "45480    14\n",
      "52302     9\n",
      "46617     8\n",
      "54576     8\n",
      "53439     8\n",
      "         ..\n",
      "65220     1\n",
      "55713     1\n",
      "68220     1\n",
      "30699     1\n",
      "95508     1\n",
      "Name: count, Length: 62, dtype: int64\n",
      "\n",
      "\n",
      "=======Column: Miles\n",
      "Miles\n",
      "85     27\n",
      "95     12\n",
      "66     10\n",
      "75     10\n",
      "47      9\n",
      "106     9\n",
      "94      8\n",
      "113     8\n",
      "53      7\n",
      "100     7\n",
      "180     6\n",
      "200     6\n",
      "56      6\n",
      "64      6\n",
      "127     5\n",
      "160     5\n",
      "42      4\n",
      "150     4\n",
      "38      3\n",
      "74      3\n",
      "170     3\n",
      "120     3\n",
      "103     3\n",
      "132     2\n",
      "141     2\n",
      "280     1\n",
      "260     1\n",
      "300     1\n",
      "240     1\n",
      "112     1\n",
      "212     1\n",
      "80      1\n",
      "140     1\n",
      "21      1\n",
      "169     1\n",
      "188     1\n",
      "360     1\n",
      "Name: count, dtype: int64\n",
      "\n",
      "\n"
     ]
    }
   ],
   "source": [
    "for col in df.columns:\n",
    "   print(\"=======Column:\", col)\n",
    "   print(df[col].value_counts())\n",
    "   print(\"\\n\")\n"
   ]
  },
  {
   "cell_type": "code",
   "execution_count": 53,
   "id": "d6f263c0",
   "metadata": {},
   "outputs": [
    {
     "data": {
      "text/html": [
       "<div>\n",
       "<style scoped>\n",
       "    .dataframe tbody tr th:only-of-type {\n",
       "        vertical-align: middle;\n",
       "    }\n",
       "\n",
       "    .dataframe tbody tr th {\n",
       "        vertical-align: top;\n",
       "    }\n",
       "\n",
       "    .dataframe thead th {\n",
       "        text-align: right;\n",
       "    }\n",
       "</style>\n",
       "<table border=\"1\" class=\"dataframe\">\n",
       "  <thead>\n",
       "    <tr style=\"text-align: right;\">\n",
       "      <th></th>\n",
       "      <th>Product</th>\n",
       "      <th>Age</th>\n",
       "      <th>Gender</th>\n",
       "      <th>Education</th>\n",
       "      <th>MaritalStatus</th>\n",
       "      <th>Usage</th>\n",
       "      <th>Fitness</th>\n",
       "      <th>Income</th>\n",
       "      <th>Miles</th>\n",
       "    </tr>\n",
       "  </thead>\n",
       "  <tbody>\n",
       "    <tr>\n",
       "      <th>count</th>\n",
       "      <td>180</td>\n",
       "      <td>180.000000</td>\n",
       "      <td>180</td>\n",
       "      <td>180.000000</td>\n",
       "      <td>180</td>\n",
       "      <td>180.000000</td>\n",
       "      <td>180.000000</td>\n",
       "      <td>180.000000</td>\n",
       "      <td>180.000000</td>\n",
       "    </tr>\n",
       "    <tr>\n",
       "      <th>unique</th>\n",
       "      <td>3</td>\n",
       "      <td>NaN</td>\n",
       "      <td>2</td>\n",
       "      <td>NaN</td>\n",
       "      <td>2</td>\n",
       "      <td>NaN</td>\n",
       "      <td>NaN</td>\n",
       "      <td>NaN</td>\n",
       "      <td>NaN</td>\n",
       "    </tr>\n",
       "    <tr>\n",
       "      <th>top</th>\n",
       "      <td>TM195</td>\n",
       "      <td>NaN</td>\n",
       "      <td>Male</td>\n",
       "      <td>NaN</td>\n",
       "      <td>Partnered</td>\n",
       "      <td>NaN</td>\n",
       "      <td>NaN</td>\n",
       "      <td>NaN</td>\n",
       "      <td>NaN</td>\n",
       "    </tr>\n",
       "    <tr>\n",
       "      <th>freq</th>\n",
       "      <td>80</td>\n",
       "      <td>NaN</td>\n",
       "      <td>104</td>\n",
       "      <td>NaN</td>\n",
       "      <td>107</td>\n",
       "      <td>NaN</td>\n",
       "      <td>NaN</td>\n",
       "      <td>NaN</td>\n",
       "      <td>NaN</td>\n",
       "    </tr>\n",
       "    <tr>\n",
       "      <th>mean</th>\n",
       "      <td>NaN</td>\n",
       "      <td>28.788889</td>\n",
       "      <td>NaN</td>\n",
       "      <td>15.572222</td>\n",
       "      <td>NaN</td>\n",
       "      <td>3.455556</td>\n",
       "      <td>3.311111</td>\n",
       "      <td>53719.577778</td>\n",
       "      <td>103.194444</td>\n",
       "    </tr>\n",
       "    <tr>\n",
       "      <th>std</th>\n",
       "      <td>NaN</td>\n",
       "      <td>6.943498</td>\n",
       "      <td>NaN</td>\n",
       "      <td>1.617055</td>\n",
       "      <td>NaN</td>\n",
       "      <td>1.084797</td>\n",
       "      <td>0.958869</td>\n",
       "      <td>16506.684226</td>\n",
       "      <td>51.863605</td>\n",
       "    </tr>\n",
       "    <tr>\n",
       "      <th>min</th>\n",
       "      <td>NaN</td>\n",
       "      <td>18.000000</td>\n",
       "      <td>NaN</td>\n",
       "      <td>12.000000</td>\n",
       "      <td>NaN</td>\n",
       "      <td>2.000000</td>\n",
       "      <td>1.000000</td>\n",
       "      <td>29562.000000</td>\n",
       "      <td>21.000000</td>\n",
       "    </tr>\n",
       "    <tr>\n",
       "      <th>25%</th>\n",
       "      <td>NaN</td>\n",
       "      <td>24.000000</td>\n",
       "      <td>NaN</td>\n",
       "      <td>14.000000</td>\n",
       "      <td>NaN</td>\n",
       "      <td>3.000000</td>\n",
       "      <td>3.000000</td>\n",
       "      <td>44058.750000</td>\n",
       "      <td>66.000000</td>\n",
       "    </tr>\n",
       "    <tr>\n",
       "      <th>50%</th>\n",
       "      <td>NaN</td>\n",
       "      <td>26.000000</td>\n",
       "      <td>NaN</td>\n",
       "      <td>16.000000</td>\n",
       "      <td>NaN</td>\n",
       "      <td>3.000000</td>\n",
       "      <td>3.000000</td>\n",
       "      <td>50596.500000</td>\n",
       "      <td>94.000000</td>\n",
       "    </tr>\n",
       "    <tr>\n",
       "      <th>75%</th>\n",
       "      <td>NaN</td>\n",
       "      <td>33.000000</td>\n",
       "      <td>NaN</td>\n",
       "      <td>16.000000</td>\n",
       "      <td>NaN</td>\n",
       "      <td>4.000000</td>\n",
       "      <td>4.000000</td>\n",
       "      <td>58668.000000</td>\n",
       "      <td>114.750000</td>\n",
       "    </tr>\n",
       "    <tr>\n",
       "      <th>max</th>\n",
       "      <td>NaN</td>\n",
       "      <td>50.000000</td>\n",
       "      <td>NaN</td>\n",
       "      <td>21.000000</td>\n",
       "      <td>NaN</td>\n",
       "      <td>7.000000</td>\n",
       "      <td>5.000000</td>\n",
       "      <td>104581.000000</td>\n",
       "      <td>360.000000</td>\n",
       "    </tr>\n",
       "  </tbody>\n",
       "</table>\n",
       "</div>"
      ],
      "text/plain": [
       "       Product         Age Gender   Education MaritalStatus       Usage  \\\n",
       "count      180  180.000000    180  180.000000           180  180.000000   \n",
       "unique       3         NaN      2         NaN             2         NaN   \n",
       "top      TM195         NaN   Male         NaN     Partnered         NaN   \n",
       "freq        80         NaN    104         NaN           107         NaN   \n",
       "mean       NaN   28.788889    NaN   15.572222           NaN    3.455556   \n",
       "std        NaN    6.943498    NaN    1.617055           NaN    1.084797   \n",
       "min        NaN   18.000000    NaN   12.000000           NaN    2.000000   \n",
       "25%        NaN   24.000000    NaN   14.000000           NaN    3.000000   \n",
       "50%        NaN   26.000000    NaN   16.000000           NaN    3.000000   \n",
       "75%        NaN   33.000000    NaN   16.000000           NaN    4.000000   \n",
       "max        NaN   50.000000    NaN   21.000000           NaN    7.000000   \n",
       "\n",
       "           Fitness         Income       Miles  \n",
       "count   180.000000     180.000000  180.000000  \n",
       "unique         NaN            NaN         NaN  \n",
       "top            NaN            NaN         NaN  \n",
       "freq           NaN            NaN         NaN  \n",
       "mean      3.311111   53719.577778  103.194444  \n",
       "std       0.958869   16506.684226   51.863605  \n",
       "min       1.000000   29562.000000   21.000000  \n",
       "25%       3.000000   44058.750000   66.000000  \n",
       "50%       3.000000   50596.500000   94.000000  \n",
       "75%       4.000000   58668.000000  114.750000  \n",
       "max       5.000000  104581.000000  360.000000  "
      ]
     },
     "execution_count": 53,
     "metadata": {},
     "output_type": "execute_result"
    }
   ],
   "source": [
    "df.describe(include='all')"
   ]
  },
  {
   "cell_type": "code",
   "execution_count": 60,
   "id": "e4642ab7",
   "metadata": {},
   "outputs": [
    {
     "data": {
      "text/html": [
       "<div>\n",
       "<style scoped>\n",
       "    .dataframe tbody tr th:only-of-type {\n",
       "        vertical-align: middle;\n",
       "    }\n",
       "\n",
       "    .dataframe tbody tr th {\n",
       "        vertical-align: top;\n",
       "    }\n",
       "\n",
       "    .dataframe thead th {\n",
       "        text-align: right;\n",
       "    }\n",
       "</style>\n",
       "<table border=\"1\" class=\"dataframe\">\n",
       "  <thead>\n",
       "    <tr style=\"text-align: right;\">\n",
       "      <th></th>\n",
       "      <th>Address</th>\n",
       "      <th>Lot</th>\n",
       "      <th>AM or PM</th>\n",
       "      <th>Browser Info</th>\n",
       "      <th>Company</th>\n",
       "      <th>Credit Card</th>\n",
       "      <th>CC Exp Date</th>\n",
       "      <th>CC Security Code</th>\n",
       "      <th>CC Provider</th>\n",
       "      <th>Email</th>\n",
       "      <th>Job</th>\n",
       "      <th>IP Address</th>\n",
       "      <th>Language</th>\n",
       "      <th>Purchase Price</th>\n",
       "    </tr>\n",
       "  </thead>\n",
       "  <tbody>\n",
       "    <tr>\n",
       "      <th>0</th>\n",
       "      <td>16629 Pace Camp Apt. 448\\nAlexisborough, NE 77...</td>\n",
       "      <td>46 in</td>\n",
       "      <td>PM</td>\n",
       "      <td>Opera/9.56.(X11; Linux x86_64; sl-SI) Presto/2...</td>\n",
       "      <td>Martinez-Herman</td>\n",
       "      <td>6011929061123406</td>\n",
       "      <td>02/20</td>\n",
       "      <td>900</td>\n",
       "      <td>JCB 16 digit</td>\n",
       "      <td>pdunlap@yahoo.com</td>\n",
       "      <td>Scientist, product/process development</td>\n",
       "      <td>149.146.147.205</td>\n",
       "      <td>el</td>\n",
       "      <td>98.14</td>\n",
       "    </tr>\n",
       "    <tr>\n",
       "      <th>1</th>\n",
       "      <td>9374 Jasmine Spurs Suite 508\\nSouth John, TN 8...</td>\n",
       "      <td>28 rn</td>\n",
       "      <td>PM</td>\n",
       "      <td>Opera/8.93.(Windows 98; Win 9x 4.90; en-US) Pr...</td>\n",
       "      <td>Fletcher, Richards and Whitaker</td>\n",
       "      <td>3337758169645356</td>\n",
       "      <td>11/18</td>\n",
       "      <td>561</td>\n",
       "      <td>Mastercard</td>\n",
       "      <td>anthony41@reed.com</td>\n",
       "      <td>Drilling engineer</td>\n",
       "      <td>15.160.41.51</td>\n",
       "      <td>fr</td>\n",
       "      <td>70.73</td>\n",
       "    </tr>\n",
       "    <tr>\n",
       "      <th>2</th>\n",
       "      <td>Unit 0065 Box 5052\\nDPO AP 27450</td>\n",
       "      <td>94 vE</td>\n",
       "      <td>PM</td>\n",
       "      <td>Mozilla/5.0 (compatible; MSIE 9.0; Windows NT ...</td>\n",
       "      <td>Simpson, Williams and Pham</td>\n",
       "      <td>675957666125</td>\n",
       "      <td>08/19</td>\n",
       "      <td>699</td>\n",
       "      <td>JCB 16 digit</td>\n",
       "      <td>amymiller@morales-harrison.com</td>\n",
       "      <td>Customer service manager</td>\n",
       "      <td>132.207.160.22</td>\n",
       "      <td>de</td>\n",
       "      <td>0.95</td>\n",
       "    </tr>\n",
       "    <tr>\n",
       "      <th>3</th>\n",
       "      <td>7780 Julia Fords\\nNew Stacy, WA 45798</td>\n",
       "      <td>36 vm</td>\n",
       "      <td>PM</td>\n",
       "      <td>Mozilla/5.0 (Macintosh; Intel Mac OS X 10_8_0 ...</td>\n",
       "      <td>Williams, Marshall and Buchanan</td>\n",
       "      <td>6011578504430710</td>\n",
       "      <td>02/24</td>\n",
       "      <td>384</td>\n",
       "      <td>Discover</td>\n",
       "      <td>brent16@olson-robinson.info</td>\n",
       "      <td>Drilling engineer</td>\n",
       "      <td>30.250.74.19</td>\n",
       "      <td>es</td>\n",
       "      <td>78.04</td>\n",
       "    </tr>\n",
       "    <tr>\n",
       "      <th>4</th>\n",
       "      <td>23012 Munoz Drive Suite 337\\nNew Cynthia, TX 5...</td>\n",
       "      <td>20 IE</td>\n",
       "      <td>AM</td>\n",
       "      <td>Opera/9.58.(X11; Linux x86_64; it-IT) Presto/2...</td>\n",
       "      <td>Brown, Watson and Andrews</td>\n",
       "      <td>6011456623207998</td>\n",
       "      <td>10/25</td>\n",
       "      <td>678</td>\n",
       "      <td>Diners Club / Carte Blanche</td>\n",
       "      <td>christopherwright@gmail.com</td>\n",
       "      <td>Fine artist</td>\n",
       "      <td>24.140.33.94</td>\n",
       "      <td>es</td>\n",
       "      <td>77.82</td>\n",
       "    </tr>\n",
       "  </tbody>\n",
       "</table>\n",
       "</div>"
      ],
      "text/plain": [
       "                                             Address    Lot AM or PM  \\\n",
       "0  16629 Pace Camp Apt. 448\\nAlexisborough, NE 77...  46 in       PM   \n",
       "1  9374 Jasmine Spurs Suite 508\\nSouth John, TN 8...  28 rn       PM   \n",
       "2                   Unit 0065 Box 5052\\nDPO AP 27450  94 vE       PM   \n",
       "3              7780 Julia Fords\\nNew Stacy, WA 45798  36 vm       PM   \n",
       "4  23012 Munoz Drive Suite 337\\nNew Cynthia, TX 5...  20 IE       AM   \n",
       "\n",
       "                                        Browser Info  \\\n",
       "0  Opera/9.56.(X11; Linux x86_64; sl-SI) Presto/2...   \n",
       "1  Opera/8.93.(Windows 98; Win 9x 4.90; en-US) Pr...   \n",
       "2  Mozilla/5.0 (compatible; MSIE 9.0; Windows NT ...   \n",
       "3  Mozilla/5.0 (Macintosh; Intel Mac OS X 10_8_0 ...   \n",
       "4  Opera/9.58.(X11; Linux x86_64; it-IT) Presto/2...   \n",
       "\n",
       "                           Company       Credit Card CC Exp Date  \\\n",
       "0                  Martinez-Herman  6011929061123406       02/20   \n",
       "1  Fletcher, Richards and Whitaker  3337758169645356       11/18   \n",
       "2       Simpson, Williams and Pham      675957666125       08/19   \n",
       "3  Williams, Marshall and Buchanan  6011578504430710       02/24   \n",
       "4        Brown, Watson and Andrews  6011456623207998       10/25   \n",
       "\n",
       "   CC Security Code                  CC Provider  \\\n",
       "0               900                 JCB 16 digit   \n",
       "1               561                   Mastercard   \n",
       "2               699                 JCB 16 digit   \n",
       "3               384                     Discover   \n",
       "4               678  Diners Club / Carte Blanche   \n",
       "\n",
       "                            Email                                     Job  \\\n",
       "0               pdunlap@yahoo.com  Scientist, product/process development   \n",
       "1              anthony41@reed.com                       Drilling engineer   \n",
       "2  amymiller@morales-harrison.com                Customer service manager   \n",
       "3     brent16@olson-robinson.info                       Drilling engineer   \n",
       "4     christopherwright@gmail.com                             Fine artist   \n",
       "\n",
       "        IP Address Language  Purchase Price  \n",
       "0  149.146.147.205       el           98.14  \n",
       "1     15.160.41.51       fr           70.73  \n",
       "2   132.207.160.22       de            0.95  \n",
       "3     30.250.74.19       es           78.04  \n",
       "4     24.140.33.94       es           77.82  "
      ]
     },
     "execution_count": 60,
     "metadata": {},
     "output_type": "execute_result"
    }
   ],
   "source": [
    "dataframe1 = pd.read_csv(\"Ecommerce Purchases.txt\") \n",
    "dataframe1.head()"
   ]
  },
  {
   "cell_type": "code",
   "execution_count": 62,
   "id": "d9721bad",
   "metadata": {},
   "outputs": [
    {
     "data": {
      "text/plain": [
       "(10000, 14)"
      ]
     },
     "execution_count": 62,
     "metadata": {},
     "output_type": "execute_result"
    }
   ],
   "source": [
    "dataframe1.shape"
   ]
  },
  {
   "cell_type": "code",
   "execution_count": 63,
   "id": "71264e0e",
   "metadata": {},
   "outputs": [
    {
     "data": {
      "text/plain": [
       "Index(['Address', 'Lot', 'AM or PM', 'Browser Info', 'Company', 'Credit Card',\n",
       "       'CC Exp Date', 'CC Security Code', 'CC Provider', 'Email', 'Job',\n",
       "       'IP Address', 'Language', 'Purchase Price'],\n",
       "      dtype='object')"
      ]
     },
     "execution_count": 63,
     "metadata": {},
     "output_type": "execute_result"
    }
   ],
   "source": [
    "dataframe1.columns"
   ]
  },
  {
   "cell_type": "code",
   "execution_count": 64,
   "id": "ec23612e",
   "metadata": {},
   "outputs": [
    {
     "data": {
      "text/plain": [
       "Address              object\n",
       "Lot                  object\n",
       "AM or PM             object\n",
       "Browser Info         object\n",
       "Company              object\n",
       "Credit Card           int64\n",
       "CC Exp Date          object\n",
       "CC Security Code      int64\n",
       "CC Provider          object\n",
       "Email                object\n",
       "Job                  object\n",
       "IP Address           object\n",
       "Language             object\n",
       "Purchase Price      float64\n",
       "dtype: object"
      ]
     },
     "execution_count": 64,
     "metadata": {},
     "output_type": "execute_result"
    }
   ],
   "source": [
    "dataframe1.dtypes"
   ]
  },
  {
   "cell_type": "code",
   "execution_count": 66,
   "id": "af4ca2eb",
   "metadata": {},
   "outputs": [
    {
     "data": {
      "text/html": [
       "<div>\n",
       "<style scoped>\n",
       "    .dataframe tbody tr th:only-of-type {\n",
       "        vertical-align: middle;\n",
       "    }\n",
       "\n",
       "    .dataframe tbody tr th {\n",
       "        vertical-align: top;\n",
       "    }\n",
       "\n",
       "    .dataframe thead th {\n",
       "        text-align: right;\n",
       "    }\n",
       "</style>\n",
       "<table border=\"1\" class=\"dataframe\">\n",
       "  <thead>\n",
       "    <tr style=\"text-align: right;\">\n",
       "      <th></th>\n",
       "      <th>Credit Card</th>\n",
       "      <th>CC Security Code</th>\n",
       "      <th>Purchase Price</th>\n",
       "    </tr>\n",
       "  </thead>\n",
       "  <tbody>\n",
       "    <tr>\n",
       "      <th>count</th>\n",
       "      <td>1.000000e+04</td>\n",
       "      <td>10000.000000</td>\n",
       "      <td>10000.000000</td>\n",
       "    </tr>\n",
       "    <tr>\n",
       "      <th>mean</th>\n",
       "      <td>2.341374e+15</td>\n",
       "      <td>907.217800</td>\n",
       "      <td>50.347302</td>\n",
       "    </tr>\n",
       "    <tr>\n",
       "      <th>std</th>\n",
       "      <td>2.256103e+15</td>\n",
       "      <td>1589.693035</td>\n",
       "      <td>29.015836</td>\n",
       "    </tr>\n",
       "    <tr>\n",
       "      <th>min</th>\n",
       "      <td>6.040186e+10</td>\n",
       "      <td>0.000000</td>\n",
       "      <td>0.000000</td>\n",
       "    </tr>\n",
       "    <tr>\n",
       "      <th>25%</th>\n",
       "      <td>3.056322e+13</td>\n",
       "      <td>280.000000</td>\n",
       "      <td>25.150000</td>\n",
       "    </tr>\n",
       "    <tr>\n",
       "      <th>50%</th>\n",
       "      <td>8.699942e+14</td>\n",
       "      <td>548.000000</td>\n",
       "      <td>50.505000</td>\n",
       "    </tr>\n",
       "    <tr>\n",
       "      <th>75%</th>\n",
       "      <td>4.492298e+15</td>\n",
       "      <td>816.000000</td>\n",
       "      <td>75.770000</td>\n",
       "    </tr>\n",
       "    <tr>\n",
       "      <th>max</th>\n",
       "      <td>6.012000e+15</td>\n",
       "      <td>9993.000000</td>\n",
       "      <td>99.990000</td>\n",
       "    </tr>\n",
       "  </tbody>\n",
       "</table>\n",
       "</div>"
      ],
      "text/plain": [
       "        Credit Card  CC Security Code  Purchase Price\n",
       "count  1.000000e+04      10000.000000    10000.000000\n",
       "mean   2.341374e+15        907.217800       50.347302\n",
       "std    2.256103e+15       1589.693035       29.015836\n",
       "min    6.040186e+10          0.000000        0.000000\n",
       "25%    3.056322e+13        280.000000       25.150000\n",
       "50%    8.699942e+14        548.000000       50.505000\n",
       "75%    4.492298e+15        816.000000       75.770000\n",
       "max    6.012000e+15       9993.000000       99.990000"
      ]
     },
     "execution_count": 66,
     "metadata": {},
     "output_type": "execute_result"
    }
   ],
   "source": [
    "dataframe1.describe()"
   ]
  },
  {
   "cell_type": "code",
   "execution_count": 67,
   "id": "1af24208",
   "metadata": {},
   "outputs": [
    {
     "data": {
      "text/html": [
       "<div>\n",
       "<style scoped>\n",
       "    .dataframe tbody tr th:only-of-type {\n",
       "        vertical-align: middle;\n",
       "    }\n",
       "\n",
       "    .dataframe tbody tr th {\n",
       "        vertical-align: top;\n",
       "    }\n",
       "\n",
       "    .dataframe thead th {\n",
       "        text-align: right;\n",
       "    }\n",
       "</style>\n",
       "<table border=\"1\" class=\"dataframe\">\n",
       "  <thead>\n",
       "    <tr style=\"text-align: right;\">\n",
       "      <th></th>\n",
       "      <th>Address</th>\n",
       "      <th>Lot</th>\n",
       "      <th>AM or PM</th>\n",
       "      <th>Browser Info</th>\n",
       "      <th>Company</th>\n",
       "      <th>Credit Card</th>\n",
       "      <th>CC Exp Date</th>\n",
       "      <th>CC Security Code</th>\n",
       "      <th>CC Provider</th>\n",
       "      <th>Email</th>\n",
       "      <th>Job</th>\n",
       "      <th>IP Address</th>\n",
       "      <th>Language</th>\n",
       "      <th>Purchase Price</th>\n",
       "    </tr>\n",
       "  </thead>\n",
       "  <tbody>\n",
       "    <tr>\n",
       "      <th>count</th>\n",
       "      <td>10000</td>\n",
       "      <td>10000</td>\n",
       "      <td>10000</td>\n",
       "      <td>10000</td>\n",
       "      <td>10000</td>\n",
       "      <td>1.000000e+04</td>\n",
       "      <td>10000</td>\n",
       "      <td>10000.000000</td>\n",
       "      <td>10000</td>\n",
       "      <td>10000</td>\n",
       "      <td>10000</td>\n",
       "      <td>10000</td>\n",
       "      <td>10000</td>\n",
       "      <td>10000.000000</td>\n",
       "    </tr>\n",
       "    <tr>\n",
       "      <th>unique</th>\n",
       "      <td>10000</td>\n",
       "      <td>9822</td>\n",
       "      <td>2</td>\n",
       "      <td>8287</td>\n",
       "      <td>8653</td>\n",
       "      <td>NaN</td>\n",
       "      <td>121</td>\n",
       "      <td>NaN</td>\n",
       "      <td>10</td>\n",
       "      <td>9954</td>\n",
       "      <td>623</td>\n",
       "      <td>10000</td>\n",
       "      <td>9</td>\n",
       "      <td>NaN</td>\n",
       "    </tr>\n",
       "    <tr>\n",
       "      <th>top</th>\n",
       "      <td>16629 Pace Camp Apt. 448\\nAlexisborough, NE 77...</td>\n",
       "      <td>16 gc</td>\n",
       "      <td>PM</td>\n",
       "      <td>Mozilla/5.0 (compatible; MSIE 9.0; Windows CE;...</td>\n",
       "      <td>Brown Ltd</td>\n",
       "      <td>NaN</td>\n",
       "      <td>08/22</td>\n",
       "      <td>NaN</td>\n",
       "      <td>JCB 16 digit</td>\n",
       "      <td>leekathy@yahoo.com</td>\n",
       "      <td>Interior and spatial designer</td>\n",
       "      <td>149.146.147.205</td>\n",
       "      <td>de</td>\n",
       "      <td>NaN</td>\n",
       "    </tr>\n",
       "    <tr>\n",
       "      <th>freq</th>\n",
       "      <td>1</td>\n",
       "      <td>2</td>\n",
       "      <td>5068</td>\n",
       "      <td>12</td>\n",
       "      <td>15</td>\n",
       "      <td>NaN</td>\n",
       "      <td>108</td>\n",
       "      <td>NaN</td>\n",
       "      <td>1716</td>\n",
       "      <td>2</td>\n",
       "      <td>31</td>\n",
       "      <td>1</td>\n",
       "      <td>1155</td>\n",
       "      <td>NaN</td>\n",
       "    </tr>\n",
       "    <tr>\n",
       "      <th>mean</th>\n",
       "      <td>NaN</td>\n",
       "      <td>NaN</td>\n",
       "      <td>NaN</td>\n",
       "      <td>NaN</td>\n",
       "      <td>NaN</td>\n",
       "      <td>2.341374e+15</td>\n",
       "      <td>NaN</td>\n",
       "      <td>907.217800</td>\n",
       "      <td>NaN</td>\n",
       "      <td>NaN</td>\n",
       "      <td>NaN</td>\n",
       "      <td>NaN</td>\n",
       "      <td>NaN</td>\n",
       "      <td>50.347302</td>\n",
       "    </tr>\n",
       "    <tr>\n",
       "      <th>std</th>\n",
       "      <td>NaN</td>\n",
       "      <td>NaN</td>\n",
       "      <td>NaN</td>\n",
       "      <td>NaN</td>\n",
       "      <td>NaN</td>\n",
       "      <td>2.256103e+15</td>\n",
       "      <td>NaN</td>\n",
       "      <td>1589.693035</td>\n",
       "      <td>NaN</td>\n",
       "      <td>NaN</td>\n",
       "      <td>NaN</td>\n",
       "      <td>NaN</td>\n",
       "      <td>NaN</td>\n",
       "      <td>29.015836</td>\n",
       "    </tr>\n",
       "    <tr>\n",
       "      <th>min</th>\n",
       "      <td>NaN</td>\n",
       "      <td>NaN</td>\n",
       "      <td>NaN</td>\n",
       "      <td>NaN</td>\n",
       "      <td>NaN</td>\n",
       "      <td>6.040186e+10</td>\n",
       "      <td>NaN</td>\n",
       "      <td>0.000000</td>\n",
       "      <td>NaN</td>\n",
       "      <td>NaN</td>\n",
       "      <td>NaN</td>\n",
       "      <td>NaN</td>\n",
       "      <td>NaN</td>\n",
       "      <td>0.000000</td>\n",
       "    </tr>\n",
       "    <tr>\n",
       "      <th>25%</th>\n",
       "      <td>NaN</td>\n",
       "      <td>NaN</td>\n",
       "      <td>NaN</td>\n",
       "      <td>NaN</td>\n",
       "      <td>NaN</td>\n",
       "      <td>3.056322e+13</td>\n",
       "      <td>NaN</td>\n",
       "      <td>280.000000</td>\n",
       "      <td>NaN</td>\n",
       "      <td>NaN</td>\n",
       "      <td>NaN</td>\n",
       "      <td>NaN</td>\n",
       "      <td>NaN</td>\n",
       "      <td>25.150000</td>\n",
       "    </tr>\n",
       "    <tr>\n",
       "      <th>50%</th>\n",
       "      <td>NaN</td>\n",
       "      <td>NaN</td>\n",
       "      <td>NaN</td>\n",
       "      <td>NaN</td>\n",
       "      <td>NaN</td>\n",
       "      <td>8.699942e+14</td>\n",
       "      <td>NaN</td>\n",
       "      <td>548.000000</td>\n",
       "      <td>NaN</td>\n",
       "      <td>NaN</td>\n",
       "      <td>NaN</td>\n",
       "      <td>NaN</td>\n",
       "      <td>NaN</td>\n",
       "      <td>50.505000</td>\n",
       "    </tr>\n",
       "    <tr>\n",
       "      <th>75%</th>\n",
       "      <td>NaN</td>\n",
       "      <td>NaN</td>\n",
       "      <td>NaN</td>\n",
       "      <td>NaN</td>\n",
       "      <td>NaN</td>\n",
       "      <td>4.492298e+15</td>\n",
       "      <td>NaN</td>\n",
       "      <td>816.000000</td>\n",
       "      <td>NaN</td>\n",
       "      <td>NaN</td>\n",
       "      <td>NaN</td>\n",
       "      <td>NaN</td>\n",
       "      <td>NaN</td>\n",
       "      <td>75.770000</td>\n",
       "    </tr>\n",
       "    <tr>\n",
       "      <th>max</th>\n",
       "      <td>NaN</td>\n",
       "      <td>NaN</td>\n",
       "      <td>NaN</td>\n",
       "      <td>NaN</td>\n",
       "      <td>NaN</td>\n",
       "      <td>6.012000e+15</td>\n",
       "      <td>NaN</td>\n",
       "      <td>9993.000000</td>\n",
       "      <td>NaN</td>\n",
       "      <td>NaN</td>\n",
       "      <td>NaN</td>\n",
       "      <td>NaN</td>\n",
       "      <td>NaN</td>\n",
       "      <td>99.990000</td>\n",
       "    </tr>\n",
       "  </tbody>\n",
       "</table>\n",
       "</div>"
      ],
      "text/plain": [
       "                                                  Address    Lot AM or PM  \\\n",
       "count                                               10000  10000    10000   \n",
       "unique                                              10000   9822        2   \n",
       "top     16629 Pace Camp Apt. 448\\nAlexisborough, NE 77...  16 gc       PM   \n",
       "freq                                                    1      2     5068   \n",
       "mean                                                  NaN    NaN      NaN   \n",
       "std                                                   NaN    NaN      NaN   \n",
       "min                                                   NaN    NaN      NaN   \n",
       "25%                                                   NaN    NaN      NaN   \n",
       "50%                                                   NaN    NaN      NaN   \n",
       "75%                                                   NaN    NaN      NaN   \n",
       "max                                                   NaN    NaN      NaN   \n",
       "\n",
       "                                             Browser Info    Company  \\\n",
       "count                                               10000      10000   \n",
       "unique                                               8287       8653   \n",
       "top     Mozilla/5.0 (compatible; MSIE 9.0; Windows CE;...  Brown Ltd   \n",
       "freq                                                   12         15   \n",
       "mean                                                  NaN        NaN   \n",
       "std                                                   NaN        NaN   \n",
       "min                                                   NaN        NaN   \n",
       "25%                                                   NaN        NaN   \n",
       "50%                                                   NaN        NaN   \n",
       "75%                                                   NaN        NaN   \n",
       "max                                                   NaN        NaN   \n",
       "\n",
       "         Credit Card CC Exp Date  CC Security Code   CC Provider  \\\n",
       "count   1.000000e+04       10000      10000.000000         10000   \n",
       "unique           NaN         121               NaN            10   \n",
       "top              NaN       08/22               NaN  JCB 16 digit   \n",
       "freq             NaN         108               NaN          1716   \n",
       "mean    2.341374e+15         NaN        907.217800           NaN   \n",
       "std     2.256103e+15         NaN       1589.693035           NaN   \n",
       "min     6.040186e+10         NaN          0.000000           NaN   \n",
       "25%     3.056322e+13         NaN        280.000000           NaN   \n",
       "50%     8.699942e+14         NaN        548.000000           NaN   \n",
       "75%     4.492298e+15         NaN        816.000000           NaN   \n",
       "max     6.012000e+15         NaN       9993.000000           NaN   \n",
       "\n",
       "                     Email                            Job       IP Address  \\\n",
       "count                10000                          10000            10000   \n",
       "unique                9954                            623            10000   \n",
       "top     leekathy@yahoo.com  Interior and spatial designer  149.146.147.205   \n",
       "freq                     2                             31                1   \n",
       "mean                   NaN                            NaN              NaN   \n",
       "std                    NaN                            NaN              NaN   \n",
       "min                    NaN                            NaN              NaN   \n",
       "25%                    NaN                            NaN              NaN   \n",
       "50%                    NaN                            NaN              NaN   \n",
       "75%                    NaN                            NaN              NaN   \n",
       "max                    NaN                            NaN              NaN   \n",
       "\n",
       "       Language  Purchase Price  \n",
       "count     10000    10000.000000  \n",
       "unique        9             NaN  \n",
       "top          de             NaN  \n",
       "freq       1155             NaN  \n",
       "mean        NaN       50.347302  \n",
       "std         NaN       29.015836  \n",
       "min         NaN        0.000000  \n",
       "25%         NaN       25.150000  \n",
       "50%         NaN       50.505000  \n",
       "75%         NaN       75.770000  \n",
       "max         NaN       99.990000  "
      ]
     },
     "execution_count": 67,
     "metadata": {},
     "output_type": "execute_result"
    }
   ],
   "source": [
    "dataframe1.describe(include=\"all\")"
   ]
  },
  {
   "cell_type": "code",
   "execution_count": 73,
   "id": "7692e5df",
   "metadata": {},
   "outputs": [
    {
     "data": {
      "text/plain": [
       "Address             0\n",
       "Lot                 0\n",
       "AM or PM            0\n",
       "Browser Info        0\n",
       "Company             0\n",
       "Credit Card         0\n",
       "CC Exp Date         0\n",
       "CC Security Code    0\n",
       "CC Provider         0\n",
       "Email               0\n",
       "Job                 0\n",
       "IP Address          0\n",
       "Language            0\n",
       "Purchase Price      0\n",
       "dtype: int64"
      ]
     },
     "execution_count": 73,
     "metadata": {},
     "output_type": "execute_result"
    }
   ],
   "source": [
    "dataframe1.isnull().sum()"
   ]
  },
  {
   "cell_type": "code",
   "execution_count": 80,
   "id": "b9d07824",
   "metadata": {},
   "outputs": [
    {
     "name": "stdout",
     "output_type": "stream",
     "text": [
      "NaN Counts:\n",
      "Address             0\n",
      "Lot                 0\n",
      "AM or PM            0\n",
      "Browser Info        0\n",
      "Company             0\n",
      "Credit Card         0\n",
      "CC Exp Date         0\n",
      "CC Security Code    0\n",
      "CC Provider         0\n",
      "Email               0\n",
      "Job                 0\n",
      "IP Address          0\n",
      "Language            0\n",
      "Purchase Price      0\n",
      "dtype: int64\n"
     ]
    }
   ],
   "source": [
    "# Count NaN values in each column\n",
    "nan_counts = dataframe1.isna().sum()\n",
    "\n",
    "# Display the counts\n",
    "print(\"NaN Counts:\")\n",
    "print(nan_counts)"
   ]
  },
  {
   "cell_type": "code",
   "execution_count": 78,
   "id": "870e1132",
   "metadata": {},
   "outputs": [
    {
     "name": "stdout",
     "output_type": "stream",
     "text": [
      "Number of Duplicate Rows: 0\n"
     ]
    }
   ],
   "source": [
    "duplicate_count = df[df.duplicated()].shape[0]\n",
    "\n",
    "print(f\"Number of Duplicate Rows: {duplicate_count}\")\n"
   ]
  },
  {
   "cell_type": "code",
   "execution_count": 69,
   "id": "71660d7d",
   "metadata": {},
   "outputs": [
    {
     "name": "stdout",
     "output_type": "stream",
     "text": [
      "Index(['Credit Card', 'CC Security Code', 'Purchase Price'], dtype='object')\n"
     ]
    },
    {
     "name": "stderr",
     "output_type": "stream",
     "text": [
      "/Users/bheema.ujwala/anaconda3/lib/python3.11/site-packages/seaborn/_oldcore.py:1498: FutureWarning: is_categorical_dtype is deprecated and will be removed in a future version. Use isinstance(dtype, CategoricalDtype) instead\n",
      "  if pd.api.types.is_categorical_dtype(vector):\n"
     ]
    },
    {
     "data": {
      "image/png": "[encoded data removed]",
      "text/plain": [
       "<Figure size 800x600 with 1 Axes>"
      ]
     },
     "metadata": {},
     "output_type": "display_data"
    },
    {
     "name": "stderr",
     "output_type": "stream",
     "text": [
      "/Users/bheema.ujwala/anaconda3/lib/python3.11/site-packages/seaborn/_oldcore.py:1498: FutureWarning: is_categorical_dtype is deprecated and will be removed in a future version. Use isinstance(dtype, CategoricalDtype) instead\n",
      "  if pd.api.types.is_categorical_dtype(vector):\n"
     ]
    },
    {
     "data": {
      "image/png": "[encoded data removed]",
      "text/plain": [
       "<Figure size 800x600 with 1 Axes>"
      ]
     },
     "metadata": {},
     "output_type": "display_data"
    },
    {
     "name": "stderr",
     "output_type": "stream",
     "text": [
      "/Users/bheema.ujwala/anaconda3/lib/python3.11/site-packages/seaborn/_oldcore.py:1498: FutureWarning: is_categorical_dtype is deprecated and will be removed in a future version. Use isinstance(dtype, CategoricalDtype) instead\n",
      "  if pd.api.types.is_categorical_dtype(vector):\n"
     ]
    },
    {
     "data": {
      "image/png": "[encoded data removed]",
      "text/plain": [
       "<Figure size 800x600 with 1 Axes>"
      ]
     },
     "metadata": {},
     "output_type": "display_data"
    }
   ],
   "source": [
    "import seaborn as sns\n",
    "import matplotlib.pyplot as plt\n",
    "\n",
    "numerical_columns = dataframe1.select_dtypes(include=['int64', 'float64']).columns\n",
    "\n",
    "print(numerical_columns)\n",
    "for column in numerical_columns:\n",
    "    plt.figure(figsize=(8, 6))\n",
    "    sns.boxplot(x=dataframe1[column])\n",
    "    plt.title(f'Boxplot for {column}')\n",
    "    plt.show()\n"
   ]
  },
  {
   "cell_type": "code",
   "execution_count": 72,
   "id": "3107e1ab",
   "metadata": {},
   "outputs": [
    {
     "data": {
      "text/html": [
       "<div>\n",
       "<style scoped>\n",
       "    .dataframe tbody tr th:only-of-type {\n",
       "        vertical-align: middle;\n",
       "    }\n",
       "\n",
       "    .dataframe tbody tr th {\n",
       "        vertical-align: top;\n",
       "    }\n",
       "\n",
       "    .dataframe thead th {\n",
       "        text-align: right;\n",
       "    }\n",
       "</style>\n",
       "<table border=\"1\" class=\"dataframe\">\n",
       "  <thead>\n",
       "    <tr style=\"text-align: right;\">\n",
       "      <th></th>\n",
       "      <th>Credit Card</th>\n",
       "      <th>CC Security Code</th>\n",
       "      <th>Purchase Price</th>\n",
       "    </tr>\n",
       "  </thead>\n",
       "  <tbody>\n",
       "    <tr>\n",
       "      <th>Credit Card</th>\n",
       "      <td>1.000000</td>\n",
       "      <td>-0.018379</td>\n",
       "      <td>-0.005470</td>\n",
       "    </tr>\n",
       "    <tr>\n",
       "      <th>CC Security Code</th>\n",
       "      <td>-0.018379</td>\n",
       "      <td>1.000000</td>\n",
       "      <td>0.002856</td>\n",
       "    </tr>\n",
       "    <tr>\n",
       "      <th>Purchase Price</th>\n",
       "      <td>-0.005470</td>\n",
       "      <td>0.002856</td>\n",
       "      <td>1.000000</td>\n",
       "    </tr>\n",
       "  </tbody>\n",
       "</table>\n",
       "</div>"
      ],
      "text/plain": [
       "                  Credit Card  CC Security Code  Purchase Price\n",
       "Credit Card          1.000000         -0.018379       -0.005470\n",
       "CC Security Code    -0.018379          1.000000        0.002856\n",
       "Purchase Price      -0.005470          0.002856        1.000000"
      ]
     },
     "execution_count": 72,
     "metadata": {},
     "output_type": "execute_result"
    }
   ],
   "source": [
    "dataframe1.corr(numeric_only='true')"
   ]
  },
  {
   "cell_type": "code",
   "execution_count": 85,
   "id": "6626616a",
   "metadata": {},
   "outputs": [
    {
     "data": {
      "text/plain": [
       "0.0"
      ]
     },
     "execution_count": 85,
     "metadata": {},
     "output_type": "execute_result"
    }
   ],
   "source": [
    "dataframe1['Purchase Price'].min()"
   ]
  },
  {
   "cell_type": "code",
   "execution_count": 86,
   "id": "abd999ad",
   "metadata": {},
   "outputs": [
    {
     "data": {
      "text/plain": [
       "99.99"
      ]
     },
     "execution_count": 86,
     "metadata": {},
     "output_type": "execute_result"
    }
   ],
   "source": [
    "dataframe1['Purchase Price'].max()"
   ]
  },
  {
   "cell_type": "code",
   "execution_count": 95,
   "id": "bc6b402f",
   "metadata": {},
   "outputs": [
    {
     "data": {
      "text/plain": [
       "Language\n",
       "de    1155\n",
       "ru    1155\n",
       "el    1137\n",
       "pt    1118\n",
       "en    1098\n",
       "fr    1097\n",
       "es    1095\n",
       "it    1086\n",
       "zh    1059\n",
       "Name: count, dtype: int64"
      ]
     },
     "execution_count": 95,
     "metadata": {},
     "output_type": "execute_result"
    }
   ],
   "source": [
    "dataframe1['Language'].value_counts()"
   ]
  },
  {
   "cell_type": "code",
   "execution_count": 96,
   "id": "b67a1fea",
   "metadata": {},
   "outputs": [
    {
     "data": {
      "text/plain": [
       "1098"
      ]
     },
     "execution_count": 96,
     "metadata": {},
     "output_type": "execute_result"
    }
   ],
   "source": [
    "dataframe1['Language'].value_counts()[\"en\"]"
   ]
  },
  {
   "cell_type": "code",
   "execution_count": null,
   "id": "54dc0fc6",
   "metadata": {},
   "outputs": [],
   "source": [
    "dataframe1['Language'].value_counts()[\"en\"]"
   ]
  },
  {
   "cell_type": "code",
   "execution_count": 94,
   "id": "e5fdc1dc",
   "metadata": {},
   "outputs": [
    {
     "name": "stdout",
     "output_type": "stream",
     "text": [
      "1098\n"
     ]
    }
   ],
   "source": [
    "lang_count = 0 \n",
    "for lang in dataframe1['Language']:\n",
    "    if lang == 'en':\n",
    "        lang_count = lang_count+1\n",
    "\n",
    "print(lang_count)"
   ]
  },
  {
   "cell_type": "code",
   "execution_count": 102,
   "id": "84f187e4",
   "metadata": {},
   "outputs": [
    {
     "name": "stdout",
     "output_type": "stream",
     "text": [
      "30\n"
     ]
    }
   ],
   "source": [
    "job_count = 0 \n",
    "for lang in dataframe1['Job']:\n",
    "    if lang == 'Lawyer':\n",
    "        job_count = job_count+1\n",
    "\n",
    "print(job_count)"
   ]
  },
  {
   "cell_type": "code",
   "execution_count": 100,
   "id": "007f0397",
   "metadata": {},
   "outputs": [
    {
     "data": {
      "text/plain": [
       "30"
      ]
     },
     "execution_count": 100,
     "metadata": {},
     "output_type": "execute_result"
    }
   ],
   "source": [
    "dataframe1['Job'].value_counts()[\"Lawyer\"]"
   ]
  },
  {
   "cell_type": "code",
   "execution_count": 103,
   "id": "00850739",
   "metadata": {},
   "outputs": [
    {
     "data": {
      "text/plain": [
       "AM or PM\n",
       "PM    5068\n",
       "AM    4932\n",
       "Name: count, dtype: int64"
      ]
     },
     "execution_count": 103,
     "metadata": {},
     "output_type": "execute_result"
    }
   ],
   "source": [
    "dataframe1['AM or PM'].value_counts()"
   ]
  },
  {
   "cell_type": "code",
   "execution_count": 105,
   "id": "1e58bdf2",
   "metadata": {},
   "outputs": [
    {
     "name": "stdout",
     "output_type": "stream",
     "text": [
      "PM count 5068\n",
      "AM count 4932\n"
     ]
    }
   ],
   "source": [
    "print(\"PM count\", dataframe1['AM or PM'].value_counts()[\"PM\"])\n",
    "print(\"AM count\", dataframe1['AM or PM'].value_counts()[\"AM\"])"
   ]
  },
  {
   "cell_type": "code",
   "execution_count": 111,
   "id": "5ae248c7",
   "metadata": {},
   "outputs": [
    {
     "data": {
      "text/plain": [
       "Job\n",
       "Dietitian                            26\n",
       "Social worker                        26\n",
       "Designer, fashion/clothing           26\n",
       "Charity fundraiser                   26\n",
       "Research officer, political party    27\n",
       "Designer, jewellery                  27\n",
       "Purchasing manager                   27\n",
       "Social researcher                    28\n",
       "Lawyer                               30\n",
       "Interior and spatial designer        31\n",
       "Name: count, dtype: int64"
      ]
     },
     "execution_count": 111,
     "metadata": {},
     "output_type": "execute_result"
    }
   ],
   "source": [
    "dataframe1['Job'].value_counts().sort_values().tail(10)"
   ]
  },
  {
   "cell_type": "code",
   "execution_count": 119,
   "id": "b624e49c",
   "metadata": {},
   "outputs": [
    {
     "data": {
      "text/plain": [
       "Job\n",
       "Interior and spatial designer        31\n",
       "Lawyer                               30\n",
       "Social researcher                    28\n",
       "Purchasing manager                   27\n",
       "Designer, jewellery                  27\n",
       "Research officer, political party    27\n",
       "Name: count, dtype: int64"
      ]
     },
     "execution_count": 119,
     "metadata": {},
     "output_type": "execute_result"
    }
   ],
   "source": [
    "dataframe1['Job'].value_counts().head(6)"
   ]
  },
  {
   "cell_type": "code",
   "execution_count": 122,
   "id": "7367fa56",
   "metadata": {},
   "outputs": [
    {
     "data": {
      "text/plain": [
       "513    75.1\n",
       "Name: Purchase Price, dtype: float64"
      ]
     },
     "execution_count": 122,
     "metadata": {},
     "output_type": "execute_result"
    }
   ],
   "source": [
    "# Whats the purchase price of the transaction with lot:\"90 WT\"\n",
    "dataframe1[dataframe1['Lot'] == \"90 WT\"][\"Purchase Price\"]"
   ]
  },
  {
   "cell_type": "code",
   "execution_count": 125,
   "id": "a59e3bce",
   "metadata": {},
   "outputs": [
    {
     "data": {
      "text/plain": [
       "0       6011929061123406\n",
       "1       3337758169645356\n",
       "2           675957666125\n",
       "3       6011578504430710\n",
       "4       6011456623207998\n",
       "              ...       \n",
       "9995     342945015358701\n",
       "9996     210033169205009\n",
       "9997    6011539787356311\n",
       "9998     180003348082930\n",
       "9999    4139972901927273\n",
       "Name: Credit Card, Length: 10000, dtype: int64"
      ]
     },
     "execution_count": 125,
     "metadata": {},
     "output_type": "execute_result"
    }
   ],
   "source": [
    "dataframe1['Credit Card']"
   ]
  },
  {
   "cell_type": "code",
   "execution_count": 137,
   "id": "063a6d3e",
   "metadata": {},
   "outputs": [
    {
     "data": {
      "text/plain": [
       "1234    bondellen@williams-garza.com\n",
       "Name: Email, dtype: object"
      ]
     },
     "execution_count": 137,
     "metadata": {},
     "output_type": "execute_result"
    }
   ],
   "source": [
    "dataframe1[dataframe1['Credit Card'] == 4926535242672853][\"Email\"]"
   ]
  },
  {
   "cell_type": "code",
   "execution_count": 155,
   "id": "0d9640eb",
   "metadata": {},
   "outputs": [
    {
     "data": {
      "text/html": [
       "<div>\n",
       "<style scoped>\n",
       "    .dataframe tbody tr th:only-of-type {\n",
       "        vertical-align: middle;\n",
       "    }\n",
       "\n",
       "    .dataframe tbody tr th {\n",
       "        vertical-align: top;\n",
       "    }\n",
       "\n",
       "    .dataframe thead th {\n",
       "        text-align: right;\n",
       "    }\n",
       "</style>\n",
       "<table border=\"1\" class=\"dataframe\">\n",
       "  <thead>\n",
       "    <tr style=\"text-align: right;\">\n",
       "      <th></th>\n",
       "      <th>Address</th>\n",
       "      <th>Lot</th>\n",
       "      <th>AM or PM</th>\n",
       "      <th>Browser Info</th>\n",
       "      <th>Company</th>\n",
       "      <th>Credit Card</th>\n",
       "      <th>CC Exp Date</th>\n",
       "      <th>CC Security Code</th>\n",
       "      <th>CC Provider</th>\n",
       "      <th>Email</th>\n",
       "      <th>Job</th>\n",
       "      <th>IP Address</th>\n",
       "      <th>Language</th>\n",
       "      <th>Purchase Price</th>\n",
       "    </tr>\n",
       "  </thead>\n",
       "  <tbody>\n",
       "  </tbody>\n",
       "</table>\n",
       "</div>"
      ],
      "text/plain": [
       "Empty DataFrame\n",
       "Columns: [Address, Lot, AM or PM, Browser Info, Company, Credit Card, CC Exp Date, CC Security Code, CC Provider, Email, Job, IP Address, Language, Purchase Price]\n",
       "Index: []"
      ]
     },
     "execution_count": 155,
     "metadata": {},
     "output_type": "execute_result"
    }
   ],
   "source": [
    "dataframe1[(dataframe1['CC Provider'] == \"American Express\") & dataframe1['Purchase Price'] > 95]"
   ]
  },
  {
   "cell_type": "code",
   "execution_count": 162,
   "id": "cc094f1c",
   "metadata": {},
   "outputs": [
    {
     "data": {
      "text/html": [
       "<div>\n",
       "<style scoped>\n",
       "    .dataframe tbody tr th:only-of-type {\n",
       "        vertical-align: middle;\n",
       "    }\n",
       "\n",
       "    .dataframe tbody tr th {\n",
       "        vertical-align: top;\n",
       "    }\n",
       "\n",
       "    .dataframe thead th {\n",
       "        text-align: right;\n",
       "    }\n",
       "</style>\n",
       "<table border=\"1\" class=\"dataframe\">\n",
       "  <thead>\n",
       "    <tr style=\"text-align: right;\">\n",
       "      <th></th>\n",
       "      <th>Address</th>\n",
       "      <th>Lot</th>\n",
       "      <th>AM or PM</th>\n",
       "      <th>Browser Info</th>\n",
       "      <th>Company</th>\n",
       "      <th>Credit Card</th>\n",
       "      <th>CC Exp Date</th>\n",
       "      <th>CC Security Code</th>\n",
       "      <th>CC Provider</th>\n",
       "      <th>Email</th>\n",
       "      <th>Job</th>\n",
       "      <th>IP Address</th>\n",
       "      <th>Language</th>\n",
       "      <th>Purchase Price</th>\n",
       "    </tr>\n",
       "  </thead>\n",
       "  <tbody>\n",
       "    <tr>\n",
       "      <th>9</th>\n",
       "      <td>3795 Dawson Extensions\\nLake Tinafort, ID 88739</td>\n",
       "      <td>15 Ug</td>\n",
       "      <td>AM</td>\n",
       "      <td>Mozilla/5.0 (X11; Linux i686; rv:1.9.7.20) Gec...</td>\n",
       "      <td>Rivera, Buchanan and Ramirez</td>\n",
       "      <td>4396283918371</td>\n",
       "      <td>01/17</td>\n",
       "      <td>931</td>\n",
       "      <td>American Express</td>\n",
       "      <td>qcoleman@hunt-huerta.com</td>\n",
       "      <td>Forensic scientist</td>\n",
       "      <td>236.198.199.8</td>\n",
       "      <td>zh</td>\n",
       "      <td>95.63</td>\n",
       "    </tr>\n",
       "    <tr>\n",
       "      <th>280</th>\n",
       "      <td>81060 Dustin Causeway Apt. 503\\nPort Danielche...</td>\n",
       "      <td>80 zh</td>\n",
       "      <td>PM</td>\n",
       "      <td>Mozilla/5.0 (Windows NT 5.01) AppleWebKit/5362...</td>\n",
       "      <td>Clay PLC</td>\n",
       "      <td>377737470673585</td>\n",
       "      <td>10/17</td>\n",
       "      <td>349</td>\n",
       "      <td>American Express</td>\n",
       "      <td>hfarley@hicks.com</td>\n",
       "      <td>Ergonomist</td>\n",
       "      <td>134.52.148.32</td>\n",
       "      <td>de</td>\n",
       "      <td>99.13</td>\n",
       "    </tr>\n",
       "    <tr>\n",
       "      <th>372</th>\n",
       "      <td>359 Stanley Coves\\nSalasfort, SD 59457</td>\n",
       "      <td>75 Ub</td>\n",
       "      <td>PM</td>\n",
       "      <td>Opera/8.42.(X11; Linux x86_64; en-US) Presto/2...</td>\n",
       "      <td>Davis-Lawrence</td>\n",
       "      <td>371995567939253</td>\n",
       "      <td>02/26</td>\n",
       "      <td>1877</td>\n",
       "      <td>American Express</td>\n",
       "      <td>amberhull@jones.net</td>\n",
       "      <td>Training and development officer</td>\n",
       "      <td>198.98.34.250</td>\n",
       "      <td>pt</td>\n",
       "      <td>99.08</td>\n",
       "    </tr>\n",
       "    <tr>\n",
       "      <th>677</th>\n",
       "      <td>4855 Peter Bridge\\nJohnsonberg, PA 90599-0009</td>\n",
       "      <td>62 Nx</td>\n",
       "      <td>AM</td>\n",
       "      <td>Opera/9.49.(Windows 98; Win 9x 4.90; en-US) Pr...</td>\n",
       "      <td>Jones and Sons</td>\n",
       "      <td>4960556611626434</td>\n",
       "      <td>07/26</td>\n",
       "      <td>9255</td>\n",
       "      <td>American Express</td>\n",
       "      <td>evanskayla@fernandez.com</td>\n",
       "      <td>Plant breeder/geneticist</td>\n",
       "      <td>235.97.240.112</td>\n",
       "      <td>el</td>\n",
       "      <td>98.97</td>\n",
       "    </tr>\n",
       "    <tr>\n",
       "      <th>766</th>\n",
       "      <td>386 Alisha Unions\\nSteelebury, ND 19782</td>\n",
       "      <td>28 pJ</td>\n",
       "      <td>PM</td>\n",
       "      <td>Opera/8.47.(X11; Linux x86_64; sl-SI) Presto/2...</td>\n",
       "      <td>Proctor PLC</td>\n",
       "      <td>30325623350308</td>\n",
       "      <td>04/24</td>\n",
       "      <td>772</td>\n",
       "      <td>American Express</td>\n",
       "      <td>robertsonjulia@gmail.com</td>\n",
       "      <td>Therapist, art</td>\n",
       "      <td>146.208.30.83</td>\n",
       "      <td>es</td>\n",
       "      <td>96.66</td>\n",
       "    </tr>\n",
       "    <tr>\n",
       "      <th>1225</th>\n",
       "      <td>916 Amanda Heights\\nNew Johnland, CA 52112-8572</td>\n",
       "      <td>09 vg</td>\n",
       "      <td>PM</td>\n",
       "      <td>Mozilla/5.0 (X11; Linux i686; rv:1.9.7.20) Gec...</td>\n",
       "      <td>Clark, Ross and Travis</td>\n",
       "      <td>371229555854245</td>\n",
       "      <td>10/21</td>\n",
       "      <td>366</td>\n",
       "      <td>American Express</td>\n",
       "      <td>lawrencecarter@kelly.com</td>\n",
       "      <td>Artist</td>\n",
       "      <td>88.49.59.205</td>\n",
       "      <td>pt</td>\n",
       "      <td>96.55</td>\n",
       "    </tr>\n",
       "    <tr>\n",
       "      <th>1381</th>\n",
       "      <td>79284 Lisa Mews Suite 069\\nKellyborough, CT 71...</td>\n",
       "      <td>45 MR</td>\n",
       "      <td>PM</td>\n",
       "      <td>Mozilla/5.0 (Macintosh; PPC Mac OS X 10_5_5; r...</td>\n",
       "      <td>Randall-Cohen</td>\n",
       "      <td>4855262855037</td>\n",
       "      <td>05/17</td>\n",
       "      <td>518</td>\n",
       "      <td>American Express</td>\n",
       "      <td>maldonadomichael@martinez-delgado.info</td>\n",
       "      <td>Geophysical data processor</td>\n",
       "      <td>50.40.147.204</td>\n",
       "      <td>it</td>\n",
       "      <td>96.11</td>\n",
       "    </tr>\n",
       "    <tr>\n",
       "      <th>1385</th>\n",
       "      <td>67796 James Keys Suite 656\\nSouth Katieshire, ...</td>\n",
       "      <td>06 ia</td>\n",
       "      <td>PM</td>\n",
       "      <td>Mozilla/5.0 (Windows NT 5.1) AppleWebKit/5330 ...</td>\n",
       "      <td>Gonzalez, Gross and Allen</td>\n",
       "      <td>30407332938506</td>\n",
       "      <td>12/20</td>\n",
       "      <td>597</td>\n",
       "      <td>American Express</td>\n",
       "      <td>vbrown@daugherty.com</td>\n",
       "      <td>Geophysical data processor</td>\n",
       "      <td>152.133.246.191</td>\n",
       "      <td>zh</td>\n",
       "      <td>98.89</td>\n",
       "    </tr>\n",
       "    <tr>\n",
       "      <th>1568</th>\n",
       "      <td>76108 Barker Manors\\nEast Amy, PW 49544-5921</td>\n",
       "      <td>82 Qw</td>\n",
       "      <td>AM</td>\n",
       "      <td>Mozilla/5.0 (X11; Linux x86_64) AppleWebKit/53...</td>\n",
       "      <td>Nguyen, Branch and Wiley</td>\n",
       "      <td>5142451859832464</td>\n",
       "      <td>04/21</td>\n",
       "      <td>785</td>\n",
       "      <td>American Express</td>\n",
       "      <td>johnsonjulie@yahoo.com</td>\n",
       "      <td>Insurance claims handler</td>\n",
       "      <td>175.248.232.126</td>\n",
       "      <td>es</td>\n",
       "      <td>97.04</td>\n",
       "    </tr>\n",
       "    <tr>\n",
       "      <th>1727</th>\n",
       "      <td>478 Anita Hill Apt. 766\\nAverymouth, FM 50629-...</td>\n",
       "      <td>94 qM</td>\n",
       "      <td>AM</td>\n",
       "      <td>Mozilla/5.0 (X11; Linux x86_64) AppleWebKit/53...</td>\n",
       "      <td>Owen and Sons</td>\n",
       "      <td>30242757909967</td>\n",
       "      <td>11/19</td>\n",
       "      <td>7403</td>\n",
       "      <td>American Express</td>\n",
       "      <td>sharpmelanie@smith-johnson.com</td>\n",
       "      <td>Psychologist, prison and probation services</td>\n",
       "      <td>126.47.196.22</td>\n",
       "      <td>ru</td>\n",
       "      <td>95.58</td>\n",
       "    </tr>\n",
       "    <tr>\n",
       "      <th>2146</th>\n",
       "      <td>557 Barton Harbor\\nFuentesport, VI 29961</td>\n",
       "      <td>96 MV</td>\n",
       "      <td>AM</td>\n",
       "      <td>Mozilla/5.0 (compatible; MSIE 6.0; Windows 98;...</td>\n",
       "      <td>Flores-Cook</td>\n",
       "      <td>3337255995040373</td>\n",
       "      <td>04/19</td>\n",
       "      <td>28</td>\n",
       "      <td>American Express</td>\n",
       "      <td>jessica94@mosley-buchanan.com</td>\n",
       "      <td>Armed forces technical officer</td>\n",
       "      <td>35.97.189.19</td>\n",
       "      <td>es</td>\n",
       "      <td>98.01</td>\n",
       "    </tr>\n",
       "    <tr>\n",
       "      <th>2264</th>\n",
       "      <td>040 Ingram Way Suite 602\\nEast Matthew, AR 67341</td>\n",
       "      <td>52 WA</td>\n",
       "      <td>AM</td>\n",
       "      <td>Mozilla/5.0 (Windows NT 6.0) AppleWebKit/5341 ...</td>\n",
       "      <td>Baker, Simmons and Pitts</td>\n",
       "      <td>3096946456575623</td>\n",
       "      <td>11/22</td>\n",
       "      <td>56</td>\n",
       "      <td>American Express</td>\n",
       "      <td>holtamanda@gmail.com</td>\n",
       "      <td>Archaeologist</td>\n",
       "      <td>185.14.106.115</td>\n",
       "      <td>es</td>\n",
       "      <td>99.85</td>\n",
       "    </tr>\n",
       "    <tr>\n",
       "      <th>2267</th>\n",
       "      <td>216 Olivia Court Apt. 439\\nTonyshire, IN 19159...</td>\n",
       "      <td>11 za</td>\n",
       "      <td>PM</td>\n",
       "      <td>Mozilla/5.0 (Macintosh; PPC Mac OS X 10_6_4; r...</td>\n",
       "      <td>Olson Inc</td>\n",
       "      <td>5388757330269354</td>\n",
       "      <td>02/17</td>\n",
       "      <td>738</td>\n",
       "      <td>American Express</td>\n",
       "      <td>burkestephanie@lee-cameron.com</td>\n",
       "      <td>Management consultant</td>\n",
       "      <td>20.140.16.225</td>\n",
       "      <td>it</td>\n",
       "      <td>97.63</td>\n",
       "    </tr>\n",
       "    <tr>\n",
       "      <th>2642</th>\n",
       "      <td>899 Williams Prairie Suite 234\\nEast Hunterbur...</td>\n",
       "      <td>46 hb</td>\n",
       "      <td>PM</td>\n",
       "      <td>Mozilla/5.0 (compatible; MSIE 7.0; Windows NT ...</td>\n",
       "      <td>Webb Inc</td>\n",
       "      <td>3096797127305092</td>\n",
       "      <td>05/17</td>\n",
       "      <td>418</td>\n",
       "      <td>American Express</td>\n",
       "      <td>reevesmanuel@gmail.com</td>\n",
       "      <td>Engineer, maintenance (IT)</td>\n",
       "      <td>169.132.152.152</td>\n",
       "      <td>el</td>\n",
       "      <td>96.08</td>\n",
       "    </tr>\n",
       "    <tr>\n",
       "      <th>2828</th>\n",
       "      <td>20135 Miller Green Apt. 763\\nGarciaville, KY 6...</td>\n",
       "      <td>79 El</td>\n",
       "      <td>PM</td>\n",
       "      <td>Mozilla/5.0 (Windows; U; Windows CE) AppleWebK...</td>\n",
       "      <td>Zavala, Cox and Parker</td>\n",
       "      <td>5173968976288215</td>\n",
       "      <td>11/22</td>\n",
       "      <td>125</td>\n",
       "      <td>American Express</td>\n",
       "      <td>villarrealdavid@gray.com</td>\n",
       "      <td>Chartered management accountant</td>\n",
       "      <td>76.75.229.58</td>\n",
       "      <td>el</td>\n",
       "      <td>96.12</td>\n",
       "    </tr>\n",
       "    <tr>\n",
       "      <th>3291</th>\n",
       "      <td>58939 Reese Cove\\nSouth Ross, MA 54531</td>\n",
       "      <td>50 cD</td>\n",
       "      <td>AM</td>\n",
       "      <td>Mozilla/5.0 (compatible; MSIE 9.0; Windows 95;...</td>\n",
       "      <td>Chang, Davis and Snyder</td>\n",
       "      <td>349464844934636</td>\n",
       "      <td>11/23</td>\n",
       "      <td>103</td>\n",
       "      <td>American Express</td>\n",
       "      <td>stephanieacosta@yahoo.com</td>\n",
       "      <td>IT trainer</td>\n",
       "      <td>124.247.101.106</td>\n",
       "      <td>it</td>\n",
       "      <td>95.94</td>\n",
       "    </tr>\n",
       "    <tr>\n",
       "      <th>3349</th>\n",
       "      <td>1984 Christopher Turnpike Suite 904\\nRichardbu...</td>\n",
       "      <td>30 xs</td>\n",
       "      <td>AM</td>\n",
       "      <td>Mozilla/5.0 (X11; Linux x86_64; rv:1.9.7.20) G...</td>\n",
       "      <td>Martin-Mitchell</td>\n",
       "      <td>3096398727024637</td>\n",
       "      <td>03/19</td>\n",
       "      <td>439</td>\n",
       "      <td>American Express</td>\n",
       "      <td>hgross@mccoy-mckay.info</td>\n",
       "      <td>Structural engineer</td>\n",
       "      <td>167.172.139.33</td>\n",
       "      <td>pt</td>\n",
       "      <td>95.46</td>\n",
       "    </tr>\n",
       "    <tr>\n",
       "      <th>3619</th>\n",
       "      <td>03233 Angela Road Apt. 808\\nEast Jilliantown, ...</td>\n",
       "      <td>41 nH</td>\n",
       "      <td>PM</td>\n",
       "      <td>Opera/9.53.(Windows 95; en-US) Presto/2.9.175 ...</td>\n",
       "      <td>Silva, Kim and Martinez</td>\n",
       "      <td>4807251488895729</td>\n",
       "      <td>10/21</td>\n",
       "      <td>948</td>\n",
       "      <td>American Express</td>\n",
       "      <td>jonesjesse@castro.info</td>\n",
       "      <td>Garment/textile technologist</td>\n",
       "      <td>87.66.16.4</td>\n",
       "      <td>en</td>\n",
       "      <td>99.69</td>\n",
       "    </tr>\n",
       "    <tr>\n",
       "      <th>4071</th>\n",
       "      <td>8161 Craig Passage Apt. 939\\nPort Emilystad, R...</td>\n",
       "      <td>45 ab</td>\n",
       "      <td>AM</td>\n",
       "      <td>Mozilla/5.0 (Windows; U; Windows NT 6.1) Apple...</td>\n",
       "      <td>Wilson-Robinson</td>\n",
       "      <td>5506767693718324</td>\n",
       "      <td>08/23</td>\n",
       "      <td>18</td>\n",
       "      <td>American Express</td>\n",
       "      <td>hhenderson@yahoo.com</td>\n",
       "      <td>Customer service manager</td>\n",
       "      <td>119.74.76.168</td>\n",
       "      <td>es</td>\n",
       "      <td>96.49</td>\n",
       "    </tr>\n",
       "    <tr>\n",
       "      <th>4569</th>\n",
       "      <td>88284 Austin Summit Apt. 805\\nKellerside, WY 6...</td>\n",
       "      <td>03 WL</td>\n",
       "      <td>AM</td>\n",
       "      <td>Mozilla/5.0 (Macintosh; U; PPC Mac OS X 10_5_5...</td>\n",
       "      <td>Fisher, Thompson and Lynch</td>\n",
       "      <td>3088726880694574</td>\n",
       "      <td>12/19</td>\n",
       "      <td>159</td>\n",
       "      <td>American Express</td>\n",
       "      <td>amy00@patton.com</td>\n",
       "      <td>Actuary</td>\n",
       "      <td>207.18.223.8</td>\n",
       "      <td>el</td>\n",
       "      <td>97.38</td>\n",
       "    </tr>\n",
       "    <tr>\n",
       "      <th>5385</th>\n",
       "      <td>USNS Smith\\nFPO AA 37829</td>\n",
       "      <td>80 BX</td>\n",
       "      <td>AM</td>\n",
       "      <td>Opera/9.56.(X11; Linux x86_64; en-US) Presto/2...</td>\n",
       "      <td>Patterson-Miller</td>\n",
       "      <td>4411786056713950</td>\n",
       "      <td>12/22</td>\n",
       "      <td>452</td>\n",
       "      <td>American Express</td>\n",
       "      <td>ijones@hotmail.com</td>\n",
       "      <td>Field seismologist</td>\n",
       "      <td>251.254.250.100</td>\n",
       "      <td>el</td>\n",
       "      <td>96.13</td>\n",
       "    </tr>\n",
       "    <tr>\n",
       "      <th>5655</th>\n",
       "      <td>38674 Mckay Vista\\nWilsonbury, MO 55611-8663</td>\n",
       "      <td>95 aB</td>\n",
       "      <td>PM</td>\n",
       "      <td>Mozilla/5.0 (X11; Linux i686) AppleWebKit/5331...</td>\n",
       "      <td>Watson-Bailey</td>\n",
       "      <td>3096820981608615</td>\n",
       "      <td>05/20</td>\n",
       "      <td>259</td>\n",
       "      <td>American Express</td>\n",
       "      <td>timothy84@hotmail.com</td>\n",
       "      <td>Production designer, theatre/television/film</td>\n",
       "      <td>235.149.102.129</td>\n",
       "      <td>es</td>\n",
       "      <td>98.28</td>\n",
       "    </tr>\n",
       "    <tr>\n",
       "      <th>5692</th>\n",
       "      <td>PSC 8264, Box 8124\\nAPO AE 19700</td>\n",
       "      <td>97 sG</td>\n",
       "      <td>PM</td>\n",
       "      <td>Mozilla/5.0 (iPod; U; CPU iPhone OS 3_3 like M...</td>\n",
       "      <td>Moore Inc</td>\n",
       "      <td>6011499701167585</td>\n",
       "      <td>10/20</td>\n",
       "      <td>845</td>\n",
       "      <td>American Express</td>\n",
       "      <td>kellypace@yahoo.com</td>\n",
       "      <td>Aid worker</td>\n",
       "      <td>155.121.60.58</td>\n",
       "      <td>pt</td>\n",
       "      <td>98.66</td>\n",
       "    </tr>\n",
       "    <tr>\n",
       "      <th>5814</th>\n",
       "      <td>Unit 5232 Box 4650\\nDPO AE 28335-7543</td>\n",
       "      <td>71 So</td>\n",
       "      <td>PM</td>\n",
       "      <td>Mozilla/5.0 (X11; Linux i686) AppleWebKit/5342...</td>\n",
       "      <td>Garcia LLC</td>\n",
       "      <td>30346960979608</td>\n",
       "      <td>07/17</td>\n",
       "      <td>402</td>\n",
       "      <td>American Express</td>\n",
       "      <td>jrice@gmail.com</td>\n",
       "      <td>Solicitor</td>\n",
       "      <td>165.48.161.188</td>\n",
       "      <td>zh</td>\n",
       "      <td>96.73</td>\n",
       "    </tr>\n",
       "    <tr>\n",
       "      <th>5875</th>\n",
       "      <td>8256 Anderson Forest\\nFordbury, PA 81027-8980</td>\n",
       "      <td>17 Oe</td>\n",
       "      <td>AM</td>\n",
       "      <td>Mozilla/5.0 (compatible; MSIE 9.0; Windows NT ...</td>\n",
       "      <td>Kelly, Peterson and Oliver</td>\n",
       "      <td>5173335726386576</td>\n",
       "      <td>02/18</td>\n",
       "      <td>954</td>\n",
       "      <td>American Express</td>\n",
       "      <td>hernandezandrea@yahoo.com</td>\n",
       "      <td>Community development worker</td>\n",
       "      <td>212.168.246.27</td>\n",
       "      <td>ru</td>\n",
       "      <td>95.07</td>\n",
       "    </tr>\n",
       "    <tr>\n",
       "      <th>5895</th>\n",
       "      <td>87003 Jason Tunnel Apt. 216\\nDariusville, MS 8...</td>\n",
       "      <td>72 gL</td>\n",
       "      <td>AM</td>\n",
       "      <td>Mozilla/5.0 (compatible; MSIE 9.0; Windows NT ...</td>\n",
       "      <td>Reyes, Fox and Wilson</td>\n",
       "      <td>180010957603245</td>\n",
       "      <td>09/24</td>\n",
       "      <td>929</td>\n",
       "      <td>American Express</td>\n",
       "      <td>duncanmichael@hotmail.com</td>\n",
       "      <td>Event organiser</td>\n",
       "      <td>231.34.199.32</td>\n",
       "      <td>it</td>\n",
       "      <td>97.38</td>\n",
       "    </tr>\n",
       "    <tr>\n",
       "      <th>6026</th>\n",
       "      <td>Unit 4385 Box 1428\\nDPO AE 04110</td>\n",
       "      <td>58 Ex</td>\n",
       "      <td>AM</td>\n",
       "      <td>Mozilla/5.0 (Windows; U; Windows NT 5.01) Appl...</td>\n",
       "      <td>White Inc</td>\n",
       "      <td>3112975578138572</td>\n",
       "      <td>09/17</td>\n",
       "      <td>7</td>\n",
       "      <td>American Express</td>\n",
       "      <td>scott35@yahoo.com</td>\n",
       "      <td>Operations geologist</td>\n",
       "      <td>217.6.202.138</td>\n",
       "      <td>en</td>\n",
       "      <td>95.89</td>\n",
       "    </tr>\n",
       "    <tr>\n",
       "      <th>6524</th>\n",
       "      <td>344 Rivera Shore Apt. 224\\nJoshuaborough, ND 3...</td>\n",
       "      <td>44 SM</td>\n",
       "      <td>AM</td>\n",
       "      <td>Opera/8.62.(X11; Linux i686; en-US) Presto/2.9...</td>\n",
       "      <td>Lawson, Moyer and Valencia</td>\n",
       "      <td>379348662534664</td>\n",
       "      <td>06/17</td>\n",
       "      <td>809</td>\n",
       "      <td>American Express</td>\n",
       "      <td>olsonjohn@hotmail.com</td>\n",
       "      <td>Teacher, primary school</td>\n",
       "      <td>45.1.104.55</td>\n",
       "      <td>zh</td>\n",
       "      <td>97.87</td>\n",
       "    </tr>\n",
       "    <tr>\n",
       "      <th>7239</th>\n",
       "      <td>81561 Stein Rue\\nEast Melissaport, MA 64959</td>\n",
       "      <td>45 sZ</td>\n",
       "      <td>PM</td>\n",
       "      <td>Mozilla/5.0 (X11; Linux i686) AppleWebKit/5310...</td>\n",
       "      <td>Smith Ltd</td>\n",
       "      <td>503825682670</td>\n",
       "      <td>07/19</td>\n",
       "      <td>852</td>\n",
       "      <td>American Express</td>\n",
       "      <td>beckerjennifer@gmail.com</td>\n",
       "      <td>Engineer, energy</td>\n",
       "      <td>50.107.135.203</td>\n",
       "      <td>fr</td>\n",
       "      <td>97.32</td>\n",
       "    </tr>\n",
       "    <tr>\n",
       "      <th>7381</th>\n",
       "      <td>40804 Belinda Roads Apt. 186\\nWest Nicoleberg,...</td>\n",
       "      <td>30 GH</td>\n",
       "      <td>AM</td>\n",
       "      <td>Opera/9.32.(Windows NT 4.0; it-IT) Presto/2.9....</td>\n",
       "      <td>Blair-Keith</td>\n",
       "      <td>180089858618619</td>\n",
       "      <td>05/19</td>\n",
       "      <td>2107</td>\n",
       "      <td>American Express</td>\n",
       "      <td>woodsmatthew@walton.org</td>\n",
       "      <td>Fashion designer</td>\n",
       "      <td>223.87.136.82</td>\n",
       "      <td>es</td>\n",
       "      <td>99.81</td>\n",
       "    </tr>\n",
       "    <tr>\n",
       "      <th>7416</th>\n",
       "      <td>1082 Jason Alley Suite 707\\nWhitestad, SC 97805</td>\n",
       "      <td>08 bm</td>\n",
       "      <td>PM</td>\n",
       "      <td>Mozilla/5.0 (Windows NT 5.1; sl-SI; rv:1.9.2.2...</td>\n",
       "      <td>Carroll, Harrison and Escobar</td>\n",
       "      <td>3088903707645291</td>\n",
       "      <td>12/18</td>\n",
       "      <td>220</td>\n",
       "      <td>American Express</td>\n",
       "      <td>gcruz@butler.com</td>\n",
       "      <td>Broadcast presenter</td>\n",
       "      <td>193.90.91.152</td>\n",
       "      <td>pt</td>\n",
       "      <td>96.09</td>\n",
       "    </tr>\n",
       "    <tr>\n",
       "      <th>7514</th>\n",
       "      <td>678 David Manor Suite 323\\nBobbymouth, PW 59942</td>\n",
       "      <td>91 NA</td>\n",
       "      <td>AM</td>\n",
       "      <td>Mozilla/5.0 (compatible; MSIE 8.0; Windows 98;...</td>\n",
       "      <td>Glenn, Lowe and Shah</td>\n",
       "      <td>676298897445</td>\n",
       "      <td>04/26</td>\n",
       "      <td>61</td>\n",
       "      <td>American Express</td>\n",
       "      <td>tammy75@cameron.com</td>\n",
       "      <td>Automotive engineer</td>\n",
       "      <td>37.241.180.247</td>\n",
       "      <td>ru</td>\n",
       "      <td>98.36</td>\n",
       "    </tr>\n",
       "    <tr>\n",
       "      <th>8233</th>\n",
       "      <td>327 Hamilton Hollow\\nEast Nicolechester, RI 65868</td>\n",
       "      <td>53 dE</td>\n",
       "      <td>PM</td>\n",
       "      <td>Mozilla/5.0 (Macintosh; U; PPC Mac OS X 10_5_3...</td>\n",
       "      <td>Keller, Carter and Garcia</td>\n",
       "      <td>30299608736429</td>\n",
       "      <td>08/22</td>\n",
       "      <td>786</td>\n",
       "      <td>American Express</td>\n",
       "      <td>elliskaren@taylor.com</td>\n",
       "      <td>Chemical engineer</td>\n",
       "      <td>131.34.220.138</td>\n",
       "      <td>en</td>\n",
       "      <td>98.63</td>\n",
       "    </tr>\n",
       "    <tr>\n",
       "      <th>8381</th>\n",
       "      <td>274 Wallace Pine Apt. 189\\nMartinberg, WY 7548...</td>\n",
       "      <td>32 rI</td>\n",
       "      <td>PM</td>\n",
       "      <td>Mozilla/5.0 (Windows; U; Windows 98; Win 9x 4....</td>\n",
       "      <td>Kelly-Newman</td>\n",
       "      <td>5527104423944290</td>\n",
       "      <td>05/18</td>\n",
       "      <td>711</td>\n",
       "      <td>American Express</td>\n",
       "      <td>joneswilliam@cox.net</td>\n",
       "      <td>Surveyor, land/geomatics</td>\n",
       "      <td>29.211.114.191</td>\n",
       "      <td>ru</td>\n",
       "      <td>99.36</td>\n",
       "    </tr>\n",
       "    <tr>\n",
       "      <th>8408</th>\n",
       "      <td>Unit 4967 Box 4574\\nDPO AP 11412</td>\n",
       "      <td>05 zs</td>\n",
       "      <td>PM</td>\n",
       "      <td>Mozilla/5.0 (compatible; MSIE 5.0; Windows 98;...</td>\n",
       "      <td>Acevedo-Smith</td>\n",
       "      <td>3337721305744244</td>\n",
       "      <td>01/19</td>\n",
       "      <td>738</td>\n",
       "      <td>American Express</td>\n",
       "      <td>nunezjames@hotmail.com</td>\n",
       "      <td>Designer, exhibition/display</td>\n",
       "      <td>91.55.254.144</td>\n",
       "      <td>es</td>\n",
       "      <td>98.16</td>\n",
       "    </tr>\n",
       "    <tr>\n",
       "      <th>8434</th>\n",
       "      <td>474 Gonzalez Meadow Suite 581\\nEast Vincent, M...</td>\n",
       "      <td>14 St</td>\n",
       "      <td>PM</td>\n",
       "      <td>Mozilla/5.0 (compatible; MSIE 6.0; Windows NT ...</td>\n",
       "      <td>Miller and Sons</td>\n",
       "      <td>180059754370698</td>\n",
       "      <td>07/24</td>\n",
       "      <td>812</td>\n",
       "      <td>American Express</td>\n",
       "      <td>vtaylor@hatfield.com</td>\n",
       "      <td>Armed forces technical officer</td>\n",
       "      <td>26.69.128.20</td>\n",
       "      <td>it</td>\n",
       "      <td>97.90</td>\n",
       "    </tr>\n",
       "    <tr>\n",
       "      <th>8817</th>\n",
       "      <td>3658 Campos Lodge\\nChambersfurt, MH 86260</td>\n",
       "      <td>24 ej</td>\n",
       "      <td>PM</td>\n",
       "      <td>Mozilla/5.0 (compatible; MSIE 5.0; Windows NT ...</td>\n",
       "      <td>Fisher-Jones</td>\n",
       "      <td>210046575239925</td>\n",
       "      <td>09/25</td>\n",
       "      <td>860</td>\n",
       "      <td>American Express</td>\n",
       "      <td>jessica35@hotmail.com</td>\n",
       "      <td>Forensic scientist</td>\n",
       "      <td>18.74.143.113</td>\n",
       "      <td>fr</td>\n",
       "      <td>99.16</td>\n",
       "    </tr>\n",
       "    <tr>\n",
       "      <th>9168</th>\n",
       "      <td>18782 Hall Row Suite 810\\nSouth Wesleyville, I...</td>\n",
       "      <td>15 QU</td>\n",
       "      <td>PM</td>\n",
       "      <td>Opera/9.57.(X11; Linux i686; it-IT) Presto/2.9...</td>\n",
       "      <td>Butler PLC</td>\n",
       "      <td>5412611065926441</td>\n",
       "      <td>05/25</td>\n",
       "      <td>49</td>\n",
       "      <td>American Express</td>\n",
       "      <td>tammyblair@yahoo.com</td>\n",
       "      <td>Computer games developer</td>\n",
       "      <td>2.84.51.133</td>\n",
       "      <td>en</td>\n",
       "      <td>98.59</td>\n",
       "    </tr>\n",
       "    <tr>\n",
       "      <th>9856</th>\n",
       "      <td>058 Miranda Locks Suite 792\\nPort Davidstad, P...</td>\n",
       "      <td>73 IW</td>\n",
       "      <td>PM</td>\n",
       "      <td>Mozilla/5.0 (Windows NT 5.0) AppleWebKit/5360 ...</td>\n",
       "      <td>Olson-Navarro</td>\n",
       "      <td>6011037226242937</td>\n",
       "      <td>03/18</td>\n",
       "      <td>757</td>\n",
       "      <td>American Express</td>\n",
       "      <td>brendastewart@dalton.info</td>\n",
       "      <td>Site engineer</td>\n",
       "      <td>96.79.250.154</td>\n",
       "      <td>de</td>\n",
       "      <td>99.97</td>\n",
       "    </tr>\n",
       "  </tbody>\n",
       "</table>\n",
       "</div>"
      ],
      "text/plain": [
       "                                                Address    Lot AM or PM  \\\n",
       "9       3795 Dawson Extensions\\nLake Tinafort, ID 88739  15 Ug       AM   \n",
       "280   81060 Dustin Causeway Apt. 503\\nPort Danielche...  80 zh       PM   \n",
       "372              359 Stanley Coves\\nSalasfort, SD 59457  75 Ub       PM   \n",
       "677       4855 Peter Bridge\\nJohnsonberg, PA 90599-0009  62 Nx       AM   \n",
       "766             386 Alisha Unions\\nSteelebury, ND 19782  28 pJ       PM   \n",
       "1225    916 Amanda Heights\\nNew Johnland, CA 52112-8572  09 vg       PM   \n",
       "1381  79284 Lisa Mews Suite 069\\nKellyborough, CT 71...  45 MR       PM   \n",
       "1385  67796 James Keys Suite 656\\nSouth Katieshire, ...  06 ia       PM   \n",
       "1568       76108 Barker Manors\\nEast Amy, PW 49544-5921  82 Qw       AM   \n",
       "1727  478 Anita Hill Apt. 766\\nAverymouth, FM 50629-...  94 qM       AM   \n",
       "2146           557 Barton Harbor\\nFuentesport, VI 29961  96 MV       AM   \n",
       "2264   040 Ingram Way Suite 602\\nEast Matthew, AR 67341  52 WA       AM   \n",
       "2267  216 Olivia Court Apt. 439\\nTonyshire, IN 19159...  11 za       PM   \n",
       "2642  899 Williams Prairie Suite 234\\nEast Hunterbur...  46 hb       PM   \n",
       "2828  20135 Miller Green Apt. 763\\nGarciaville, KY 6...  79 El       PM   \n",
       "3291             58939 Reese Cove\\nSouth Ross, MA 54531  50 cD       AM   \n",
       "3349  1984 Christopher Turnpike Suite 904\\nRichardbu...  30 xs       AM   \n",
       "3619  03233 Angela Road Apt. 808\\nEast Jilliantown, ...  41 nH       PM   \n",
       "4071  8161 Craig Passage Apt. 939\\nPort Emilystad, R...  45 ab       AM   \n",
       "4569  88284 Austin Summit Apt. 805\\nKellerside, WY 6...  03 WL       AM   \n",
       "5385                           USNS Smith\\nFPO AA 37829  80 BX       AM   \n",
       "5655       38674 Mckay Vista\\nWilsonbury, MO 55611-8663  95 aB       PM   \n",
       "5692                   PSC 8264, Box 8124\\nAPO AE 19700  97 sG       PM   \n",
       "5814              Unit 5232 Box 4650\\nDPO AE 28335-7543  71 So       PM   \n",
       "5875      8256 Anderson Forest\\nFordbury, PA 81027-8980  17 Oe       AM   \n",
       "5895  87003 Jason Tunnel Apt. 216\\nDariusville, MS 8...  72 gL       AM   \n",
       "6026                   Unit 4385 Box 1428\\nDPO AE 04110  58 Ex       AM   \n",
       "6524  344 Rivera Shore Apt. 224\\nJoshuaborough, ND 3...  44 SM       AM   \n",
       "7239        81561 Stein Rue\\nEast Melissaport, MA 64959  45 sZ       PM   \n",
       "7381  40804 Belinda Roads Apt. 186\\nWest Nicoleberg,...  30 GH       AM   \n",
       "7416    1082 Jason Alley Suite 707\\nWhitestad, SC 97805  08 bm       PM   \n",
       "7514    678 David Manor Suite 323\\nBobbymouth, PW 59942  91 NA       AM   \n",
       "8233  327 Hamilton Hollow\\nEast Nicolechester, RI 65868  53 dE       PM   \n",
       "8381  274 Wallace Pine Apt. 189\\nMartinberg, WY 7548...  32 rI       PM   \n",
       "8408                   Unit 4967 Box 4574\\nDPO AP 11412  05 zs       PM   \n",
       "8434  474 Gonzalez Meadow Suite 581\\nEast Vincent, M...  14 St       PM   \n",
       "8817          3658 Campos Lodge\\nChambersfurt, MH 86260  24 ej       PM   \n",
       "9168  18782 Hall Row Suite 810\\nSouth Wesleyville, I...  15 QU       PM   \n",
       "9856  058 Miranda Locks Suite 792\\nPort Davidstad, P...  73 IW       PM   \n",
       "\n",
       "                                           Browser Info  \\\n",
       "9     Mozilla/5.0 (X11; Linux i686; rv:1.9.7.20) Gec...   \n",
       "280   Mozilla/5.0 (Windows NT 5.01) AppleWebKit/5362...   \n",
       "372   Opera/8.42.(X11; Linux x86_64; en-US) Presto/2...   \n",
       "677   Opera/9.49.(Windows 98; Win 9x 4.90; en-US) Pr...   \n",
       "766   Opera/8.47.(X11; Linux x86_64; sl-SI) Presto/2...   \n",
       "1225  Mozilla/5.0 (X11; Linux i686; rv:1.9.7.20) Gec...   \n",
       "1381  Mozilla/5.0 (Macintosh; PPC Mac OS X 10_5_5; r...   \n",
       "1385  Mozilla/5.0 (Windows NT 5.1) AppleWebKit/5330 ...   \n",
       "1568  Mozilla/5.0 (X11; Linux x86_64) AppleWebKit/53...   \n",
       "1727  Mozilla/5.0 (X11; Linux x86_64) AppleWebKit/53...   \n",
       "2146  Mozilla/5.0 (compatible; MSIE 6.0; Windows 98;...   \n",
       "2264  Mozilla/5.0 (Windows NT 6.0) AppleWebKit/5341 ...   \n",
       "2267  Mozilla/5.0 (Macintosh; PPC Mac OS X 10_6_4; r...   \n",
       "2642  Mozilla/5.0 (compatible; MSIE 7.0; Windows NT ...   \n",
       "2828  Mozilla/5.0 (Windows; U; Windows CE) AppleWebK...   \n",
       "3291  Mozilla/5.0 (compatible; MSIE 9.0; Windows 95;...   \n",
       "3349  Mozilla/5.0 (X11; Linux x86_64; rv:1.9.7.20) G...   \n",
       "3619  Opera/9.53.(Windows 95; en-US) Presto/2.9.175 ...   \n",
       "4071  Mozilla/5.0 (Windows; U; Windows NT 6.1) Apple...   \n",
       "4569  Mozilla/5.0 (Macintosh; U; PPC Mac OS X 10_5_5...   \n",
       "5385  Opera/9.56.(X11; Linux x86_64; en-US) Presto/2...   \n",
       "5655  Mozilla/5.0 (X11; Linux i686) AppleWebKit/5331...   \n",
       "5692  Mozilla/5.0 (iPod; U; CPU iPhone OS 3_3 like M...   \n",
       "5814  Mozilla/5.0 (X11; Linux i686) AppleWebKit/5342...   \n",
       "5875  Mozilla/5.0 (compatible; MSIE 9.0; Windows NT ...   \n",
       "5895  Mozilla/5.0 (compatible; MSIE 9.0; Windows NT ...   \n",
       "6026  Mozilla/5.0 (Windows; U; Windows NT 5.01) Appl...   \n",
       "6524  Opera/8.62.(X11; Linux i686; en-US) Presto/2.9...   \n",
       "7239  Mozilla/5.0 (X11; Linux i686) AppleWebKit/5310...   \n",
       "7381  Opera/9.32.(Windows NT 4.0; it-IT) Presto/2.9....   \n",
       "7416  Mozilla/5.0 (Windows NT 5.1; sl-SI; rv:1.9.2.2...   \n",
       "7514  Mozilla/5.0 (compatible; MSIE 8.0; Windows 98;...   \n",
       "8233  Mozilla/5.0 (Macintosh; U; PPC Mac OS X 10_5_3...   \n",
       "8381  Mozilla/5.0 (Windows; U; Windows 98; Win 9x 4....   \n",
       "8408  Mozilla/5.0 (compatible; MSIE 5.0; Windows 98;...   \n",
       "8434  Mozilla/5.0 (compatible; MSIE 6.0; Windows NT ...   \n",
       "8817  Mozilla/5.0 (compatible; MSIE 5.0; Windows NT ...   \n",
       "9168  Opera/9.57.(X11; Linux i686; it-IT) Presto/2.9...   \n",
       "9856  Mozilla/5.0 (Windows NT 5.0) AppleWebKit/5360 ...   \n",
       "\n",
       "                            Company       Credit Card CC Exp Date  \\\n",
       "9      Rivera, Buchanan and Ramirez     4396283918371       01/17   \n",
       "280                        Clay PLC   377737470673585       10/17   \n",
       "372                  Davis-Lawrence   371995567939253       02/26   \n",
       "677                  Jones and Sons  4960556611626434       07/26   \n",
       "766                     Proctor PLC    30325623350308       04/24   \n",
       "1225         Clark, Ross and Travis   371229555854245       10/21   \n",
       "1381                  Randall-Cohen     4855262855037       05/17   \n",
       "1385      Gonzalez, Gross and Allen    30407332938506       12/20   \n",
       "1568       Nguyen, Branch and Wiley  5142451859832464       04/21   \n",
       "1727                  Owen and Sons    30242757909967       11/19   \n",
       "2146                    Flores-Cook  3337255995040373       04/19   \n",
       "2264       Baker, Simmons and Pitts  3096946456575623       11/22   \n",
       "2267                      Olson Inc  5388757330269354       02/17   \n",
       "2642                       Webb Inc  3096797127305092       05/17   \n",
       "2828         Zavala, Cox and Parker  5173968976288215       11/22   \n",
       "3291        Chang, Davis and Snyder   349464844934636       11/23   \n",
       "3349                Martin-Mitchell  3096398727024637       03/19   \n",
       "3619        Silva, Kim and Martinez  4807251488895729       10/21   \n",
       "4071                Wilson-Robinson  5506767693718324       08/23   \n",
       "4569     Fisher, Thompson and Lynch  3088726880694574       12/19   \n",
       "5385               Patterson-Miller  4411786056713950       12/22   \n",
       "5655                  Watson-Bailey  3096820981608615       05/20   \n",
       "5692                      Moore Inc  6011499701167585       10/20   \n",
       "5814                     Garcia LLC    30346960979608       07/17   \n",
       "5875     Kelly, Peterson and Oliver  5173335726386576       02/18   \n",
       "5895          Reyes, Fox and Wilson   180010957603245       09/24   \n",
       "6026                      White Inc  3112975578138572       09/17   \n",
       "6524     Lawson, Moyer and Valencia   379348662534664       06/17   \n",
       "7239                      Smith Ltd      503825682670       07/19   \n",
       "7381                    Blair-Keith   180089858618619       05/19   \n",
       "7416  Carroll, Harrison and Escobar  3088903707645291       12/18   \n",
       "7514           Glenn, Lowe and Shah      676298897445       04/26   \n",
       "8233      Keller, Carter and Garcia    30299608736429       08/22   \n",
       "8381                   Kelly-Newman  5527104423944290       05/18   \n",
       "8408                  Acevedo-Smith  3337721305744244       01/19   \n",
       "8434                Miller and Sons   180059754370698       07/24   \n",
       "8817                   Fisher-Jones   210046575239925       09/25   \n",
       "9168                     Butler PLC  5412611065926441       05/25   \n",
       "9856                  Olson-Navarro  6011037226242937       03/18   \n",
       "\n",
       "      CC Security Code       CC Provider  \\\n",
       "9                  931  American Express   \n",
       "280                349  American Express   \n",
       "372               1877  American Express   \n",
       "677               9255  American Express   \n",
       "766                772  American Express   \n",
       "1225               366  American Express   \n",
       "1381               518  American Express   \n",
       "1385               597  American Express   \n",
       "1568               785  American Express   \n",
       "1727              7403  American Express   \n",
       "2146                28  American Express   \n",
       "2264                56  American Express   \n",
       "2267               738  American Express   \n",
       "2642               418  American Express   \n",
       "2828               125  American Express   \n",
       "3291               103  American Express   \n",
       "3349               439  American Express   \n",
       "3619               948  American Express   \n",
       "4071                18  American Express   \n",
       "4569               159  American Express   \n",
       "5385               452  American Express   \n",
       "5655               259  American Express   \n",
       "5692               845  American Express   \n",
       "5814               402  American Express   \n",
       "5875               954  American Express   \n",
       "5895               929  American Express   \n",
       "6026                 7  American Express   \n",
       "6524               809  American Express   \n",
       "7239               852  American Express   \n",
       "7381              2107  American Express   \n",
       "7416               220  American Express   \n",
       "7514                61  American Express   \n",
       "8233               786  American Express   \n",
       "8381               711  American Express   \n",
       "8408               738  American Express   \n",
       "8434               812  American Express   \n",
       "8817               860  American Express   \n",
       "9168                49  American Express   \n",
       "9856               757  American Express   \n",
       "\n",
       "                                       Email  \\\n",
       "9                   qcoleman@hunt-huerta.com   \n",
       "280                        hfarley@hicks.com   \n",
       "372                      amberhull@jones.net   \n",
       "677                 evanskayla@fernandez.com   \n",
       "766                 robertsonjulia@gmail.com   \n",
       "1225                lawrencecarter@kelly.com   \n",
       "1381  maldonadomichael@martinez-delgado.info   \n",
       "1385                    vbrown@daugherty.com   \n",
       "1568                  johnsonjulie@yahoo.com   \n",
       "1727          sharpmelanie@smith-johnson.com   \n",
       "2146           jessica94@mosley-buchanan.com   \n",
       "2264                    holtamanda@gmail.com   \n",
       "2267          burkestephanie@lee-cameron.com   \n",
       "2642                  reevesmanuel@gmail.com   \n",
       "2828                villarrealdavid@gray.com   \n",
       "3291               stephanieacosta@yahoo.com   \n",
       "3349                 hgross@mccoy-mckay.info   \n",
       "3619                  jonesjesse@castro.info   \n",
       "4071                    hhenderson@yahoo.com   \n",
       "4569                        amy00@patton.com   \n",
       "5385                      ijones@hotmail.com   \n",
       "5655                   timothy84@hotmail.com   \n",
       "5692                     kellypace@yahoo.com   \n",
       "5814                         jrice@gmail.com   \n",
       "5875               hernandezandrea@yahoo.com   \n",
       "5895               duncanmichael@hotmail.com   \n",
       "6026                       scott35@yahoo.com   \n",
       "6524                   olsonjohn@hotmail.com   \n",
       "7239                beckerjennifer@gmail.com   \n",
       "7381                 woodsmatthew@walton.org   \n",
       "7416                        gcruz@butler.com   \n",
       "7514                     tammy75@cameron.com   \n",
       "8233                   elliskaren@taylor.com   \n",
       "8381                    joneswilliam@cox.net   \n",
       "8408                  nunezjames@hotmail.com   \n",
       "8434                    vtaylor@hatfield.com   \n",
       "8817                   jessica35@hotmail.com   \n",
       "9168                    tammyblair@yahoo.com   \n",
       "9856               brendastewart@dalton.info   \n",
       "\n",
       "                                               Job       IP Address Language  \\\n",
       "9                               Forensic scientist    236.198.199.8       zh   \n",
       "280                                     Ergonomist    134.52.148.32       de   \n",
       "372               Training and development officer    198.98.34.250       pt   \n",
       "677                       Plant breeder/geneticist   235.97.240.112       el   \n",
       "766                                 Therapist, art    146.208.30.83       es   \n",
       "1225                                        Artist     88.49.59.205       pt   \n",
       "1381                    Geophysical data processor    50.40.147.204       it   \n",
       "1385                    Geophysical data processor  152.133.246.191       zh   \n",
       "1568                      Insurance claims handler  175.248.232.126       es   \n",
       "1727   Psychologist, prison and probation services    126.47.196.22       ru   \n",
       "2146                Armed forces technical officer     35.97.189.19       es   \n",
       "2264                                 Archaeologist   185.14.106.115       es   \n",
       "2267                         Management consultant    20.140.16.225       it   \n",
       "2642                    Engineer, maintenance (IT)  169.132.152.152       el   \n",
       "2828               Chartered management accountant     76.75.229.58       el   \n",
       "3291                                    IT trainer  124.247.101.106       it   \n",
       "3349                           Structural engineer   167.172.139.33       pt   \n",
       "3619                  Garment/textile technologist       87.66.16.4       en   \n",
       "4071                      Customer service manager    119.74.76.168       es   \n",
       "4569                                       Actuary     207.18.223.8       el   \n",
       "5385                            Field seismologist  251.254.250.100       el   \n",
       "5655  Production designer, theatre/television/film  235.149.102.129       es   \n",
       "5692                                    Aid worker    155.121.60.58       pt   \n",
       "5814                                     Solicitor   165.48.161.188       zh   \n",
       "5875                  Community development worker   212.168.246.27       ru   \n",
       "5895                               Event organiser    231.34.199.32       it   \n",
       "6026                          Operations geologist    217.6.202.138       en   \n",
       "6524                       Teacher, primary school      45.1.104.55       zh   \n",
       "7239                              Engineer, energy   50.107.135.203       fr   \n",
       "7381                              Fashion designer    223.87.136.82       es   \n",
       "7416                           Broadcast presenter    193.90.91.152       pt   \n",
       "7514                           Automotive engineer   37.241.180.247       ru   \n",
       "8233                             Chemical engineer   131.34.220.138       en   \n",
       "8381                      Surveyor, land/geomatics   29.211.114.191       ru   \n",
       "8408                  Designer, exhibition/display    91.55.254.144       es   \n",
       "8434                Armed forces technical officer     26.69.128.20       it   \n",
       "8817                            Forensic scientist    18.74.143.113       fr   \n",
       "9168                      Computer games developer      2.84.51.133       en   \n",
       "9856                                 Site engineer    96.79.250.154       de   \n",
       "\n",
       "      Purchase Price  \n",
       "9              95.63  \n",
       "280            99.13  \n",
       "372            99.08  \n",
       "677            98.97  \n",
       "766            96.66  \n",
       "1225           96.55  \n",
       "1381           96.11  \n",
       "1385           98.89  \n",
       "1568           97.04  \n",
       "1727           95.58  \n",
       "2146           98.01  \n",
       "2264           99.85  \n",
       "2267           97.63  \n",
       "2642           96.08  \n",
       "2828           96.12  \n",
       "3291           95.94  \n",
       "3349           95.46  \n",
       "3619           99.69  \n",
       "4071           96.49  \n",
       "4569           97.38  \n",
       "5385           96.13  \n",
       "5655           98.28  \n",
       "5692           98.66  \n",
       "5814           96.73  \n",
       "5875           95.07  \n",
       "5895           97.38  \n",
       "6026           95.89  \n",
       "6524           97.87  \n",
       "7239           97.32  \n",
       "7381           99.81  \n",
       "7416           96.09  \n",
       "7514           98.36  \n",
       "8233           98.63  \n",
       "8381           99.36  \n",
       "8408           98.16  \n",
       "8434           97.90  \n",
       "8817           99.16  \n",
       "9168           98.59  \n",
       "9856           99.97  "
      ]
     },
     "execution_count": 162,
     "metadata": {},
     "output_type": "execute_result"
    }
   ],
   "source": [
    "dataframe1[(dataframe1['CC Provider'] == \"American Express\") & (dataframe1['Purchase Price'] > 95)]"
   ]
  },
  {
   "cell_type": "code",
   "execution_count": 161,
   "id": "ac0d2057",
   "metadata": {},
   "outputs": [
    {
     "data": {
      "text/plain": [
       "39"
      ]
     },
     "execution_count": 161,
     "metadata": {},
     "output_type": "execute_result"
    }
   ],
   "source": [
    "dataframe1[(dataframe1['CC Provider'] == \"American Express\") & (dataframe1['Purchase Price'] > 95)].shape[0]"
   ]
  },
  {
   "cell_type": "code",
   "execution_count": 163,
   "id": "9079b536",
   "metadata": {},
   "outputs": [],
   "source": [
    "df = dataframe1"
   ]
  },
  {
   "cell_type": "code",
   "execution_count": 165,
   "id": "690cc2a7",
   "metadata": {},
   "outputs": [
    {
     "name": "stderr",
     "output_type": "stream",
     "text": [
      "/var/folders/jk/qj9dyy197xz9_w4yk0nh7vzw6_y55q/T/ipykernel_24134/2077432566.py:1: UserWarning: Boolean Series key will be reindexed to match DataFrame index.\n",
      "  df[df['CC Provider']=='American Express'][df['Purchase Price'] > 95].shape[0]\n"
     ]
    },
    {
     "data": {
      "text/plain": [
       "39"
      ]
     },
     "execution_count": 165,
     "metadata": {},
     "output_type": "execute_result"
    }
   ],
   "source": [
    "df[df['CC Provider']=='American Express'][df['Purchase Price'] > 95].shape[0]"
   ]
  },
  {
   "cell_type": "code",
   "execution_count": 176,
   "id": "bf4dff07",
   "metadata": {},
   "outputs": [
    {
     "data": {
      "text/plain": [
       "654"
      ]
     },
     "execution_count": 176,
     "metadata": {},
     "output_type": "execute_result"
    }
   ],
   "source": [
    "# df['Year'] = pd.to_datetime(df['CC Exp Date'], format='%Y')\n",
    "# df['Year'] = pd.to_datetime(df['CC Exp Date'], format='%y')\n",
    "df['converted_datetime'] = pd.to_datetime(df['CC Exp Date'], format='%m/%y')\n",
    "\n",
    "# Extract year and month into separate columns\n",
    "df['year'] = df['converted_datetime'].dt.year\n",
    "df['month'] = df['converted_datetime'].dt.month\n",
    "\n",
    "df[df['year']>2025].shape[0]"
   ]
  },
  {
   "cell_type": "code",
   "execution_count": 177,
   "id": "7b502c1c",
   "metadata": {},
   "outputs": [
    {
     "data": {
      "text/html": [
       "<div>\n",
       "<style scoped>\n",
       "    .dataframe tbody tr th:only-of-type {\n",
       "        vertical-align: middle;\n",
       "    }\n",
       "\n",
       "    .dataframe tbody tr th {\n",
       "        vertical-align: top;\n",
       "    }\n",
       "\n",
       "    .dataframe thead th {\n",
       "        text-align: right;\n",
       "    }\n",
       "</style>\n",
       "<table border=\"1\" class=\"dataframe\">\n",
       "  <thead>\n",
       "    <tr style=\"text-align: right;\">\n",
       "      <th></th>\n",
       "      <th>Address</th>\n",
       "      <th>Lot</th>\n",
       "      <th>AM or PM</th>\n",
       "      <th>Browser Info</th>\n",
       "      <th>Company</th>\n",
       "      <th>Credit Card</th>\n",
       "      <th>CC Exp Date</th>\n",
       "      <th>CC Security Code</th>\n",
       "      <th>CC Provider</th>\n",
       "      <th>Email</th>\n",
       "      <th>Job</th>\n",
       "      <th>IP Address</th>\n",
       "      <th>Language</th>\n",
       "      <th>Purchase Price</th>\n",
       "      <th>converted_datetime</th>\n",
       "      <th>year</th>\n",
       "      <th>month</th>\n",
       "    </tr>\n",
       "  </thead>\n",
       "  <tbody>\n",
       "    <tr>\n",
       "      <th>0</th>\n",
       "      <td>16629 Pace Camp Apt. 448\\nAlexisborough, NE 77...</td>\n",
       "      <td>46 in</td>\n",
       "      <td>PM</td>\n",
       "      <td>Opera/9.56.(X11; Linux x86_64; sl-SI) Presto/2...</td>\n",
       "      <td>Martinez-Herman</td>\n",
       "      <td>6011929061123406</td>\n",
       "      <td>02/20</td>\n",
       "      <td>900</td>\n",
       "      <td>JCB 16 digit</td>\n",
       "      <td>pdunlap@yahoo.com</td>\n",
       "      <td>Scientist, product/process development</td>\n",
       "      <td>149.146.147.205</td>\n",
       "      <td>el</td>\n",
       "      <td>98.14</td>\n",
       "      <td>2020-02-01</td>\n",
       "      <td>2020</td>\n",
       "      <td>2</td>\n",
       "    </tr>\n",
       "    <tr>\n",
       "      <th>1</th>\n",
       "      <td>9374 Jasmine Spurs Suite 508\\nSouth John, TN 8...</td>\n",
       "      <td>28 rn</td>\n",
       "      <td>PM</td>\n",
       "      <td>Opera/8.93.(Windows 98; Win 9x 4.90; en-US) Pr...</td>\n",
       "      <td>Fletcher, Richards and Whitaker</td>\n",
       "      <td>3337758169645356</td>\n",
       "      <td>11/18</td>\n",
       "      <td>561</td>\n",
       "      <td>Mastercard</td>\n",
       "      <td>anthony41@reed.com</td>\n",
       "      <td>Drilling engineer</td>\n",
       "      <td>15.160.41.51</td>\n",
       "      <td>fr</td>\n",
       "      <td>70.73</td>\n",
       "      <td>2018-11-01</td>\n",
       "      <td>2018</td>\n",
       "      <td>11</td>\n",
       "    </tr>\n",
       "    <tr>\n",
       "      <th>2</th>\n",
       "      <td>Unit 0065 Box 5052\\nDPO AP 27450</td>\n",
       "      <td>94 vE</td>\n",
       "      <td>PM</td>\n",
       "      <td>Mozilla/5.0 (compatible; MSIE 9.0; Windows NT ...</td>\n",
       "      <td>Simpson, Williams and Pham</td>\n",
       "      <td>675957666125</td>\n",
       "      <td>08/19</td>\n",
       "      <td>699</td>\n",
       "      <td>JCB 16 digit</td>\n",
       "      <td>amymiller@morales-harrison.com</td>\n",
       "      <td>Customer service manager</td>\n",
       "      <td>132.207.160.22</td>\n",
       "      <td>de</td>\n",
       "      <td>0.95</td>\n",
       "      <td>2019-08-01</td>\n",
       "      <td>2019</td>\n",
       "      <td>8</td>\n",
       "    </tr>\n",
       "    <tr>\n",
       "      <th>3</th>\n",
       "      <td>7780 Julia Fords\\nNew Stacy, WA 45798</td>\n",
       "      <td>36 vm</td>\n",
       "      <td>PM</td>\n",
       "      <td>Mozilla/5.0 (Macintosh; Intel Mac OS X 10_8_0 ...</td>\n",
       "      <td>Williams, Marshall and Buchanan</td>\n",
       "      <td>6011578504430710</td>\n",
       "      <td>02/24</td>\n",
       "      <td>384</td>\n",
       "      <td>Discover</td>\n",
       "      <td>brent16@olson-robinson.info</td>\n",
       "      <td>Drilling engineer</td>\n",
       "      <td>30.250.74.19</td>\n",
       "      <td>es</td>\n",
       "      <td>78.04</td>\n",
       "      <td>2024-02-01</td>\n",
       "      <td>2024</td>\n",
       "      <td>2</td>\n",
       "    </tr>\n",
       "    <tr>\n",
       "      <th>4</th>\n",
       "      <td>23012 Munoz Drive Suite 337\\nNew Cynthia, TX 5...</td>\n",
       "      <td>20 IE</td>\n",
       "      <td>AM</td>\n",
       "      <td>Opera/9.58.(X11; Linux x86_64; it-IT) Presto/2...</td>\n",
       "      <td>Brown, Watson and Andrews</td>\n",
       "      <td>6011456623207998</td>\n",
       "      <td>10/25</td>\n",
       "      <td>678</td>\n",
       "      <td>Diners Club / Carte Blanche</td>\n",
       "      <td>christopherwright@gmail.com</td>\n",
       "      <td>Fine artist</td>\n",
       "      <td>24.140.33.94</td>\n",
       "      <td>es</td>\n",
       "      <td>77.82</td>\n",
       "      <td>2025-10-01</td>\n",
       "      <td>2025</td>\n",
       "      <td>10</td>\n",
       "    </tr>\n",
       "    <tr>\n",
       "      <th>...</th>\n",
       "      <td>...</td>\n",
       "      <td>...</td>\n",
       "      <td>...</td>\n",
       "      <td>...</td>\n",
       "      <td>...</td>\n",
       "      <td>...</td>\n",
       "      <td>...</td>\n",
       "      <td>...</td>\n",
       "      <td>...</td>\n",
       "      <td>...</td>\n",
       "      <td>...</td>\n",
       "      <td>...</td>\n",
       "      <td>...</td>\n",
       "      <td>...</td>\n",
       "      <td>...</td>\n",
       "      <td>...</td>\n",
       "      <td>...</td>\n",
       "    </tr>\n",
       "    <tr>\n",
       "      <th>9995</th>\n",
       "      <td>966 Castaneda Locks\\nWest Juliafurt, CO 96415</td>\n",
       "      <td>92 XI</td>\n",
       "      <td>PM</td>\n",
       "      <td>Mozilla/5.0 (Windows NT 5.1) AppleWebKit/5352 ...</td>\n",
       "      <td>Randall-Sloan</td>\n",
       "      <td>342945015358701</td>\n",
       "      <td>03/22</td>\n",
       "      <td>838</td>\n",
       "      <td>JCB 15 digit</td>\n",
       "      <td>iscott@wade-garner.com</td>\n",
       "      <td>Printmaker</td>\n",
       "      <td>29.73.197.114</td>\n",
       "      <td>it</td>\n",
       "      <td>82.21</td>\n",
       "      <td>2022-03-01</td>\n",
       "      <td>2022</td>\n",
       "      <td>3</td>\n",
       "    </tr>\n",
       "    <tr>\n",
       "      <th>9996</th>\n",
       "      <td>832 Curtis Dam Suite 785\\nNorth Edwardburgh, T...</td>\n",
       "      <td>41 JY</td>\n",
       "      <td>AM</td>\n",
       "      <td>Mozilla/5.0 (compatible; MSIE 9.0; Windows NT ...</td>\n",
       "      <td>Hale, Collins and Wilson</td>\n",
       "      <td>210033169205009</td>\n",
       "      <td>07/25</td>\n",
       "      <td>207</td>\n",
       "      <td>JCB 16 digit</td>\n",
       "      <td>mary85@hotmail.com</td>\n",
       "      <td>Energy engineer</td>\n",
       "      <td>121.133.168.51</td>\n",
       "      <td>pt</td>\n",
       "      <td>25.63</td>\n",
       "      <td>2025-07-01</td>\n",
       "      <td>2025</td>\n",
       "      <td>7</td>\n",
       "    </tr>\n",
       "    <tr>\n",
       "      <th>9997</th>\n",
       "      <td>Unit 4434 Box 6343\\nDPO AE 28026-0283</td>\n",
       "      <td>74 Zh</td>\n",
       "      <td>AM</td>\n",
       "      <td>Mozilla/5.0 (Macintosh; U; Intel Mac OS X 10_7...</td>\n",
       "      <td>Anderson Ltd</td>\n",
       "      <td>6011539787356311</td>\n",
       "      <td>05/21</td>\n",
       "      <td>1</td>\n",
       "      <td>VISA 16 digit</td>\n",
       "      <td>tyler16@gmail.com</td>\n",
       "      <td>Veterinary surgeon</td>\n",
       "      <td>156.210.0.254</td>\n",
       "      <td>el</td>\n",
       "      <td>83.98</td>\n",
       "      <td>2021-05-01</td>\n",
       "      <td>2021</td>\n",
       "      <td>5</td>\n",
       "    </tr>\n",
       "    <tr>\n",
       "      <th>9998</th>\n",
       "      <td>0096 English Rest\\nRoystad, IA 12457</td>\n",
       "      <td>74 cL</td>\n",
       "      <td>PM</td>\n",
       "      <td>Mozilla/5.0 (Macintosh; Intel Mac OS X 10_8_8;...</td>\n",
       "      <td>Cook Inc</td>\n",
       "      <td>180003348082930</td>\n",
       "      <td>11/17</td>\n",
       "      <td>987</td>\n",
       "      <td>American Express</td>\n",
       "      <td>elizabethmoore@reid.net</td>\n",
       "      <td>Local government officer</td>\n",
       "      <td>55.78.26.143</td>\n",
       "      <td>es</td>\n",
       "      <td>38.84</td>\n",
       "      <td>2017-11-01</td>\n",
       "      <td>2017</td>\n",
       "      <td>11</td>\n",
       "    </tr>\n",
       "    <tr>\n",
       "      <th>9999</th>\n",
       "      <td>40674 Barrett Stravenue\\nGrimesville, WI 79682</td>\n",
       "      <td>64 Hr</td>\n",
       "      <td>AM</td>\n",
       "      <td>Mozilla/5.0 (X11; Linux i686; rv:1.9.5.20) Gec...</td>\n",
       "      <td>Greene Inc</td>\n",
       "      <td>4139972901927273</td>\n",
       "      <td>02/19</td>\n",
       "      <td>302</td>\n",
       "      <td>JCB 15 digit</td>\n",
       "      <td>rachelford@vaughn.com</td>\n",
       "      <td>Embryologist, clinical</td>\n",
       "      <td>176.119.198.199</td>\n",
       "      <td>el</td>\n",
       "      <td>67.59</td>\n",
       "      <td>2019-02-01</td>\n",
       "      <td>2019</td>\n",
       "      <td>2</td>\n",
       "    </tr>\n",
       "  </tbody>\n",
       "</table>\n",
       "<p>10000 rows × 17 columns</p>\n",
       "</div>"
      ],
      "text/plain": [
       "                                                Address    Lot AM or PM  \\\n",
       "0     16629 Pace Camp Apt. 448\\nAlexisborough, NE 77...  46 in       PM   \n",
       "1     9374 Jasmine Spurs Suite 508\\nSouth John, TN 8...  28 rn       PM   \n",
       "2                      Unit 0065 Box 5052\\nDPO AP 27450  94 vE       PM   \n",
       "3                 7780 Julia Fords\\nNew Stacy, WA 45798  36 vm       PM   \n",
       "4     23012 Munoz Drive Suite 337\\nNew Cynthia, TX 5...  20 IE       AM   \n",
       "...                                                 ...    ...      ...   \n",
       "9995      966 Castaneda Locks\\nWest Juliafurt, CO 96415  92 XI       PM   \n",
       "9996  832 Curtis Dam Suite 785\\nNorth Edwardburgh, T...  41 JY       AM   \n",
       "9997              Unit 4434 Box 6343\\nDPO AE 28026-0283  74 Zh       AM   \n",
       "9998               0096 English Rest\\nRoystad, IA 12457  74 cL       PM   \n",
       "9999     40674 Barrett Stravenue\\nGrimesville, WI 79682  64 Hr       AM   \n",
       "\n",
       "                                           Browser Info  \\\n",
       "0     Opera/9.56.(X11; Linux x86_64; sl-SI) Presto/2...   \n",
       "1     Opera/8.93.(Windows 98; Win 9x 4.90; en-US) Pr...   \n",
       "2     Mozilla/5.0 (compatible; MSIE 9.0; Windows NT ...   \n",
       "3     Mozilla/5.0 (Macintosh; Intel Mac OS X 10_8_0 ...   \n",
       "4     Opera/9.58.(X11; Linux x86_64; it-IT) Presto/2...   \n",
       "...                                                 ...   \n",
       "9995  Mozilla/5.0 (Windows NT 5.1) AppleWebKit/5352 ...   \n",
       "9996  Mozilla/5.0 (compatible; MSIE 9.0; Windows NT ...   \n",
       "9997  Mozilla/5.0 (Macintosh; U; Intel Mac OS X 10_7...   \n",
       "9998  Mozilla/5.0 (Macintosh; Intel Mac OS X 10_8_8;...   \n",
       "9999  Mozilla/5.0 (X11; Linux i686; rv:1.9.5.20) Gec...   \n",
       "\n",
       "                              Company       Credit Card CC Exp Date  \\\n",
       "0                     Martinez-Herman  6011929061123406       02/20   \n",
       "1     Fletcher, Richards and Whitaker  3337758169645356       11/18   \n",
       "2          Simpson, Williams and Pham      675957666125       08/19   \n",
       "3     Williams, Marshall and Buchanan  6011578504430710       02/24   \n",
       "4           Brown, Watson and Andrews  6011456623207998       10/25   \n",
       "...                               ...               ...         ...   \n",
       "9995                    Randall-Sloan   342945015358701       03/22   \n",
       "9996         Hale, Collins and Wilson   210033169205009       07/25   \n",
       "9997                     Anderson Ltd  6011539787356311       05/21   \n",
       "9998                         Cook Inc   180003348082930       11/17   \n",
       "9999                       Greene Inc  4139972901927273       02/19   \n",
       "\n",
       "      CC Security Code                  CC Provider  \\\n",
       "0                  900                 JCB 16 digit   \n",
       "1                  561                   Mastercard   \n",
       "2                  699                 JCB 16 digit   \n",
       "3                  384                     Discover   \n",
       "4                  678  Diners Club / Carte Blanche   \n",
       "...                ...                          ...   \n",
       "9995               838                 JCB 15 digit   \n",
       "9996               207                 JCB 16 digit   \n",
       "9997                 1                VISA 16 digit   \n",
       "9998               987             American Express   \n",
       "9999               302                 JCB 15 digit   \n",
       "\n",
       "                               Email                                     Job  \\\n",
       "0                  pdunlap@yahoo.com  Scientist, product/process development   \n",
       "1                 anthony41@reed.com                       Drilling engineer   \n",
       "2     amymiller@morales-harrison.com                Customer service manager   \n",
       "3        brent16@olson-robinson.info                       Drilling engineer   \n",
       "4        christopherwright@gmail.com                             Fine artist   \n",
       "...                              ...                                     ...   \n",
       "9995          iscott@wade-garner.com                              Printmaker   \n",
       "9996              mary85@hotmail.com                         Energy engineer   \n",
       "9997               tyler16@gmail.com                      Veterinary surgeon   \n",
       "9998         elizabethmoore@reid.net                Local government officer   \n",
       "9999           rachelford@vaughn.com                  Embryologist, clinical   \n",
       "\n",
       "           IP Address Language  Purchase Price converted_datetime  year  month  \n",
       "0     149.146.147.205       el           98.14         2020-02-01  2020      2  \n",
       "1        15.160.41.51       fr           70.73         2018-11-01  2018     11  \n",
       "2      132.207.160.22       de            0.95         2019-08-01  2019      8  \n",
       "3        30.250.74.19       es           78.04         2024-02-01  2024      2  \n",
       "4        24.140.33.94       es           77.82         2025-10-01  2025     10  \n",
       "...               ...      ...             ...                ...   ...    ...  \n",
       "9995    29.73.197.114       it           82.21         2022-03-01  2022      3  \n",
       "9996   121.133.168.51       pt           25.63         2025-07-01  2025      7  \n",
       "9997    156.210.0.254       el           83.98         2021-05-01  2021      5  \n",
       "9998     55.78.26.143       es           38.84         2017-11-01  2017     11  \n",
       "9999  176.119.198.199       el           67.59         2019-02-01  2019      2  \n",
       "\n",
       "[10000 rows x 17 columns]"
      ]
     },
     "execution_count": 177,
     "metadata": {},
     "output_type": "execute_result"
    }
   ],
   "source": [
    "df"
   ]
  },
  {
   "cell_type": "code",
   "execution_count": 181,
   "id": "d4f369a6",
   "metadata": {
    "scrolled": true
   },
   "outputs": [
    {
     "data": {
      "text/html": [
       "<div>\n",
       "<style scoped>\n",
       "    .dataframe tbody tr th:only-of-type {\n",
       "        vertical-align: middle;\n",
       "    }\n",
       "\n",
       "    .dataframe tbody tr th {\n",
       "        vertical-align: top;\n",
       "    }\n",
       "\n",
       "    .dataframe thead th {\n",
       "        text-align: right;\n",
       "    }\n",
       "</style>\n",
       "<table border=\"1\" class=\"dataframe\">\n",
       "  <thead>\n",
       "    <tr style=\"text-align: right;\">\n",
       "      <th></th>\n",
       "      <th>Address</th>\n",
       "      <th>Lot</th>\n",
       "      <th>AM or PM</th>\n",
       "      <th>Browser Info</th>\n",
       "      <th>Company</th>\n",
       "      <th>Credit Card</th>\n",
       "      <th>CC Exp Date</th>\n",
       "      <th>CC Security Code</th>\n",
       "      <th>CC Provider</th>\n",
       "      <th>Email</th>\n",
       "      <th>Job</th>\n",
       "      <th>IP Address</th>\n",
       "      <th>Language</th>\n",
       "      <th>Purchase Price</th>\n",
       "      <th>converted_datetime</th>\n",
       "      <th>year</th>\n",
       "      <th>month</th>\n",
       "      <th>Email Provider</th>\n",
       "    </tr>\n",
       "  </thead>\n",
       "  <tbody>\n",
       "    <tr>\n",
       "      <th>0</th>\n",
       "      <td>16629 Pace Camp Apt. 448\\nAlexisborough, NE 77...</td>\n",
       "      <td>46 in</td>\n",
       "      <td>PM</td>\n",
       "      <td>Opera/9.56.(X11; Linux x86_64; sl-SI) Presto/2...</td>\n",
       "      <td>Martinez-Herman</td>\n",
       "      <td>6011929061123406</td>\n",
       "      <td>02/20</td>\n",
       "      <td>900</td>\n",
       "      <td>JCB 16 digit</td>\n",
       "      <td>pdunlap@yahoo.com</td>\n",
       "      <td>Scientist, product/process development</td>\n",
       "      <td>149.146.147.205</td>\n",
       "      <td>el</td>\n",
       "      <td>98.14</td>\n",
       "      <td>2020-02-01</td>\n",
       "      <td>2020</td>\n",
       "      <td>2</td>\n",
       "      <td>yahoo.com</td>\n",
       "    </tr>\n",
       "    <tr>\n",
       "      <th>1</th>\n",
       "      <td>9374 Jasmine Spurs Suite 508\\nSouth John, TN 8...</td>\n",
       "      <td>28 rn</td>\n",
       "      <td>PM</td>\n",
       "      <td>Opera/8.93.(Windows 98; Win 9x 4.90; en-US) Pr...</td>\n",
       "      <td>Fletcher, Richards and Whitaker</td>\n",
       "      <td>3337758169645356</td>\n",
       "      <td>11/18</td>\n",
       "      <td>561</td>\n",
       "      <td>Mastercard</td>\n",
       "      <td>anthony41@reed.com</td>\n",
       "      <td>Drilling engineer</td>\n",
       "      <td>15.160.41.51</td>\n",
       "      <td>fr</td>\n",
       "      <td>70.73</td>\n",
       "      <td>2018-11-01</td>\n",
       "      <td>2018</td>\n",
       "      <td>11</td>\n",
       "      <td>reed.com</td>\n",
       "    </tr>\n",
       "    <tr>\n",
       "      <th>2</th>\n",
       "      <td>Unit 0065 Box 5052\\nDPO AP 27450</td>\n",
       "      <td>94 vE</td>\n",
       "      <td>PM</td>\n",
       "      <td>Mozilla/5.0 (compatible; MSIE 9.0; Windows NT ...</td>\n",
       "      <td>Simpson, Williams and Pham</td>\n",
       "      <td>675957666125</td>\n",
       "      <td>08/19</td>\n",
       "      <td>699</td>\n",
       "      <td>JCB 16 digit</td>\n",
       "      <td>amymiller@morales-harrison.com</td>\n",
       "      <td>Customer service manager</td>\n",
       "      <td>132.207.160.22</td>\n",
       "      <td>de</td>\n",
       "      <td>0.95</td>\n",
       "      <td>2019-08-01</td>\n",
       "      <td>2019</td>\n",
       "      <td>8</td>\n",
       "      <td>morales-harrison.com</td>\n",
       "    </tr>\n",
       "    <tr>\n",
       "      <th>3</th>\n",
       "      <td>7780 Julia Fords\\nNew Stacy, WA 45798</td>\n",
       "      <td>36 vm</td>\n",
       "      <td>PM</td>\n",
       "      <td>Mozilla/5.0 (Macintosh; Intel Mac OS X 10_8_0 ...</td>\n",
       "      <td>Williams, Marshall and Buchanan</td>\n",
       "      <td>6011578504430710</td>\n",
       "      <td>02/24</td>\n",
       "      <td>384</td>\n",
       "      <td>Discover</td>\n",
       "      <td>brent16@olson-robinson.info</td>\n",
       "      <td>Drilling engineer</td>\n",
       "      <td>30.250.74.19</td>\n",
       "      <td>es</td>\n",
       "      <td>78.04</td>\n",
       "      <td>2024-02-01</td>\n",
       "      <td>2024</td>\n",
       "      <td>2</td>\n",
       "      <td>olson-robinson.info</td>\n",
       "    </tr>\n",
       "    <tr>\n",
       "      <th>4</th>\n",
       "      <td>23012 Munoz Drive Suite 337\\nNew Cynthia, TX 5...</td>\n",
       "      <td>20 IE</td>\n",
       "      <td>AM</td>\n",
       "      <td>Opera/9.58.(X11; Linux x86_64; it-IT) Presto/2...</td>\n",
       "      <td>Brown, Watson and Andrews</td>\n",
       "      <td>6011456623207998</td>\n",
       "      <td>10/25</td>\n",
       "      <td>678</td>\n",
       "      <td>Diners Club / Carte Blanche</td>\n",
       "      <td>christopherwright@gmail.com</td>\n",
       "      <td>Fine artist</td>\n",
       "      <td>24.140.33.94</td>\n",
       "      <td>es</td>\n",
       "      <td>77.82</td>\n",
       "      <td>2025-10-01</td>\n",
       "      <td>2025</td>\n",
       "      <td>10</td>\n",
       "      <td>gmail.com</td>\n",
       "    </tr>\n",
       "    <tr>\n",
       "      <th>...</th>\n",
       "      <td>...</td>\n",
       "      <td>...</td>\n",
       "      <td>...</td>\n",
       "      <td>...</td>\n",
       "      <td>...</td>\n",
       "      <td>...</td>\n",
       "      <td>...</td>\n",
       "      <td>...</td>\n",
       "      <td>...</td>\n",
       "      <td>...</td>\n",
       "      <td>...</td>\n",
       "      <td>...</td>\n",
       "      <td>...</td>\n",
       "      <td>...</td>\n",
       "      <td>...</td>\n",
       "      <td>...</td>\n",
       "      <td>...</td>\n",
       "      <td>...</td>\n",
       "    </tr>\n",
       "    <tr>\n",
       "      <th>9995</th>\n",
       "      <td>966 Castaneda Locks\\nWest Juliafurt, CO 96415</td>\n",
       "      <td>92 XI</td>\n",
       "      <td>PM</td>\n",
       "      <td>Mozilla/5.0 (Windows NT 5.1) AppleWebKit/5352 ...</td>\n",
       "      <td>Randall-Sloan</td>\n",
       "      <td>342945015358701</td>\n",
       "      <td>03/22</td>\n",
       "      <td>838</td>\n",
       "      <td>JCB 15 digit</td>\n",
       "      <td>iscott@wade-garner.com</td>\n",
       "      <td>Printmaker</td>\n",
       "      <td>29.73.197.114</td>\n",
       "      <td>it</td>\n",
       "      <td>82.21</td>\n",
       "      <td>2022-03-01</td>\n",
       "      <td>2022</td>\n",
       "      <td>3</td>\n",
       "      <td>wade-garner.com</td>\n",
       "    </tr>\n",
       "    <tr>\n",
       "      <th>9996</th>\n",
       "      <td>832 Curtis Dam Suite 785\\nNorth Edwardburgh, T...</td>\n",
       "      <td>41 JY</td>\n",
       "      <td>AM</td>\n",
       "      <td>Mozilla/5.0 (compatible; MSIE 9.0; Windows NT ...</td>\n",
       "      <td>Hale, Collins and Wilson</td>\n",
       "      <td>210033169205009</td>\n",
       "      <td>07/25</td>\n",
       "      <td>207</td>\n",
       "      <td>JCB 16 digit</td>\n",
       "      <td>mary85@hotmail.com</td>\n",
       "      <td>Energy engineer</td>\n",
       "      <td>121.133.168.51</td>\n",
       "      <td>pt</td>\n",
       "      <td>25.63</td>\n",
       "      <td>2025-07-01</td>\n",
       "      <td>2025</td>\n",
       "      <td>7</td>\n",
       "      <td>hotmail.com</td>\n",
       "    </tr>\n",
       "    <tr>\n",
       "      <th>9997</th>\n",
       "      <td>Unit 4434 Box 6343\\nDPO AE 28026-0283</td>\n",
       "      <td>74 Zh</td>\n",
       "      <td>AM</td>\n",
       "      <td>Mozilla/5.0 (Macintosh; U; Intel Mac OS X 10_7...</td>\n",
       "      <td>Anderson Ltd</td>\n",
       "      <td>6011539787356311</td>\n",
       "      <td>05/21</td>\n",
       "      <td>1</td>\n",
       "      <td>VISA 16 digit</td>\n",
       "      <td>tyler16@gmail.com</td>\n",
       "      <td>Veterinary surgeon</td>\n",
       "      <td>156.210.0.254</td>\n",
       "      <td>el</td>\n",
       "      <td>83.98</td>\n",
       "      <td>2021-05-01</td>\n",
       "      <td>2021</td>\n",
       "      <td>5</td>\n",
       "      <td>gmail.com</td>\n",
       "    </tr>\n",
       "    <tr>\n",
       "      <th>9998</th>\n",
       "      <td>0096 English Rest\\nRoystad, IA 12457</td>\n",
       "      <td>74 cL</td>\n",
       "      <td>PM</td>\n",
       "      <td>Mozilla/5.0 (Macintosh; Intel Mac OS X 10_8_8;...</td>\n",
       "      <td>Cook Inc</td>\n",
       "      <td>180003348082930</td>\n",
       "      <td>11/17</td>\n",
       "      <td>987</td>\n",
       "      <td>American Express</td>\n",
       "      <td>elizabethmoore@reid.net</td>\n",
       "      <td>Local government officer</td>\n",
       "      <td>55.78.26.143</td>\n",
       "      <td>es</td>\n",
       "      <td>38.84</td>\n",
       "      <td>2017-11-01</td>\n",
       "      <td>2017</td>\n",
       "      <td>11</td>\n",
       "      <td>reid.net</td>\n",
       "    </tr>\n",
       "    <tr>\n",
       "      <th>9999</th>\n",
       "      <td>40674 Barrett Stravenue\\nGrimesville, WI 79682</td>\n",
       "      <td>64 Hr</td>\n",
       "      <td>AM</td>\n",
       "      <td>Mozilla/5.0 (X11; Linux i686; rv:1.9.5.20) Gec...</td>\n",
       "      <td>Greene Inc</td>\n",
       "      <td>4139972901927273</td>\n",
       "      <td>02/19</td>\n",
       "      <td>302</td>\n",
       "      <td>JCB 15 digit</td>\n",
       "      <td>rachelford@vaughn.com</td>\n",
       "      <td>Embryologist, clinical</td>\n",
       "      <td>176.119.198.199</td>\n",
       "      <td>el</td>\n",
       "      <td>67.59</td>\n",
       "      <td>2019-02-01</td>\n",
       "      <td>2019</td>\n",
       "      <td>2</td>\n",
       "      <td>vaughn.com</td>\n",
       "    </tr>\n",
       "  </tbody>\n",
       "</table>\n",
       "<p>10000 rows × 18 columns</p>\n",
       "</div>"
      ],
      "text/plain": [
       "                                                Address    Lot AM or PM  \\\n",
       "0     16629 Pace Camp Apt. 448\\nAlexisborough, NE 77...  46 in       PM   \n",
       "1     9374 Jasmine Spurs Suite 508\\nSouth John, TN 8...  28 rn       PM   \n",
       "2                      Unit 0065 Box 5052\\nDPO AP 27450  94 vE       PM   \n",
       "3                 7780 Julia Fords\\nNew Stacy, WA 45798  36 vm       PM   \n",
       "4     23012 Munoz Drive Suite 337\\nNew Cynthia, TX 5...  20 IE       AM   \n",
       "...                                                 ...    ...      ...   \n",
       "9995      966 Castaneda Locks\\nWest Juliafurt, CO 96415  92 XI       PM   \n",
       "9996  832 Curtis Dam Suite 785\\nNorth Edwardburgh, T...  41 JY       AM   \n",
       "9997              Unit 4434 Box 6343\\nDPO AE 28026-0283  74 Zh       AM   \n",
       "9998               0096 English Rest\\nRoystad, IA 12457  74 cL       PM   \n",
       "9999     40674 Barrett Stravenue\\nGrimesville, WI 79682  64 Hr       AM   \n",
       "\n",
       "                                           Browser Info  \\\n",
       "0     Opera/9.56.(X11; Linux x86_64; sl-SI) Presto/2...   \n",
       "1     Opera/8.93.(Windows 98; Win 9x 4.90; en-US) Pr...   \n",
       "2     Mozilla/5.0 (compatible; MSIE 9.0; Windows NT ...   \n",
       "3     Mozilla/5.0 (Macintosh; Intel Mac OS X 10_8_0 ...   \n",
       "4     Opera/9.58.(X11; Linux x86_64; it-IT) Presto/2...   \n",
       "...                                                 ...   \n",
       "9995  Mozilla/5.0 (Windows NT 5.1) AppleWebKit/5352 ...   \n",
       "9996  Mozilla/5.0 (compatible; MSIE 9.0; Windows NT ...   \n",
       "9997  Mozilla/5.0 (Macintosh; U; Intel Mac OS X 10_7...   \n",
       "9998  Mozilla/5.0 (Macintosh; Intel Mac OS X 10_8_8;...   \n",
       "9999  Mozilla/5.0 (X11; Linux i686; rv:1.9.5.20) Gec...   \n",
       "\n",
       "                              Company       Credit Card CC Exp Date  \\\n",
       "0                     Martinez-Herman  6011929061123406       02/20   \n",
       "1     Fletcher, Richards and Whitaker  3337758169645356       11/18   \n",
       "2          Simpson, Williams and Pham      675957666125       08/19   \n",
       "3     Williams, Marshall and Buchanan  6011578504430710       02/24   \n",
       "4           Brown, Watson and Andrews  6011456623207998       10/25   \n",
       "...                               ...               ...         ...   \n",
       "9995                    Randall-Sloan   342945015358701       03/22   \n",
       "9996         Hale, Collins and Wilson   210033169205009       07/25   \n",
       "9997                     Anderson Ltd  6011539787356311       05/21   \n",
       "9998                         Cook Inc   180003348082930       11/17   \n",
       "9999                       Greene Inc  4139972901927273       02/19   \n",
       "\n",
       "      CC Security Code                  CC Provider  \\\n",
       "0                  900                 JCB 16 digit   \n",
       "1                  561                   Mastercard   \n",
       "2                  699                 JCB 16 digit   \n",
       "3                  384                     Discover   \n",
       "4                  678  Diners Club / Carte Blanche   \n",
       "...                ...                          ...   \n",
       "9995               838                 JCB 15 digit   \n",
       "9996               207                 JCB 16 digit   \n",
       "9997                 1                VISA 16 digit   \n",
       "9998               987             American Express   \n",
       "9999               302                 JCB 15 digit   \n",
       "\n",
       "                               Email                                     Job  \\\n",
       "0                  pdunlap@yahoo.com  Scientist, product/process development   \n",
       "1                 anthony41@reed.com                       Drilling engineer   \n",
       "2     amymiller@morales-harrison.com                Customer service manager   \n",
       "3        brent16@olson-robinson.info                       Drilling engineer   \n",
       "4        christopherwright@gmail.com                             Fine artist   \n",
       "...                              ...                                     ...   \n",
       "9995          iscott@wade-garner.com                              Printmaker   \n",
       "9996              mary85@hotmail.com                         Energy engineer   \n",
       "9997               tyler16@gmail.com                      Veterinary surgeon   \n",
       "9998         elizabethmoore@reid.net                Local government officer   \n",
       "9999           rachelford@vaughn.com                  Embryologist, clinical   \n",
       "\n",
       "           IP Address Language  Purchase Price converted_datetime  year  \\\n",
       "0     149.146.147.205       el           98.14         2020-02-01  2020   \n",
       "1        15.160.41.51       fr           70.73         2018-11-01  2018   \n",
       "2      132.207.160.22       de            0.95         2019-08-01  2019   \n",
       "3        30.250.74.19       es           78.04         2024-02-01  2024   \n",
       "4        24.140.33.94       es           77.82         2025-10-01  2025   \n",
       "...               ...      ...             ...                ...   ...   \n",
       "9995    29.73.197.114       it           82.21         2022-03-01  2022   \n",
       "9996   121.133.168.51       pt           25.63         2025-07-01  2025   \n",
       "9997    156.210.0.254       el           83.98         2021-05-01  2021   \n",
       "9998     55.78.26.143       es           38.84         2017-11-01  2017   \n",
       "9999  176.119.198.199       el           67.59         2019-02-01  2019   \n",
       "\n",
       "      month        Email Provider  \n",
       "0         2             yahoo.com  \n",
       "1        11              reed.com  \n",
       "2         8  morales-harrison.com  \n",
       "3         2   olson-robinson.info  \n",
       "4        10             gmail.com  \n",
       "...     ...                   ...  \n",
       "9995      3       wade-garner.com  \n",
       "9996      7           hotmail.com  \n",
       "9997      5             gmail.com  \n",
       "9998     11              reid.net  \n",
       "9999      2            vaughn.com  \n",
       "\n",
       "[10000 rows x 18 columns]"
      ]
     },
     "execution_count": 181,
     "metadata": {},
     "output_type": "execute_result"
    }
   ],
   "source": [
    "df['Email Provider'] = df['Email'].str.split('@').str[1]\n",
    "df"
   ]
  },
  {
   "cell_type": "code",
   "execution_count": 185,
   "id": "fd4979b2",
   "metadata": {},
   "outputs": [],
   "source": [
    "df['Email Provider'] = df['Email'].str.split('@').str[1]\n",
    "\n",
    "# Get the top email provider\n",
    "df['Email Provider'].value_counts().head()"
   ]
  }
 ],
 "metadata": {
  "kernelspec": {
   "display_name": "Python 3 (ipykernel)",
   "language": "python",
   "name": "python3"
  },
  "language_info": {
   "codemirror_mode": {
    "name": "ipython",
    "version": 3
   },
   "file_extension": ".py",
   "mimetype": "text/x-python",
   "name": "python",
   "nbconvert_exporter": "python",
   "pygments_lexer": "ipython3",
   "version": "3.11.3"
  }
 },
 "nbformat": 4,
 "nbformat_minor": 5
}
