{
 "cells": [
  {
   "cell_type": "code",
   "execution_count": 1,
   "id": "99f18529-4211-42da-bff7-38becc2140ac",
   "metadata": {},
   "outputs": [],
   "source": [
    "#nltk.download('all')\n",
    "import nltk\n",
    "from nltk.tokenize import sent_tokenize, word_tokenize"
   ]
  },
  {
   "cell_type": "code",
   "execution_count": 2,
   "id": "f67c7068-c0f9-4d29-996d-bb65117cef21",
   "metadata": {},
   "outputs": [],
   "source": [
    "text = \"Power BI integrates seamlessly with other Microsoft products such as Excel, SharePoint, Teams, and Azure service. With Power BI's built-in analytical capabilities. users can perform advanced data analysis, including slicing and dicing data, creating calculated measures and columns, and applying filters and drill-downs to explore data in detail.\""
   ]
  },
  {
   "cell_type": "code",
   "execution_count": 3,
   "id": "91d32687-ba60-4314-a65f-a2cabb3be50b",
   "metadata": {},
   "outputs": [
    {
     "data": {
      "text/plain": [
       "['Power BI integrates seamlessly with other Microsoft products such as Excel, SharePoint, Teams, and Azure service.',\n",
       " \"With Power BI's built-in analytical capabilities.\",\n",
       " 'users can perform advanced data analysis, including slicing and dicing data, creating calculated measures and columns, and applying filters and drill-downs to explore data in detail.']"
      ]
     },
     "execution_count": 3,
     "metadata": {},
     "output_type": "execute_result"
    }
   ],
   "source": [
    "tokened_sent = sent_tokenize(text)\n",
    "tokened_sent"
   ]
  },
  {
   "cell_type": "code",
   "execution_count": 4,
   "id": "955d59cd-645b-4f05-b72c-4a7b673e321c",
   "metadata": {},
   "outputs": [
    {
     "data": {
      "text/plain": [
       "['Power',\n",
       " 'BI',\n",
       " 'integrates',\n",
       " 'seamlessly',\n",
       " 'with',\n",
       " 'other',\n",
       " 'Microsoft',\n",
       " 'products',\n",
       " 'such',\n",
       " 'as',\n",
       " 'Excel',\n",
       " ',',\n",
       " 'SharePoint',\n",
       " ',',\n",
       " 'Teams',\n",
       " ',',\n",
       " 'and',\n",
       " 'Azure',\n",
       " 'service',\n",
       " '.',\n",
       " 'With',\n",
       " 'Power',\n",
       " 'BI',\n",
       " \"'s\",\n",
       " 'built-in',\n",
       " 'analytical',\n",
       " 'capabilities',\n",
       " '.',\n",
       " 'users',\n",
       " 'can',\n",
       " 'perform',\n",
       " 'advanced',\n",
       " 'data',\n",
       " 'analysis',\n",
       " ',',\n",
       " 'including',\n",
       " 'slicing',\n",
       " 'and',\n",
       " 'dicing',\n",
       " 'data',\n",
       " ',',\n",
       " 'creating',\n",
       " 'calculated',\n",
       " 'measures',\n",
       " 'and',\n",
       " 'columns',\n",
       " ',',\n",
       " 'and',\n",
       " 'applying',\n",
       " 'filters',\n",
       " 'and',\n",
       " 'drill-downs',\n",
       " 'to',\n",
       " 'explore',\n",
       " 'data',\n",
       " 'in',\n",
       " 'detail',\n",
       " '.']"
      ]
     },
     "execution_count": 4,
     "metadata": {},
     "output_type": "execute_result"
    }
   ],
   "source": [
    "word_token = word_tokenize(text)\n",
    "word_token"
   ]
  },
  {
   "cell_type": "code",
   "execution_count": 5,
   "id": "8e12d9fa-f686-4595-b356-f493f598f4b6",
   "metadata": {},
   "outputs": [],
   "source": [
    "from nltk.stem import PorterStemmer\n",
    "ps=PorterStemmer()"
   ]
  },
  {
   "cell_type": "code",
   "execution_count": 6,
   "id": "b98657bf-58ea-4a1a-afa2-f507e81138c2",
   "metadata": {},
   "outputs": [],
   "source": [
    "example=[ 'creating',\n",
    " 'created',\n",
    " 'creation',\n",
    " 'creative'\n",
    "]"
   ]
  },
  {
   "cell_type": "code",
   "execution_count": 7,
   "id": "3e0e6cf8-7c8a-447a-bd3a-e3ae2f4efcfa",
   "metadata": {},
   "outputs": [
    {
     "name": "stdout",
     "output_type": "stream",
     "text": [
      "creat\n",
      "creat\n",
      "creation\n",
      "creativ\n"
     ]
    }
   ],
   "source": [
    "for word in example:\n",
    "    print(ps.stem(word))"
   ]
  },
  {
   "cell_type": "code",
   "execution_count": 8,
   "id": "2faa8914-6d1e-49b3-b79c-252e1672c98e",
   "metadata": {},
   "outputs": [],
   "source": [
    "from nltk.stem import WordNetLemmatizer\n",
    "ws=WordNetLemmatizer()\n",
    "from nltk.stem import LancasterStemmer\n",
    "ls=LancasterStemmer()"
   ]
  },
  {
   "cell_type": "code",
   "execution_count": 9,
   "id": "275d7f61-a618-42c4-9029-0aef7146e48a",
   "metadata": {},
   "outputs": [],
   "source": [
    "example1=[ 'fly',\n",
    " 'flying',\n",
    " 'flies'\n",
    "]\n",
    "example2=[ 'is',\n",
    " 'am',\n",
    " 'are',\n",
    " 'better',\n",
    " 'good',\n",
    " 'best'\n",
    "]\n",
    "example3= [\"running\", \"ran\", \"runs\", \"easily\", \"fairly\", \"fairness\"]"
   ]
  },
  {
   "cell_type": "code",
   "execution_count": 10,
   "id": "b43a4cfe-cc4a-4de8-860d-a9b3b1dec7b7",
   "metadata": {},
   "outputs": [
    {
     "name": "stdout",
     "output_type": "stream",
     "text": [
      "run\n",
      "ran\n",
      "run\n",
      "easy\n",
      "fair\n",
      "fair\n"
     ]
    }
   ],
   "source": [
    "for word in example3:\n",
    "    print(ls.stem(word))"
   ]
  },
  {
   "cell_type": "code",
   "execution_count": 11,
   "id": "7baaaae4-0fb9-499b-8bd5-527cb409e7a2",
   "metadata": {},
   "outputs": [
    {
     "name": "stdout",
     "output_type": "stream",
     "text": [
      "running\n",
      "ran\n",
      "run\n",
      "easily\n",
      "fairly\n",
      "fairness\n"
     ]
    }
   ],
   "source": [
    "for word in example3:\n",
    "    print(ws.lemmatize(word))"
   ]
  },
  {
   "cell_type": "code",
   "execution_count": 15,
   "id": "0c91738f-ca7e-41e0-822b-a6008cfcfe78",
   "metadata": {},
   "outputs": [
    {
     "ename": "AttributeError",
     "evalue": "'NoneType' object has no attribute 'group'",
     "output_type": "error",
     "traceback": [
      "\u001b[0;31m---------------------------------------------------------------------------\u001b[0m",
      "\u001b[0;31mAttributeError\u001b[0m                            Traceback (most recent call last)",
      "Cell \u001b[0;32mIn[15], line 3\u001b[0m\n\u001b[1;32m      1\u001b[0m \u001b[38;5;28;01mimport\u001b[39;00m \u001b[38;5;21;01mre\u001b[39;00m\n\u001b[1;32m      2\u001b[0m rr \u001b[38;5;241m=\u001b[39m re\u001b[38;5;241m.\u001b[39mmatch(\u001b[38;5;124m\"\u001b[39m\u001b[38;5;124mSSWS\u001b[39m\u001b[38;5;124m\"\u001b[39m, \u001b[38;5;124m\"\u001b[39m\u001b[38;5;124mSSSwewew\u001b[39m\u001b[38;5;124m\"\u001b[39m)\n\u001b[0;32m----> 3\u001b[0m \u001b[38;5;28mprint\u001b[39m(rr\u001b[38;5;241m.\u001b[39mgroup())\n",
      "\u001b[0;31mAttributeError\u001b[0m: 'NoneType' object has no attribute 'group'"
     ]
    }
   ],
   "source": [
    "import re\n",
    "rr = re.match(\"SSWS\", \"SSSwewew\")\n",
    "print(rr.group())"
   ]
  },
  {
   "cell_type": "code",
   "execution_count": null,
   "id": "80f654e7",
   "metadata": {},
   "outputs": [],
   "source": []
  }
 ],
 "metadata": {
  "kernelspec": {
   "display_name": "Python 3 (ipykernel)",
   "language": "python",
   "name": "python3"
  },
  "language_info": {
   "codemirror_mode": {
    "name": "ipython",
    "version": 3
   },
   "file_extension": ".py",
   "mimetype": "text/x-python",
   "name": "python",
   "nbconvert_exporter": "python",
   "pygments_lexer": "ipython3",
   "version": "3.11.3"
  }
 },
 "nbformat": 4,
 "nbformat_minor": 5
}
